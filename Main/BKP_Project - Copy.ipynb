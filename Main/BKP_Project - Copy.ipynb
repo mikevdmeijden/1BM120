{
 "cells": [
  {
   "cell_type": "markdown",
   "metadata": {
    "id": "mhI1eNEXQCjK"
   },
   "source": [
    "# KnapsackV2\n",
    "1BM120"
   ]
  },
  {
   "cell_type": "markdown",
   "metadata": {
    "id": "G9qH33L_QoBk"
   },
   "source": [
    "    Import the neccary packages\n",
    "- `Numpy` for our Qtable\n",
    "- `OpenAI Gym` for our FrozenLake Environment\n",
    "- `Random` to generate random numbers\n",
    "- `Deque` to record cumulative reward over multiple episodes\n",
    "- `MatPlotlib` to generate plots"
   ]
  },
  {
   "cell_type": "code",
<<<<<<< HEAD
   "execution_count": 1,
=======
   "execution_count": 76,
>>>>>>> 907bb817b2e80b057fdd478f72709a8502f8ee02
   "metadata": {
    "id": "oU8zRXv8QHlm"
   },
   "outputs": [],
   "source": [
    "import numpy as np\n",
    "import gym\n",
    "import or_gym\n",
    "import random\n",
    "from collections import deque\n",
    "import matplotlib.pyplot as plt\n",
    "import pandas as pd\n",
    "#from mlxtend.plotting import scatterplotmatrix\n",
    "%matplotlib inline\n",
    "\n",
    "import tensorflow as tf\n",
    "from tensorflow import keras\n",
    "from tensorflow.keras import layers"
   ]
  },
  {
   "cell_type": "markdown",
   "metadata": {
    "id": "0fz-X3HTQueX"
   },
   "source": [
    "## Part 1: Explore Knapsack"
   ]
  },
  {
   "cell_type": "markdown",
   "metadata": {},
   "source": [
    " **Task 1:** \n",
    "- Create an instance of the environment\n",
    "- Print and plot the state and action space"
   ]
  },
  {
   "cell_type": "code",
   "execution_count": 2,
   "metadata": {
    "id": "mh9jBR_cQ5_a"
   },
   "outputs": [],
   "source": [
    "env = or_gym.make(\"Knapsack-v2\") # Create an  instance of the environment \n",
    "env.mask = False"
   ]
  },
  {
   "cell_type": "code",
   "execution_count": 3,
<<<<<<< HEAD
   "metadata": {},
   "outputs": [
    {
     "name": "stdout",
     "output_type": "stream",
     "text": [
      "None\n",
      "200\n"
     ]
    }
   ],
   "source": [
    "print(env.observation_space.shape)\n",
    "print(env.action_space.n)"
   ]
  },
  {
   "cell_type": "code",
   "execution_count": 22,
   "metadata": {},
   "outputs": [
    {
     "data": {
      "text/plain": [
       "Dict(action_mask:Box(0.0, 1.0, (200,), float32), avail_actions:Box(0.0, 1.0, (200,), float32), state:Box(0, 200, (3, 201), int32))"
      ]
     },
     "execution_count": 22,
     "metadata": {},
     "output_type": "execute_result"
    }
   ],
   "source": [
    "env.observation_space"
   ]
  },
  {
   "cell_type": "code",
   "execution_count": 20,
=======
>>>>>>> 907bb817b2e80b057fdd478f72709a8502f8ee02
   "metadata": {
    "colab": {
     "base_uri": "https://localhost:8080/"
    },
    "id": "8PdZVucK_jMf",
    "outputId": "c1aff157-3aa7-46c8-f368-0cc5de2af402",
    "scrolled": true
   },
   "outputs": [
    {
     "name": "stdout",
     "output_type": "stream",
     "text": [
      "Action space 200\n",
<<<<<<< HEAD
      "State space [[ 68  46  34  10  79  55  30  71  12  63  56  91  81  14   8  10  75  30\n",
      "   37  61   4   9  31  89   1  57  51  87  17  80  92  83  64  28  65  40\n",
      "   13  52  36  44  31  97  23  29  76  22   3  67  15   1  59  17   7  74\n",
      "   13  48  13  51  26  79  10   4   2  15  23  62  17  89  82  73  40  13\n",
      "   67  80   7  76  83  75  34  97  19  50  72  48  55  81  30  70  92  49\n",
      "   58   3   3  74  70  70  24  27  37  80  84   7  76  65  42  78  76   3\n",
      "   64  85  31  31  59  24  72  39  10  59  80  66  92   9  90  52  51  82\n",
      "   74  14  50  36  17  33  37  19   2   9  62   1  80  29  11  57   4  60\n",
      "    1  19  21  80  76  29  52  49  83  62  90  89  63  20  29  44  74  33\n",
      "   55   8  82  80   4  82   2  49  95  51  32  81  91  55  62  11  89  55\n",
      "   98   4  66  59  76  86  50  45  51  46  84   5  63   3  93  97  13  88\n",
      "   57  57 200]\n",
      " [ 89  28  16  50   7  41   4  58  99   2   1   1  63  27  87  62  21  60\n",
      "   67  21  78  24  76  75  62  26  67   2  56  11  58   9  68  51  80  63\n",
      "   55  13  24  48   5  21  67   9  60   0  13  26   2  65  60  88   3  27\n",
      "   33  95  28  90  56  63  71  82  22   2  22  57  85  12  98  73  51  61\n",
      "   39  50   4  30  27  22   0  95  94  27  11  78  81  96  69  69  11  62\n",
      "   42  17   3  20  82  51  65  40  51  39  45  38  24  58  49  56  47  67\n",
      "   58  91  47  78  74  20  38  87  19  98  41  54  47  24  41  18  98  47\n",
      "   39  41  23  33  72  92  53  44   5  37  46  42  62  86  90  20  53  97\n",
      "   17  63  98  18  87  51  43  23  88   8  32  76  85  72  80  56  91  67\n",
      "   20  65  63  98  81  76  56  60  44  54  52  69  53  38  90  30  11  69\n",
      "   51  39  89  75  13  22  94  82  17  36  26  75  39  15  74  57  54   1\n",
      "   52  53   0]\n",
      " [  6   7   3   1   7   9   6   4   9   2   5   6   9   2   9   3   6   3\n",
      "    6   6   3   9   2   9   4   1   4   3   2   2   7   5   9   9   3   6\n",
      "    9   6   1   1   1   1   8   5   9   9   4   4   7   3   4   8   8   8\n",
      "    8   1   7   6   9   4   2   8   2   6   6   6   2   8   7   5   2   2\n",
      "    8   5   4   3   9   5   6   6   9   3   3   6   4   2   2   5   6   8\n",
      "    6   7   3   6   3   1   4   7   3   3   2   3   7   3   6   6   3   4\n",
      "    3   7   3   9   1   3   4   5   1   9   8   3   3   6   7   2   9   3\n",
      "    7   6   4   1   9   1   7   9   9   3   7   3   1   1   3   5   5   7\n",
      "    7   3   7   4   7   8   2   5   6   4   2   3   9   5   9   8   8   8\n",
      "    7   2   6   6   2   8   4   6   2   7   1   8   1   7   5   4   1   4\n",
      "    6   9   2   4   3   2   9   9   9   5   2   8   3   7   7   7   1   5\n",
      "    9   1   0]]\n"
=======
      "State space [[  5  62  68   9  14  21  99  76  50  75   1  27  79  80  81  84  51  41\n",
      "   35  34  28  56  31  97  80  11  67  75  34  39  59  76  26  69  69  63\n",
      "   49  51  79  98   2  66  62  13   7  11  27  92  67   5  32  89  31  18\n",
      "   18  85  56  57  40  82  15  18  48  59  73   7  74  43  26  30  72   6\n",
      "   95  92  74  54  10  71   5  48  83  46   3   4  12  29  78   2  48  37\n",
      "   77  14  30  40  16  79  25  74  64  63  85  26  41  31  79  88  31  26\n",
      "   68  18  31  62  55  60  16   5  99  34  60   8  42  33  10  80  29  93\n",
      "    4  26  71   6  65   9  18  79  83  69  64  90  63  55   3  76  27  57\n",
      "   15  72  22  85  18  78  39  36  90  46  38  60  61  37   8  57  56  54\n",
      "   73  51  98  35  15  54  26   6  60  14  66  31  40  24  11  66  56  70\n",
      "   22  71  50  95  22  72  82  57  99  70  86  19  28  95  20  85  57  65\n",
      "   60  51 200]\n",
      " [ 73  90  22  49  74  20  89  27   2  81   0  80  10  14  50  83  81  76\n",
      "   20  52  81   6  55  49  68  74  54  79  69  21  58  39  82  67   5  41\n",
      "   17  68  12   3  70  27  97  28  38  68  23  26  36  77  11  35  65  49\n",
      "   27  70  82  30  31  12  86  21  10  12  71  88   4  99  92   2  28  56\n",
      "    8  71  34  84   3  67  14  11  24  28  52  30  72  14  14  71  17  67\n",
      "    5  64  50  25  96  48  68  90  96  97  62  27  26  34  25  84  43  96\n",
      "   77  52  85  79  17  79  81  77  82  26  22   4  78  81  58  18  63   2\n",
      "   92  35  84  27  97  75  30  98  39  87  81  62  40  77  46   7  72  61\n",
      "   44  32  81   1  91  98  93  35  97  51  24  40  30  55  56  66  88  94\n",
      "   38  14  76   1   0  27  89  86  59  47  16  44  19  78  28  77  66  99\n",
      "    7  29  94  22   7  18  63  35  27  99  73  84  55  77   5  79  11  82\n",
      "   24  69   0]\n",
      " [  3   5   9   4   2   4   7   6   3   1   2   3   9   6   3   8   8   4\n",
      "    8   7   8   3   5   6   4   6   4   7   6   1   9   8   3   6   5   5\n",
      "    5   6   9   3   9   5   6   2   9   8   6   5   9   6   3   3   1   6\n",
      "    2   9   4   3   1   3   2   3   9   1   5   2   2   3   5   4   5   9\n",
      "    1   9   2   5   9   1   7   5   7   2   6   9   3   2   9   5   4   1\n",
      "    5   4   8   6   6   9   7   4   6   4   3   7   4   5   8   4   3   9\n",
      "    9   6   9   3   3   6   9   5   4   7   8   1   7   9   9   1   8   1\n",
      "    3   1   2   1   8   4   2   1   7   5   5   2   3   7   7   6   6   1\n",
      "    8   2   8   1   6   1   3   7   5   7   7   1   7   1   3   7   9   8\n",
      "    9   1   9   8   8   7   9   6   3   8   2   6   2   4   5   9   9   1\n",
      "    3   9   7   3   3   1   2   5   5   5   5   3   4   3   4   1   6   7\n",
      "    7   2   0]]\n"
>>>>>>> 907bb817b2e80b057fdd478f72709a8502f8ee02
     ]
    }
   ],
   "source": [
    "state_space = env.reset() #Get number of states in an environment \n",
    "action_space = env.action_space.n #Get number of actions in an environment \n",
    "print('Action space', action_space)\n",
    "print('State space', state_space)\n",
    "#0: list of item weights\n",
    "#1: list of item values\n",
    "#2: list of item limits"
   ]
  },
  {
   "cell_type": "code",
<<<<<<< HEAD
   "execution_count": 21,
=======
   "execution_count": 4,
>>>>>>> 907bb817b2e80b057fdd478f72709a8502f8ee02
   "metadata": {},
   "outputs": [
    {
     "data": {
<<<<<<< HEAD
      "text/plain": [
       "numpy.ndarray"
      ]
     },
     "execution_count": 21,
     "metadata": {},
     "output_type": "execute_result"
    }
   ],
   "source": [
    "type(state_space)"
   ]
  },
  {
   "cell_type": "code",
   "execution_count": 7,
   "metadata": {},
   "outputs": [
    {
     "data": {
      "image/png": "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\n",
=======
      "image/png": "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\n",
>>>>>>> 907bb817b2e80b057fdd478f72709a8502f8ee02
      "text/plain": [
       "<Figure size 1080x360 with 3 Axes>"
      ]
     },
     "metadata": {
      "needs_background": "light"
     },
     "output_type": "display_data"
    }
   ],
   "source": [
    "# Plot of the state space\n",
    "\n",
    "fig, (ax1, ax2, ax3) = plt.subplots(1,3, figsize=(15, 5))\n",
    "\n",
    "ax1.hist(state_space[0])\n",
    "ax1.set_title(\"Items weight\")\n",
    "\n",
    "ax2.hist(state_space[1])\n",
    "ax2.set_title(\"Items value\")\n",
    "\n",
    "ax3.hist(state_space[2])\n",
    "ax3.set_title(\"Items limit\")\n",
    "\n",
    "plt.show()"
   ]
  },
  {
   "cell_type": "code",
<<<<<<< HEAD
   "execution_count": 8,
   "metadata": {},
   "outputs": [
    {
     "data": {
      "image/png": "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\n",
      "text/plain": [
       "<Figure size 1080x504 with 9 Axes>"
      ]
     },
     "metadata": {
      "needs_background": "light"
     },
     "output_type": "display_data"
=======
   "execution_count": 5,
   "metadata": {},
   "outputs": [
    {
     "ename": "NameError",
     "evalue": "name 'scatterplotmatrix' is not defined",
     "output_type": "error",
     "traceback": [
      "\u001b[1;31m---------------------------------------------------------------------------\u001b[0m",
      "\u001b[1;31mNameError\u001b[0m                                 Traceback (most recent call last)",
      "\u001b[1;32m<ipython-input-5-3fd0018ab5fa>\u001b[0m in \u001b[0;36m<module>\u001b[1;34m\u001b[0m\n\u001b[0;32m      1\u001b[0m \u001b[0mX\u001b[0m \u001b[1;33m=\u001b[0m \u001b[0mnp\u001b[0m\u001b[1;33m.\u001b[0m\u001b[0marray\u001b[0m\u001b[1;33m(\u001b[0m\u001b[1;33m[\u001b[0m\u001b[0mstate_space\u001b[0m\u001b[1;33m[\u001b[0m\u001b[1;36m0\u001b[0m\u001b[1;33m]\u001b[0m\u001b[1;33m,\u001b[0m \u001b[0mstate_space\u001b[0m\u001b[1;33m[\u001b[0m\u001b[1;36m1\u001b[0m\u001b[1;33m]\u001b[0m\u001b[1;33m,\u001b[0m \u001b[0mstate_space\u001b[0m\u001b[1;33m[\u001b[0m\u001b[1;36m2\u001b[0m\u001b[1;33m]\u001b[0m\u001b[1;33m]\u001b[0m\u001b[1;33m)\u001b[0m\u001b[1;33m.\u001b[0m\u001b[0mT\u001b[0m\u001b[1;33m\u001b[0m\u001b[1;33m\u001b[0m\u001b[0m\n\u001b[1;32m----> 2\u001b[1;33m \u001b[0mscatterplotmatrix\u001b[0m\u001b[1;33m(\u001b[0m\u001b[0mX\u001b[0m\u001b[1;33m,\u001b[0m \u001b[0mfigsize\u001b[0m\u001b[1;33m=\u001b[0m\u001b[1;33m(\u001b[0m\u001b[1;36m15\u001b[0m\u001b[1;33m,\u001b[0m \u001b[1;36m7\u001b[0m\u001b[1;33m)\u001b[0m\u001b[1;33m,\u001b[0m \u001b[0mnames\u001b[0m \u001b[1;33m=\u001b[0m \u001b[1;33m[\u001b[0m\u001b[1;34m\"Items weights\"\u001b[0m\u001b[1;33m,\u001b[0m \u001b[1;34m\"Items value\"\u001b[0m\u001b[1;33m,\u001b[0m \u001b[1;34m\"Items limit\"\u001b[0m\u001b[1;33m]\u001b[0m\u001b[1;33m)\u001b[0m\u001b[1;33m\u001b[0m\u001b[1;33m\u001b[0m\u001b[0m\n\u001b[0m\u001b[0;32m      3\u001b[0m \u001b[0mplt\u001b[0m\u001b[1;33m.\u001b[0m\u001b[0mtight_layout\u001b[0m\u001b[1;33m(\u001b[0m\u001b[1;33m)\u001b[0m\u001b[1;33m\u001b[0m\u001b[1;33m\u001b[0m\u001b[0m\n\u001b[0;32m      4\u001b[0m \u001b[0mplt\u001b[0m\u001b[1;33m.\u001b[0m\u001b[0mshow\u001b[0m\u001b[1;33m(\u001b[0m\u001b[1;33m)\u001b[0m\u001b[1;33m\u001b[0m\u001b[1;33m\u001b[0m\u001b[0m\n",
      "\u001b[1;31mNameError\u001b[0m: name 'scatterplotmatrix' is not defined"
     ]
>>>>>>> 907bb817b2e80b057fdd478f72709a8502f8ee02
    }
   ],
   "source": [
    "X = np.array([state_space[0], state_space[1], state_space[2]]).T\n",
    "scatterplotmatrix(X, figsize=(15, 7), names = [\"Items weights\", \"Items value\", \"Items limit\"])\n",
    "plt.tight_layout()\n",
    "plt.show()"
   ]
  },
  {
   "cell_type": "markdown",
   "metadata": {},
   "source": [
    "**Task 2:**\n",
    "- Sample an action from the environment.\n",
    "- Call the step function and inspect the outputs."
   ]
  },
  {
   "cell_type": "code",
<<<<<<< HEAD
   "execution_count": 9,
=======
   "execution_count": 6,
>>>>>>> 907bb817b2e80b057fdd478f72709a8502f8ee02
   "metadata": {},
   "outputs": [
    {
     "name": "stdout",
     "output_type": "stream",
     "text": [
<<<<<<< HEAD
      "55\n"
=======
      "184\n"
>>>>>>> 907bb817b2e80b057fdd478f72709a8502f8ee02
     ]
    }
   ],
   "source": [
    "state = env.reset()\n",
    "action = env.action_space.sample()# sample an action from the env instance\n",
    "print(action)"
   ]
  },
  {
   "cell_type": "code",
<<<<<<< HEAD
   "execution_count": 10,
=======
   "execution_count": 7,
>>>>>>> 907bb817b2e80b057fdd478f72709a8502f8ee02
   "metadata": {
    "scrolled": true
   },
   "outputs": [],
   "source": [
    "s = env.step(action)# call the step function of the env. and inspect quadruple of (state, reward, done, info)"
   ]
  },
  {
   "cell_type": "code",
   "execution_count": 11,
   "metadata": {},
   "outputs": [
    {
     "name": "stdout",
     "output_type": "stream",
     "text": [
      "[[ 68  46  34  10  79  55  30  71  12  63  56  91  81  14   8  10  75  30\n",
      "   37  61   4   9  31  89   1  57  51  87  17  80  92  83  64  28  65  40\n",
      "   13  52  36  44  31  97  23  29  76  22   3  67  15   1  59  17   7  74\n",
      "   13  48  13  51  26  79  10   4   2  15  23  62  17  89  82  73  40  13\n",
      "   67  80   7  76  83  75  34  97  19  50  72  48  55  81  30  70  92  49\n",
      "   58   3   3  74  70  70  24  27  37  80  84   7  76  65  42  78  76   3\n",
      "   64  85  31  31  59  24  72  39  10  59  80  66  92   9  90  52  51  82\n",
      "   74  14  50  36  17  33  37  19   2   9  62   1  80  29  11  57   4  60\n",
      "    1  19  21  80  76  29  52  49  83  62  90  89  63  20  29  44  74  33\n",
      "   55   8  82  80   4  82   2  49  95  51  32  81  91  55  62  11  89  55\n",
      "   98   4  66  59  76  86  50  45  51  46  84   5  63   3  93  97  13  88\n",
      "   57  57 200]\n",
      " [ 89  28  16  50   7  41   4  58  99   2   1   1  63  27  87  62  21  60\n",
      "   67  21  78  24  76  75  62  26  67   2  56  11  58   9  68  51  80  63\n",
      "   55  13  24  48   5  21  67   9  60   0  13  26   2  65  60  88   3  27\n",
      "   33  95  28  90  56  63  71  82  22   2  22  57  85  12  98  73  51  61\n",
      "   39  50   4  30  27  22   0  95  94  27  11  78  81  96  69  69  11  62\n",
      "   42  17   3  20  82  51  65  40  51  39  45  38  24  58  49  56  47  67\n",
      "   58  91  47  78  74  20  38  87  19  98  41  54  47  24  41  18  98  47\n",
      "   39  41  23  33  72  92  53  44   5  37  46  42  62  86  90  20  53  97\n",
      "   17  63  98  18  87  51  43  23  88   8  32  76  85  72  80  56  91  67\n",
      "   20  65  63  98  81  76  56  60  44  54  52  69  53  38  90  30  11  69\n",
      "   51  39  89  75  13  22  94  82  17  36  26  75  39  15  74  57  54   1\n",
      "   52  53  48]\n",
      " [  6   7   3   1   7   9   6   4   9   2   5   6   9   2   9   3   6   3\n",
      "    6   6   3   9   2   9   4   1   4   3   2   2   7   5   9   9   3   6\n",
      "    9   6   1   1   1   1   8   5   9   9   4   4   7   3   4   8   8   8\n",
      "    8   0   7   6   9   4   2   8   2   6   6   6   2   8   7   5   2   2\n",
      "    8   5   4   3   9   5   6   6   9   3   3   6   4   2   2   5   6   8\n",
      "    6   7   3   6   3   1   4   7   3   3   2   3   7   3   6   6   3   4\n",
      "    3   7   3   9   1   3   4   5   1   9   8   3   3   6   7   2   9   3\n",
      "    7   6   4   1   9   1   7   9   9   3   7   3   1   1   3   5   5   7\n",
      "    7   3   7   4   7   8   2   5   6   4   2   3   9   5   9   8   8   8\n",
      "    7   2   6   6   2   8   4   6   2   7   1   8   1   7   5   4   1   4\n",
      "    6   9   2   4   3   2   9   9   9   5   2   8   3   7   7   7   1   5\n",
      "    9   1   0]]\n",
      "201\n",
      "201\n",
      "201\n"
     ]
    }
   ],
   "source": [
    "print(s[0])\n",
    "print(len(s[0][0]))\n",
    "print(len(s[0][1]))\n",
    "print(len(s[0][2]))"
   ]
  },
  {
   "cell_type": "code",
   "execution_count": 27,
   "metadata": {},
   "outputs": [
    {
     "data": {
      "text/plain": [
<<<<<<< HEAD
       "(600,)"
      ]
     },
     "execution_count": 27,
=======
       "(array([[  5,  62,  68,   9,  14,  21,  99,  76,  50,  75,   1,  27,  79,\n",
       "          80,  81,  84,  51,  41,  35,  34,  28,  56,  31,  97,  80,  11,\n",
       "          67,  75,  34,  39,  59,  76,  26,  69,  69,  63,  49,  51,  79,\n",
       "          98,   2,  66,  62,  13,   7,  11,  27,  92,  67,   5,  32,  89,\n",
       "          31,  18,  18,  85,  56,  57,  40,  82,  15,  18,  48,  59,  73,\n",
       "           7,  74,  43,  26,  30,  72,   6,  95,  92,  74,  54,  10,  71,\n",
       "           5,  48,  83,  46,   3,   4,  12,  29,  78,   2,  48,  37,  77,\n",
       "          14,  30,  40,  16,  79,  25,  74,  64,  63,  85,  26,  41,  31,\n",
       "          79,  88,  31,  26,  68,  18,  31,  62,  55,  60,  16,   5,  99,\n",
       "          34,  60,   8,  42,  33,  10,  80,  29,  93,   4,  26,  71,   6,\n",
       "          65,   9,  18,  79,  83,  69,  64,  90,  63,  55,   3,  76,  27,\n",
       "          57,  15,  72,  22,  85,  18,  78,  39,  36,  90,  46,  38,  60,\n",
       "          61,  37,   8,  57,  56,  54,  73,  51,  98,  35,  15,  54,  26,\n",
       "           6,  60,  14,  66,  31,  40,  24,  11,  66,  56,  70,  22,  71,\n",
       "          50,  95,  22,  72,  82,  57,  99,  70,  86,  19,  28,  95,  20,\n",
       "          85,  57,  65,  60,  51, 200],\n",
       "        [ 73,  90,  22,  49,  74,  20,  89,  27,   2,  81,   0,  80,  10,\n",
       "          14,  50,  83,  81,  76,  20,  52,  81,   6,  55,  49,  68,  74,\n",
       "          54,  79,  69,  21,  58,  39,  82,  67,   5,  41,  17,  68,  12,\n",
       "           3,  70,  27,  97,  28,  38,  68,  23,  26,  36,  77,  11,  35,\n",
       "          65,  49,  27,  70,  82,  30,  31,  12,  86,  21,  10,  12,  71,\n",
       "          88,   4,  99,  92,   2,  28,  56,   8,  71,  34,  84,   3,  67,\n",
       "          14,  11,  24,  28,  52,  30,  72,  14,  14,  71,  17,  67,   5,\n",
       "          64,  50,  25,  96,  48,  68,  90,  96,  97,  62,  27,  26,  34,\n",
       "          25,  84,  43,  96,  77,  52,  85,  79,  17,  79,  81,  77,  82,\n",
       "          26,  22,   4,  78,  81,  58,  18,  63,   2,  92,  35,  84,  27,\n",
       "          97,  75,  30,  98,  39,  87,  81,  62,  40,  77,  46,   7,  72,\n",
       "          61,  44,  32,  81,   1,  91,  98,  93,  35,  97,  51,  24,  40,\n",
       "          30,  55,  56,  66,  88,  94,  38,  14,  76,   1,   0,  27,  89,\n",
       "          86,  59,  47,  16,  44,  19,  78,  28,  77,  66,  99,   7,  29,\n",
       "          94,  22,   7,  18,  63,  35,  27,  99,  73,  84,  55,  77,   5,\n",
       "          79,  11,  82,  24,  69,  22],\n",
       "        [  3,   5,   9,   4,   2,   4,   7,   6,   3,   1,   2,   3,   9,\n",
       "           6,   3,   8,   8,   4,   8,   7,   8,   3,   5,   6,   4,   6,\n",
       "           4,   7,   6,   1,   9,   8,   3,   6,   5,   5,   5,   6,   9,\n",
       "           3,   9,   5,   6,   2,   9,   8,   6,   5,   9,   6,   3,   3,\n",
       "           1,   6,   2,   9,   4,   3,   1,   3,   2,   3,   9,   1,   5,\n",
       "           2,   2,   3,   5,   4,   5,   9,   1,   9,   2,   5,   9,   1,\n",
       "           7,   5,   7,   2,   6,   9,   3,   2,   9,   5,   4,   1,   5,\n",
       "           4,   8,   6,   6,   9,   7,   4,   6,   4,   3,   7,   4,   5,\n",
       "           8,   4,   3,   9,   9,   6,   9,   3,   3,   6,   9,   5,   4,\n",
       "           7,   8,   1,   7,   9,   9,   1,   8,   1,   3,   1,   2,   1,\n",
       "           8,   4,   2,   1,   7,   5,   5,   2,   3,   7,   7,   6,   6,\n",
       "           1,   8,   2,   8,   1,   6,   1,   3,   7,   5,   7,   7,   1,\n",
       "           7,   1,   3,   7,   9,   8,   9,   1,   9,   8,   8,   7,   9,\n",
       "           6,   3,   8,   2,   6,   2,   4,   5,   9,   9,   1,   3,   9,\n",
       "           7,   3,   2,   1,   2,   5,   5,   5,   5,   3,   4,   3,   4,\n",
       "           1,   6,   7,   7,   2,   0]]),\n",
       " 7,\n",
       " False,\n",
       " {})"
      ]
     },
     "execution_count": 7,
>>>>>>> 907bb817b2e80b057fdd478f72709a8502f8ee02
     "metadata": {},
     "output_type": "execute_result"
    }
   ],
   "source": [
<<<<<<< HEAD
    "state_space.flatten(\"F\")[:-3].shape"
=======
    "env.step(action)# call the step function of the env. and inspect quadruple of (state, reward, done, info)\n"
>>>>>>> 907bb817b2e80b057fdd478f72709a8502f8ee02
   ]
  },
  {
   "cell_type": "code",
   "execution_count": 28,
   "metadata": {},
   "outputs": [
    {
     "data": {
      "text/plain": [
       "0"
      ]
     },
     "execution_count": 28,
     "metadata": {},
     "output_type": "execute_result"
    }
   ],
   "source": []
  },
  {
   "cell_type": "markdown",
   "metadata": {
    "id": "_dQ6sZJR-39K"
   },
   "source": [
    "**Task 3:**\n",
    "- Randomly interact with the envrionment for two episodes.  "
   ]
  },
  {
   "cell_type": "code",
<<<<<<< HEAD
   "execution_count": 12,
=======
   "execution_count": 115,
>>>>>>> 907bb817b2e80b057fdd478f72709a8502f8ee02
   "metadata": {
    "colab": {
     "base_uri": "https://localhost:8080/"
    },
    "id": "WkS_hnft-3A2",
    "outputId": "448fa484-b06b-43a6-c4e5-650e0bef88ae"
   },
   "outputs": [
    {
     "name": "stdout",
     "output_type": "stream",
     "text": [
      "\n",
      "EPISODE  0\n",
      "__________\n",
<<<<<<< HEAD
      "Item 61 with a reward of 38 and weight 12\n",
      "Item 21 with a reward of 47 and weight 62\n",
      "Item 169 with a reward of 22 and weight 68\n",
      "Item 193 with a reward of 29 and weight 8\n",
      "Item 194 with a reward of 0 and weight 54\n",
      "\n",
      "Item 194 exceeded the limit which has a weight of 54\n",
      "Total weight sack =\t 8\n",
      "Number of items =\t 4\n",
      "Total reward =\t 136\n",
      "\n",
      "EPISODE  1\n",
      "__________\n",
      "Item 107 with a reward of 83 and weight 15\n",
      "Item 24 with a reward of 49 and weight 88\n",
      "Item 12 with a reward of 13 and weight 17\n",
      "Item 34 with a reward of 85 and weight 80\n",
      "\n",
      "Item 34 exceeded the limit which has a weight of 80\n",
      "Total weight sack =\t 17\n",
      "Number of items =\t 3\n",
      "Total reward =\t 145\n"
=======
      "[[  5  62  68   9  14  21  99  76  50  75   1  27  79  80  81  84  51  41\n",
      "   35  34  28  56  31  97  80  11  67  75  34  39  59  76  26  69  69  63\n",
      "   49  51  79  98   2  66  62  13   7  11  27  92  67   5  32  89  31  18\n",
      "   18  85  56  57  40  82  15  18  48  59  73   7  74  43  26  30  72   6\n",
      "   95  92  74  54  10  71   5  48  83  46   3   4  12  29  78   2  48  37\n",
      "   77  14  30  40  16  79  25  74  64  63  85  26  41  31  79  88  31  26\n",
      "   68  18  31  62  55  60  16   5  99  34  60   8  42  33  10  80  29  93\n",
      "    4  26  71   6  65   9  18  79  83  69  64  90  63  55   3  76  27  57\n",
      "   15  72  22  85  18  78  39  36  90  46  38  60  61  37   8  57  56  54\n",
      "   73  51  98  35  15  54  26   6  60  14  66  31  40  24  11  66  56  70\n",
      "   22  71  50  95  22  72  82  57  99  70  86  19  28  95  20  85  57  65\n",
      "   60  51 200]\n",
      " [ 73  90  22  49  74  20  89  27   2  81   0  80  10  14  50  83  81  76\n",
      "   20  52  81   6  55  49  68  74  54  79  69  21  58  39  82  67   5  41\n",
      "   17  68  12   3  70  27  97  28  38  68  23  26  36  77  11  35  65  49\n",
      "   27  70  82  30  31  12  86  21  10  12  71  88   4  99  92   2  28  56\n",
      "    8  71  34  84   3  67  14  11  24  28  52  30  72  14  14  71  17  67\n",
      "    5  64  50  25  96  48  68  90  96  97  62  27  26  34  25  84  43  96\n",
      "   77  52  85  79  17  79  81  77  82  26  22   4  78  81  58  18  63   2\n",
      "   92  35  84  27  97  75  30  98  39  87  81  62  40  77  46   7  72  61\n",
      "   44  32  81   1  91  98  93  35  97  51  24  40  30  55  56  66  88  94\n",
      "   38  14  76   1   0  27  89  86  59  47  16  44  19  78  28  77  66  99\n",
      "    7  29  94  22   7  18  63  35  27  99  73  84  55  77   5  79  11  82\n",
      "   24  69  36]\n",
      " [  3   5   9   4   2   4   7   6   3   1   2   3   9   6   3   8   8   4\n",
      "    8   7   8   3   5   6   4   6   4   7   6   1   9   8   3   6   5   5\n",
      "    5   6   9   3   9   5   6   2   9   8   6   5   9   6   3   3   1   6\n",
      "    2   9   4   3   1   3   2   3   9   1   5   2   2   3   5   4   5   9\n",
      "    1   9   2   5   9   1   7   5   7   2   6   9   3   2   9   5   4   1\n",
      "    5   4   8   6   6   9   7   4   6   4   3   7   4   5   8   4   3   9\n",
      "    9   6   9   3   3   6   9   5   4   7   8   1   7   9   9   1   8   1\n",
      "    3   1   2   1   8   4   2   1   7   5   5   2   3   7   7   6   6   1\n",
      "    8   2   8   1   6   1   3   6   5   7   7   1   7   1   3   7   9   8\n",
      "    9   1   9   8   8   7   9   6   3   8   2   6   2   4   5   9   9   1\n",
      "    3   9   7   3   3   1   2   5   5   5   5   3   4   3   4   1   6   7\n",
      "    7   2   0]]\n",
      "Item 151 with a reward of 35\n",
      "[[  5  62  68   9  14  21  99  76  50  75   1  27  79  80  81  84  51  41\n",
      "   35  34  28  56  31  97  80  11  67  75  34  39  59  76  26  69  69  63\n",
      "   49  51  79  98   2  66  62  13   7  11  27  92  67   5  32  89  31  18\n",
      "   18  85  56  57  40  82  15  18  48  59  73   7  74  43  26  30  72   6\n",
      "   95  92  74  54  10  71   5  48  83  46   3   4  12  29  78   2  48  37\n",
      "   77  14  30  40  16  79  25  74  64  63  85  26  41  31  79  88  31  26\n",
      "   68  18  31  62  55  60  16   5  99  34  60   8  42  33  10  80  29  93\n",
      "    4  26  71   6  65   9  18  79  83  69  64  90  63  55   3  76  27  57\n",
      "   15  72  22  85  18  78  39  36  90  46  38  60  61  37   8  57  56  54\n",
      "   73  51  98  35  15  54  26   6  60  14  66  31  40  24  11  66  56  70\n",
      "   22  71  50  95  22  72  82  57  99  70  86  19  28  95  20  85  57  65\n",
      "   60  51 200]\n",
      " [ 73  90  22  49  74  20  89  27   2  81   0  80  10  14  50  83  81  76\n",
      "   20  52  81   6  55  49  68  74  54  79  69  21  58  39  82  67   5  41\n",
      "   17  68  12   3  70  27  97  28  38  68  23  26  36  77  11  35  65  49\n",
      "   27  70  82  30  31  12  86  21  10  12  71  88   4  99  92   2  28  56\n",
      "    8  71  34  84   3  67  14  11  24  28  52  30  72  14  14  71  17  67\n",
      "    5  64  50  25  96  48  68  90  96  97  62  27  26  34  25  84  43  96\n",
      "   77  52  85  79  17  79  81  77  82  26  22   4  78  81  58  18  63   2\n",
      "   92  35  84  27  97  75  30  98  39  87  81  62  40  77  46   7  72  61\n",
      "   44  32  81   1  91  98  93  35  97  51  24  40  30  55  56  66  88  94\n",
      "   38  14  76   1   0  27  89  86  59  47  16  44  19  78  28  77  66  99\n",
      "    7  29  94  22   7  18  63  35  27  99  73  84  55  77   5  79  11  82\n",
      "   24  69  47]\n",
      " [  3   5   9   4   2   4   7   6   3   1   2   3   9   6   3   8   8   4\n",
      "    8   7   8   3   5   6   4   5   4   7   6   1   9   8   3   6   5   5\n",
      "    5   6   9   3   9   5   6   2   9   8   6   5   9   6   3   3   1   6\n",
      "    2   9   4   3   1   3   2   3   9   1   5   2   2   3   5   4   5   9\n",
      "    1   9   2   5   9   1   7   5   7   2   6   9   3   2   9   5   4   1\n",
      "    5   4   8   6   6   9   7   4   6   4   3   7   4   5   8   4   3   9\n",
      "    9   6   9   3   3   6   9   5   4   7   8   1   7   9   9   1   8   1\n",
      "    3   1   2   1   8   4   2   1   7   5   5   2   3   7   7   6   6   1\n",
      "    8   2   8   1   6   1   3   6   5   7   7   1   7   1   3   7   9   8\n",
      "    9   1   9   8   8   7   9   6   3   8   2   6   2   4   5   9   9   1\n",
      "    3   9   7   3   3   1   2   5   5   5   5   3   4   3   4   1   6   7\n",
      "    7   2   0]]\n",
      "Item 25 with a reward of 74\n",
      "[[  5  62  68   9  14  21  99  76  50  75   1  27  79  80  81  84  51  41\n",
      "   35  34  28  56  31  97  80  11  67  75  34  39  59  76  26  69  69  63\n",
      "   49  51  79  98   2  66  62  13   7  11  27  92  67   5  32  89  31  18\n",
      "   18  85  56  57  40  82  15  18  48  59  73   7  74  43  26  30  72   6\n",
      "   95  92  74  54  10  71   5  48  83  46   3   4  12  29  78   2  48  37\n",
      "   77  14  30  40  16  79  25  74  64  63  85  26  41  31  79  88  31  26\n",
      "   68  18  31  62  55  60  16   5  99  34  60   8  42  33  10  80  29  93\n",
      "    4  26  71   6  65   9  18  79  83  69  64  90  63  55   3  76  27  57\n",
      "   15  72  22  85  18  78  39  36  90  46  38  60  61  37   8  57  56  54\n",
      "   73  51  98  35  15  54  26   6  60  14  66  31  40  24  11  66  56  70\n",
      "   22  71  50  95  22  72  82  57  99  70  86  19  28  95  20  85  57  65\n",
      "   60  51 200]\n",
      " [ 73  90  22  49  74  20  89  27   2  81   0  80  10  14  50  83  81  76\n",
      "   20  52  81   6  55  49  68  74  54  79  69  21  58  39  82  67   5  41\n",
      "   17  68  12   3  70  27  97  28  38  68  23  26  36  77  11  35  65  49\n",
      "   27  70  82  30  31  12  86  21  10  12  71  88   4  99  92   2  28  56\n",
      "    8  71  34  84   3  67  14  11  24  28  52  30  72  14  14  71  17  67\n",
      "    5  64  50  25  96  48  68  90  96  97  62  27  26  34  25  84  43  96\n",
      "   77  52  85  79  17  79  81  77  82  26  22   4  78  81  58  18  63   2\n",
      "   92  35  84  27  97  75  30  98  39  87  81  62  40  77  46   7  72  61\n",
      "   44  32  81   1  91  98  93  35  97  51  24  40  30  55  56  66  88  94\n",
      "   38  14  76   1   0  27  89  86  59  47  16  44  19  78  28  77  66  99\n",
      "    7  29  94  22   7  18  63  35  27  99  73  84  55  77   5  79  11  82\n",
      "   24  69  75]\n",
      " [  3   5   9   4   2   4   7   6   3   1   2   3   9   6   3   8   8   4\n",
      "    8   7   7   3   5   6   4   5   4   7   6   1   9   8   3   6   5   5\n",
      "    5   6   9   3   9   5   6   2   9   8   6   5   9   6   3   3   1   6\n",
      "    2   9   4   3   1   3   2   3   9   1   5   2   2   3   5   4   5   9\n",
      "    1   9   2   5   9   1   7   5   7   2   6   9   3   2   9   5   4   1\n",
      "    5   4   8   6   6   9   7   4   6   4   3   7   4   5   8   4   3   9\n",
      "    9   6   9   3   3   6   9   5   4   7   8   1   7   9   9   1   8   1\n",
      "    3   1   2   1   8   4   2   1   7   5   5   2   3   7   7   6   6   1\n",
      "    8   2   8   1   6   1   3   6   5   7   7   1   7   1   3   7   9   8\n",
      "    9   1   9   8   8   7   9   6   3   8   2   6   2   4   5   9   9   1\n",
      "    3   9   7   3   3   1   2   5   5   5   5   3   4   3   4   1   6   7\n",
      "    7   2   0]]\n",
      "Item 20 with a reward of 81\n",
      "[[  5  62  68   9  14  21  99  76  50  75   1  27  79  80  81  84  51  41\n",
      "   35  34  28  56  31  97  80  11  67  75  34  39  59  76  26  69  69  63\n",
      "   49  51  79  98   2  66  62  13   7  11  27  92  67   5  32  89  31  18\n",
      "   18  85  56  57  40  82  15  18  48  59  73   7  74  43  26  30  72   6\n",
      "   95  92  74  54  10  71   5  48  83  46   3   4  12  29  78   2  48  37\n",
      "   77  14  30  40  16  79  25  74  64  63  85  26  41  31  79  88  31  26\n",
      "   68  18  31  62  55  60  16   5  99  34  60   8  42  33  10  80  29  93\n",
      "    4  26  71   6  65   9  18  79  83  69  64  90  63  55   3  76  27  57\n",
      "   15  72  22  85  18  78  39  36  90  46  38  60  61  37   8  57  56  54\n",
      "   73  51  98  35  15  54  26   6  60  14  66  31  40  24  11  66  56  70\n",
      "   22  71  50  95  22  72  82  57  99  70  86  19  28  95  20  85  57  65\n",
      "   60  51 200]\n",
      " [ 73  90  22  49  74  20  89  27   2  81   0  80  10  14  50  83  81  76\n",
      "   20  52  81   6  55  49  68  74  54  79  69  21  58  39  82  67   5  41\n",
      "   17  68  12   3  70  27  97  28  38  68  23  26  36  77  11  35  65  49\n",
      "   27  70  82  30  31  12  86  21  10  12  71  88   4  99  92   2  28  56\n",
      "    8  71  34  84   3  67  14  11  24  28  52  30  72  14  14  71  17  67\n",
      "    5  64  50  25  96  48  68  90  96  97  62  27  26  34  25  84  43  96\n",
      "   77  52  85  79  17  79  81  77  82  26  22   4  78  81  58  18  63   2\n",
      "   92  35  84  27  97  75  30  98  39  87  81  62  40  77  46   7  72  61\n",
      "   44  32  81   1  91  98  93  35  97  51  24  40  30  55  56  66  88  94\n",
      "   38  14  76   1   0  27  89  86  59  47  16  44  19  78  28  77  66  99\n",
      "    7  29  94  22   7  18  63  35  27  99  73  84  55  77   5  79  11  82\n",
      "   24  69 155]\n",
      " [  3   5   9   4   2   4   7   6   3   1   2   3   9   6   3   8   8   4\n",
      "    8   7   7   3   5   6   4   5   4   7   6   1   9   8   3   6   5   5\n",
      "    5   6   9   3   9   5   6   2   9   8   6   5   9   6   3   3   1   6\n",
      "    2   9   4   3   1   3   2   3   9   1   5   2   2   3   5   4   5   9\n",
      "    1   9   2   5   9   1   7   5   7   2   6   9   3   2   9   5   4   1\n",
      "    5   4   8   6   6   9   7   4   6   4   3   7   4   5   8   4   3   9\n",
      "    9   6   9   3   3   6   9   5   4   7   8   1   7   9   9   0   8   1\n",
      "    3   1   2   1   8   4   2   1   7   5   5   2   3   7   7   6   6   1\n",
      "    8   2   8   1   6   1   3   6   5   7   7   1   7   1   3   7   9   8\n",
      "    9   1   9   8   8   7   9   6   3   8   2   6   2   4   5   9   9   1\n",
      "    3   9   7   3   3   1   2   5   5   5   5   3   4   3   4   1   6   7\n",
      "    7   2   0]]\n",
      "Item 123 with a reward of 18\n",
      "[[  5  62  68   9  14  21  99  76  50  75   1  27  79  80  81  84  51  41\n",
      "   35  34  28  56  31  97  80  11  67  75  34  39  59  76  26  69  69  63\n",
      "   49  51  79  98   2  66  62  13   7  11  27  92  67   5  32  89  31  18\n",
      "   18  85  56  57  40  82  15  18  48  59  73   7  74  43  26  30  72   6\n",
      "   95  92  74  54  10  71   5  48  83  46   3   4  12  29  78   2  48  37\n",
      "   77  14  30  40  16  79  25  74  64  63  85  26  41  31  79  88  31  26\n",
      "   68  18  31  62  55  60  16   5  99  34  60   8  42  33  10  80  29  93\n",
      "    4  26  71   6  65   9  18  79  83  69  64  90  63  55   3  76  27  57\n",
      "   15  72  22  85  18  78  39  36  90  46  38  60  61  37   8  57  56  54\n",
      "   73  51  98  35  15  54  26   6  60  14  66  31  40  24  11  66  56  70\n",
      "   22  71  50  95  22  72  82  57  99  70  86  19  28  95  20  85  57  65\n",
      "   60  51 200]\n",
      " [ 73  90  22  49  74  20  89  27   2  81   0  80  10  14  50  83  81  76\n",
      "   20  52  81   6  55  49  68  74  54  79  69  21  58  39  82  67   5  41\n",
      "   17  68  12   3  70  27  97  28  38  68  23  26  36  77  11  35  65  49\n",
      "   27  70  82  30  31  12  86  21  10  12  71  88   4  99  92   2  28  56\n",
      "    8  71  34  84   3  67  14  11  24  28  52  30  72  14  14  71  17  67\n",
      "    5  64  50  25  96  48  68  90  96  97  62  27  26  34  25  84  43  96\n",
      "   77  52  85  79  17  79  81  77  82  26  22   4  78  81  58  18  63   2\n",
      "   92  35  84  27  97  75  30  98  39  87  81  62  40  77  46   7  72  61\n",
      "   44  32  81   1  91  98  93  35  97  51  24  40  30  55  56  66  88  94\n",
      "   38  14  76   1   0  27  89  86  59  47  16  44  19  78  28  77  66  99\n",
      "    7  29  94  22   7  18  63  35  27  99  73  84  55  77   5  79  11  82\n",
      "   24  69 173]\n",
      " [  3   5   9   4   2   4   7   6   3   1   2   3   9   6   3   8   8   4\n",
      "    8   7   7   3   5   6   4   5   4   7   6   1   9   8   3   6   5   5\n",
      "    5   6   9   3   9   5   6   2   9   8   6   5   9   6   3   3   1   6\n",
      "    2   9   4   3   1   3   2   3   9   1   5   2   2   3   5   4   5   9\n",
      "    1   9   2   5   9   1   7   5   7   2   6   9   3   2   9   5   4   1\n",
      "    5   4   8   6   6   9   7   4   6   4   3   7   4   5   8   4   3   9\n",
      "    9   6   9   3   3   6   9   5   4   7   8   1   7   9   9   0   8   1\n",
      "    3   1   2   1   8   4   1   1   7   5   5   2   3   7   7   6   6   1\n",
      "    8   2   8   1   6   1   3   6   5   7   7   1   7   1   3   7   9   8\n",
      "    9   1   9   8   8   7   9   6   3   8   2   6   2   4   5   9   9   1\n",
      "    3   9   7   3   3   1   2   5   5   5   5   3   4   3   4   1   6   7\n",
      "    7   2   0]]\n",
      "Item 132 with a reward of 30\n",
      "[[  5  62  68   9  14  21  99  76  50  75   1  27  79  80  81  84  51  41\n",
      "   35  34  28  56  31  97  80  11  67  75  34  39  59  76  26  69  69  63\n",
      "   49  51  79  98   2  66  62  13   7  11  27  92  67   5  32  89  31  18\n",
      "   18  85  56  57  40  82  15  18  48  59  73   7  74  43  26  30  72   6\n",
      "   95  92  74  54  10  71   5  48  83  46   3   4  12  29  78   2  48  37\n",
      "   77  14  30  40  16  79  25  74  64  63  85  26  41  31  79  88  31  26\n",
      "   68  18  31  62  55  60  16   5  99  34  60   8  42  33  10  80  29  93\n",
      "    4  26  71   6  65   9  18  79  83  69  64  90  63  55   3  76  27  57\n",
      "   15  72  22  85  18  78  39  36  90  46  38  60  61  37   8  57  56  54\n",
      "   73  51  98  35  15  54  26   6  60  14  66  31  40  24  11  66  56  70\n",
      "   22  71  50  95  22  72  82  57  99  70  86  19  28  95  20  85  57  65\n",
      "   60  51 200]\n",
      " [ 73  90  22  49  74  20  89  27   2  81   0  80  10  14  50  83  81  76\n",
      "   20  52  81   6  55  49  68  74  54  79  69  21  58  39  82  67   5  41\n",
      "   17  68  12   3  70  27  97  28  38  68  23  26  36  77  11  35  65  49\n",
      "   27  70  82  30  31  12  86  21  10  12  71  88   4  99  92   2  28  56\n",
      "    8  71  34  84   3  67  14  11  24  28  52  30  72  14  14  71  17  67\n",
      "    5  64  50  25  96  48  68  90  96  97  62  27  26  34  25  84  43  96\n",
      "   77  52  85  79  17  79  81  77  82  26  22   4  78  81  58  18  63   2\n",
      "   92  35  84  27  97  75  30  98  39  87  81  62  40  77  46   7  72  61\n",
      "   44  32  81   1  91  98  93  35  97  51  24  40  30  55  56  66  88  94\n",
      "   38  14  76   1   0  27  89  86  59  47  16  44  19  78  28  77  66  99\n",
      "    7  29  94  22   7  18  63  35  27  99  73  84  55  77   5  79  11  82\n",
      "   24  69 173]\n",
      " [  3   5   9   4   2   4   7   6   3   1   2   3   9   6   3   8   8   4\n",
      "    8   7   7   3   5   6   4   5   4   7   6   1   9   8   3   6   5   5\n",
      "    5   6   9   3   9   5   6   2   9   8   6   5   9   6   3   3   1   6\n",
      "    2   9   4   3   1   3   2   3   9   1   5   2   2   3   5   4   5   9\n",
      "    1   9   2   5   9   1   7   5   7   2   6   9   3   2   9   5   4   1\n",
      "    5   4   8   6   6   9   7   4   6   4   3   7   4   5   8   4   3   9\n",
      "    9   6   9   3   3   6   9   5   4   7   8   1   7   9   9   0   8   1\n",
      "    3   1   2   1   8   4   1   1   7   5   5   2   3   7   7   6   6   1\n",
      "    8   2   8   1   6   1   3   6   5   7   7   1   7   1   3   7   9   8\n",
      "    9   1   9   8   8   7   9   6   3   8   2   6   2   4   5   9   9   1\n",
      "    3   9   7   3   3   1   2   5   5   5   5   3   4   3   4   1   6   7\n",
      "    7   2   0]]\n",
      "Item 138 with a reward of 0\n",
      "\n",
      "Item 138 exceeded the limit which has a weight of 63\n",
      "Total weight sack =\t 18\n",
      "Number of items =\t 5\n",
      "Total reward =\t 238\n",
      "\n",
      "EPISODE  1\n",
      "__________\n",
      "[[  5  62  68   9  14  21  99  76  50  75   1  27  79  80  81  84  51  41\n",
      "   35  34  28  56  31  97  80  11  67  75  34  39  59  76  26  69  69  63\n",
      "   49  51  79  98   2  66  62  13   7  11  27  92  67   5  32  89  31  18\n",
      "   18  85  56  57  40  82  15  18  48  59  73   7  74  43  26  30  72   6\n",
      "   95  92  74  54  10  71   5  48  83  46   3   4  12  29  78   2  48  37\n",
      "   77  14  30  40  16  79  25  74  64  63  85  26  41  31  79  88  31  26\n",
      "   68  18  31  62  55  60  16   5  99  34  60   8  42  33  10  80  29  93\n",
      "    4  26  71   6  65   9  18  79  83  69  64  90  63  55   3  76  27  57\n",
      "   15  72  22  85  18  78  39  36  90  46  38  60  61  37   8  57  56  54\n",
      "   73  51  98  35  15  54  26   6  60  14  66  31  40  24  11  66  56  70\n",
      "   22  71  50  95  22  72  82  57  99  70  86  19  28  95  20  85  57  65\n",
      "   60  51 200]\n",
      " [ 73  90  22  49  74  20  89  27   2  81   0  80  10  14  50  83  81  76\n",
      "   20  52  81   6  55  49  68  74  54  79  69  21  58  39  82  67   5  41\n",
      "   17  68  12   3  70  27  97  28  38  68  23  26  36  77  11  35  65  49\n",
      "   27  70  82  30  31  12  86  21  10  12  71  88   4  99  92   2  28  56\n",
      "    8  71  34  84   3  67  14  11  24  28  52  30  72  14  14  71  17  67\n",
      "    5  64  50  25  96  48  68  90  96  97  62  27  26  34  25  84  43  96\n",
      "   77  52  85  79  17  79  81  77  82  26  22   4  78  81  58  18  63   2\n",
      "   92  35  84  27  97  75  30  98  39  87  81  62  40  77  46   7  72  61\n",
      "   44  32  81   1  91  98  93  35  97  51  24  40  30  55  56  66  88  94\n",
      "   38  14  76   1   0  27  89  86  59  47  16  44  19  78  28  77  66  99\n",
      "    7  29  94  22   7  18  63  35  27  99  73  84  55  77   5  79  11  82\n",
      "   24  69   2]\n",
      " [  3   5   9   4   2   4   7   6   3   1   2   3   9   6   3   8   8   4\n",
      "    8   7   8   3   5   6   4   6   4   7   6   1   9   8   3   6   5   5\n",
      "    5   6   9   3   9   5   6   2   9   8   6   5   9   6   3   3   1   6\n",
      "    2   9   4   3   1   3   2   3   9   1   5   2   2   3   5   4   5   9\n",
      "    1   9   2   5   9   1   7   5   7   2   6   9   3   2   9   4   4   1\n",
      "    5   4   8   6   6   9   7   4   6   4   3   7   4   5   8   4   3   9\n",
      "    9   6   9   3   3   6   9   5   4   7   8   1   7   9   9   1   8   1\n",
      "    3   1   2   1   8   4   2   1   7   5   5   2   3   7   7   6   6   1\n",
      "    8   2   8   1   6   1   3   7   5   7   7   1   7   1   3   7   9   8\n",
      "    9   1   9   8   8   7   9   6   3   8   2   6   2   4   5   9   9   1\n",
      "    3   9   7   3   3   1   2   5   5   5   5   3   4   3   4   1   6   7\n",
      "    7   2   0]]\n",
      "Item 87 with a reward of 71\n",
      "[[  5  62  68   9  14  21  99  76  50  75   1  27  79  80  81  84  51  41\n",
      "   35  34  28  56  31  97  80  11  67  75  34  39  59  76  26  69  69  63\n",
      "   49  51  79  98   2  66  62  13   7  11  27  92  67   5  32  89  31  18\n",
      "   18  85  56  57  40  82  15  18  48  59  73   7  74  43  26  30  72   6\n",
      "   95  92  74  54  10  71   5  48  83  46   3   4  12  29  78   2  48  37\n",
      "   77  14  30  40  16  79  25  74  64  63  85  26  41  31  79  88  31  26\n",
      "   68  18  31  62  55  60  16   5  99  34  60   8  42  33  10  80  29  93\n",
      "    4  26  71   6  65   9  18  79  83  69  64  90  63  55   3  76  27  57\n",
      "   15  72  22  85  18  78  39  36  90  46  38  60  61  37   8  57  56  54\n",
      "   73  51  98  35  15  54  26   6  60  14  66  31  40  24  11  66  56  70\n",
      "   22  71  50  95  22  72  82  57  99  70  86  19  28  95  20  85  57  65\n",
      "   60  51 200]\n",
      " [ 73  90  22  49  74  20  89  27   2  81   0  80  10  14  50  83  81  76\n",
      "   20  52  81   6  55  49  68  74  54  79  69  21  58  39  82  67   5  41\n",
      "   17  68  12   3  70  27  97  28  38  68  23  26  36  77  11  35  65  49\n",
      "   27  70  82  30  31  12  86  21  10  12  71  88   4  99  92   2  28  56\n",
      "    8  71  34  84   3  67  14  11  24  28  52  30  72  14  14  71  17  67\n",
      "    5  64  50  25  96  48  68  90  96  97  62  27  26  34  25  84  43  96\n",
      "   77  52  85  79  17  79  81  77  82  26  22   4  78  81  58  18  63   2\n",
      "   92  35  84  27  97  75  30  98  39  87  81  62  40  77  46   7  72  61\n",
      "   44  32  81   1  91  98  93  35  97  51  24  40  30  55  56  66  88  94\n",
      "   38  14  76   1   0  27  89  86  59  47  16  44  19  78  28  77  66  99\n",
      "    7  29  94  22   7  18  63  35  27  99  73  84  55  77   5  79  11  82\n",
      "   24  69  87]\n",
      " [  3   5   9   4   2   4   7   6   3   1   2   3   9   6   3   8   8   4\n",
      "    8   7   8   3   5   6   4   6   4   7   6   1   9   8   3   6   5   5\n",
      "    5   6   9   3   9   5   6   2   9   8   6   5   9   6   3   3   1   6\n",
      "    2   9   4   3   1   3   2   3   9   1   5   2   2   3   5   4   5   9\n",
      "    1   9   2   5   9   1   7   5   7   2   6   9   3   2   9   4   4   1\n",
      "    5   4   8   6   6   9   7   4   6   4   2   7   4   5   8   4   3   9\n",
      "    9   6   9   3   3   6   9   5   4   7   8   1   7   9   9   1   8   1\n",
      "    3   1   2   1   8   4   2   1   7   5   5   2   3   7   7   6   6   1\n",
      "    8   2   8   1   6   1   3   7   5   7   7   1   7   1   3   7   9   8\n",
      "    9   1   9   8   8   7   9   6   3   8   2   6   2   4   5   9   9   1\n",
      "    3   9   7   3   3   1   2   5   5   5   5   3   4   3   4   1   6   7\n",
      "    7   2   0]]\n",
      "Item 100 with a reward of 62\n",
      "[[  5  62  68   9  14  21  99  76  50  75   1  27  79  80  81  84  51  41\n",
      "   35  34  28  56  31  97  80  11  67  75  34  39  59  76  26  69  69  63\n",
      "   49  51  79  98   2  66  62  13   7  11  27  92  67   5  32  89  31  18\n",
      "   18  85  56  57  40  82  15  18  48  59  73   7  74  43  26  30  72   6\n",
      "   95  92  74  54  10  71   5  48  83  46   3   4  12  29  78   2  48  37\n",
      "   77  14  30  40  16  79  25  74  64  63  85  26  41  31  79  88  31  26\n",
      "   68  18  31  62  55  60  16   5  99  34  60   8  42  33  10  80  29  93\n",
      "    4  26  71   6  65   9  18  79  83  69  64  90  63  55   3  76  27  57\n",
      "   15  72  22  85  18  78  39  36  90  46  38  60  61  37   8  57  56  54\n",
      "   73  51  98  35  15  54  26   6  60  14  66  31  40  24  11  66  56  70\n",
      "   22  71  50  95  22  72  82  57  99  70  86  19  28  95  20  85  57  65\n",
      "   60  51 200]\n",
      " [ 73  90  22  49  74  20  89  27   2  81   0  80  10  14  50  83  81  76\n",
      "   20  52  81   6  55  49  68  74  54  79  69  21  58  39  82  67   5  41\n",
      "   17  68  12   3  70  27  97  28  38  68  23  26  36  77  11  35  65  49\n",
      "   27  70  82  30  31  12  86  21  10  12  71  88   4  99  92   2  28  56\n",
      "    8  71  34  84   3  67  14  11  24  28  52  30  72  14  14  71  17  67\n",
      "    5  64  50  25  96  48  68  90  96  97  62  27  26  34  25  84  43  96\n",
      "   77  52  85  79  17  79  81  77  82  26  22   4  78  81  58  18  63   2\n",
      "   92  35  84  27  97  75  30  98  39  87  81  62  40  77  46   7  72  61\n",
      "   44  32  81   1  91  98  93  35  97  51  24  40  30  55  56  66  88  94\n",
      "   38  14  76   1   0  27  89  86  59  47  16  44  19  78  28  77  66  99\n",
      "    7  29  94  22   7  18  63  35  27  99  73  84  55  77   5  79  11  82\n",
      "   24  69 155]\n",
      " [  3   5   8   4   2   4   7   6   3   1   2   3   9   6   3   8   8   4\n",
      "    8   7   8   3   5   6   4   6   4   7   6   1   9   8   3   6   5   5\n",
      "    5   6   9   3   9   5   6   2   9   8   6   5   9   6   3   3   1   6\n",
      "    2   9   4   3   1   3   2   3   9   1   5   2   2   3   5   4   5   9\n",
      "    1   9   2   5   9   1   7   5   7   2   6   9   3   2   9   4   4   1\n",
      "    5   4   8   6   6   9   7   4   6   4   2   7   4   5   8   4   3   9\n",
      "    9   6   9   3   3   6   9   5   4   7   8   1   7   9   9   1   8   1\n",
      "    3   1   2   1   8   4   2   1   7   5   5   2   3   7   7   6   6   1\n",
      "    8   2   8   1   6   1   3   7   5   7   7   1   7   1   3   7   9   8\n",
      "    9   1   9   8   8   7   9   6   3   8   2   6   2   4   5   9   9   1\n",
      "    3   9   7   3   3   1   2   5   5   5   5   3   4   3   4   1   6   7\n",
      "    7   2   0]]\n",
      "Item 2 with a reward of 22\n",
      "[[  5  62  68   9  14  21  99  76  50  75   1  27  79  80  81  84  51  41\n",
      "   35  34  28  56  31  97  80  11  67  75  34  39  59  76  26  69  69  63\n",
      "   49  51  79  98   2  66  62  13   7  11  27  92  67   5  32  89  31  18\n",
      "   18  85  56  57  40  82  15  18  48  59  73   7  74  43  26  30  72   6\n",
      "   95  92  74  54  10  71   5  48  83  46   3   4  12  29  78   2  48  37\n",
      "   77  14  30  40  16  79  25  74  64  63  85  26  41  31  79  88  31  26\n",
      "   68  18  31  62  55  60  16   5  99  34  60   8  42  33  10  80  29  93\n",
      "    4  26  71   6  65   9  18  79  83  69  64  90  63  55   3  76  27  57\n",
      "   15  72  22  85  18  78  39  36  90  46  38  60  61  37   8  57  56  54\n",
      "   73  51  98  35  15  54  26   6  60  14  66  31  40  24  11  66  56  70\n",
      "   22  71  50  95  22  72  82  57  99  70  86  19  28  95  20  85  57  65\n",
      "   60  51 200]\n",
      " [ 73  90  22  49  74  20  89  27   2  81   0  80  10  14  50  83  81  76\n",
      "   20  52  81   6  55  49  68  74  54  79  69  21  58  39  82  67   5  41\n",
      "   17  68  12   3  70  27  97  28  38  68  23  26  36  77  11  35  65  49\n",
      "   27  70  82  30  31  12  86  21  10  12  71  88   4  99  92   2  28  56\n",
      "    8  71  34  84   3  67  14  11  24  28  52  30  72  14  14  71  17  67\n",
      "    5  64  50  25  96  48  68  90  96  97  62  27  26  34  25  84  43  96\n",
      "   77  52  85  79  17  79  81  77  82  26  22   4  78  81  58  18  63   2\n",
      "   92  35  84  27  97  75  30  98  39  87  81  62  40  77  46   7  72  61\n",
      "   44  32  81   1  91  98  93  35  97  51  24  40  30  55  56  66  88  94\n",
      "   38  14  76   1   0  27  89  86  59  47  16  44  19  78  28  77  66  99\n",
      "    7  29  94  22   7  18  63  35  27  99  73  84  55  77   5  79  11  82\n",
      "   24  69 182]\n",
      " [  3   5   8   4   2   4   7   6   3   1   2   3   9   6   3   8   8   4\n",
      "    8   7   8   3   5   6   4   6   4   7   6   1   9   8   3   6   5   5\n",
      "    5   6   9   3   9   5   6   2   9   8   5   5   9   6   3   3   1   6\n",
      "    2   9   4   3   1   3   2   3   9   1   5   2   2   3   5   4   5   9\n",
      "    1   9   2   5   9   1   7   5   7   2   6   9   3   2   9   4   4   1\n",
      "    5   4   8   6   6   9   7   4   6   4   2   7   4   5   8   4   3   9\n",
      "    9   6   9   3   3   6   9   5   4   7   8   1   7   9   9   1   8   1\n",
      "    3   1   2   1   8   4   2   1   7   5   5   2   3   7   7   6   6   1\n",
      "    8   2   8   1   6   1   3   7   5   7   7   1   7   1   3   7   9   8\n",
      "    9   1   9   8   8   7   9   6   3   8   2   6   2   4   5   9   9   1\n",
      "    3   9   7   3   3   1   2   5   5   5   5   3   4   3   4   1   6   7\n",
      "    7   2   0]]\n",
      "Item 46 with a reward of 23\n",
      "[[  5  62  68   9  14  21  99  76  50  75   1  27  79  80  81  84  51  41\n",
      "   35  34  28  56  31  97  80  11  67  75  34  39  59  76  26  69  69  63\n",
      "   49  51  79  98   2  66  62  13   7  11  27  92  67   5  32  89  31  18\n",
      "   18  85  56  57  40  82  15  18  48  59  73   7  74  43  26  30  72   6\n",
      "   95  92  74  54  10  71   5  48  83  46   3   4  12  29  78   2  48  37\n",
      "   77  14  30  40  16  79  25  74  64  63  85  26  41  31  79  88  31  26\n",
      "   68  18  31  62  55  60  16   5  99  34  60   8  42  33  10  80  29  93\n",
      "    4  26  71   6  65   9  18  79  83  69  64  90  63  55   3  76  27  57\n",
      "   15  72  22  85  18  78  39  36  90  46  38  60  61  37   8  57  56  54\n",
      "   73  51  98  35  15  54  26   6  60  14  66  31  40  24  11  66  56  70\n",
      "   22  71  50  95  22  72  82  57  99  70  86  19  28  95  20  85  57  65\n",
      "   60  51 200]\n",
      " [ 73  90  22  49  74  20  89  27   2  81   0  80  10  14  50  83  81  76\n",
      "   20  52  81   6  55  49  68  74  54  79  69  21  58  39  82  67   5  41\n",
      "   17  68  12   3  70  27  97  28  38  68  23  26  36  77  11  35  65  49\n",
      "   27  70  82  30  31  12  86  21  10  12  71  88   4  99  92   2  28  56\n",
      "    8  71  34  84   3  67  14  11  24  28  52  30  72  14  14  71  17  67\n",
      "    5  64  50  25  96  48  68  90  96  97  62  27  26  34  25  84  43  96\n",
      "   77  52  85  79  17  79  81  77  82  26  22   4  78  81  58  18  63   2\n",
      "   92  35  84  27  97  75  30  98  39  87  81  62  40  77  46   7  72  61\n",
      "   44  32  81   1  91  98  93  35  97  51  24  40  30  55  56  66  88  94\n",
      "   38  14  76   1   0  27  89  86  59  47  16  44  19  78  28  77  66  99\n",
      "    7  29  94  22   7  18  63  35  27  99  73  84  55  77   5  79  11  82\n",
      "   24  69 182]\n",
      " [  3   5   8   4   2   4   7   6   3   1   2   3   9   6   3   8   8   4\n",
      "    8   7   8   3   5   6   4   6   4   7   6   1   9   8   3   6   5   5\n",
      "    5   6   9   3   9   5   6   2   9   8   5   5   9   6   3   3   1   6\n",
      "    2   9   4   3   1   3   2   3   9   1   5   2   2   3   5   4   5   9\n",
      "    1   9   2   5   9   1   7   5   7   2   6   9   3   2   9   4   4   1\n",
      "    5   4   8   6   6   9   7   4   6   4   2   7   4   5   8   4   3   9\n",
      "    9   6   9   3   3   6   9   5   4   7   8   1   7   9   9   1   8   1\n",
      "    3   1   2   1   8   4   2   1   7   5   5   2   3   7   7   6   6   1\n",
      "    8   2   8   1   6   1   3   7   5   7   7   1   7   1   3   7   9   8\n",
      "    9   1   9   8   8   7   9   6   3   8   2   6   2   4   5   9   9   1\n",
      "    3   9   7   3   3   1   2   5   5   5   5   3   4   3   4   1   6   7\n",
      "    7   2   0]]\n",
      "Item 33 with a reward of 0\n",
      "\n",
      "Item 33 exceeded the limit which has a weight of 69\n",
      "Total weight sack =\t 27\n",
      "Number of items =\t 4\n",
      "Total reward =\t 178\n"
>>>>>>> 907bb817b2e80b057fdd478f72709a8502f8ee02
     ]
    }
   ],
   "source": [
    "for episode in range(2):\n",
    "    state = env.reset()# get the starting state from the env.\n",
    "    total_reward = 0; weight = 0; nr_items = 0\n",
    "    done = False\n",
    "    print(\"\\nEPISODE \", episode)\n",
    "    print(\"__________\")\n",
    "    for step in range(99): \n",
    "        action = env.action_space.sample() # is the index of the items list\n",
    "        new_state, reward, done, info = env.step(action) #give the action to environment to obtain reward, and next state, \n",
<<<<<<< HEAD
    "        print(\"Item {} with a reward of {} and weight {}\".format(action, reward, new_state[0][action]))\n",
=======
    "        print(new_state)\n",
    "        print(\"Item {} with a reward of {}\".format(action, reward))\n",
>>>>>>> 907bb817b2e80b057fdd478f72709a8502f8ee02
    "        if done: # if the goal state is reached or bag is full. \n",
    "            print(\"\\nItem {} exceeded the limit which has a weight of {}\".format(action, new_state[0][action])) # Chosen a item that exceeds the capacity\n",
    "            print(\"Total weight sack =\\t\", weight)\n",
    "            print(\"Number of items =\\t\", nr_items)\n",
    "            print(\"Total reward =\\t\", total_reward)         \n",
    "            \n",
    "            break\n",
    "        nr_items += 1\n",
    "        total_reward += reward\n",
    "        state = new_state\n",
    "        weight = state[0][action]\n",
    "env.close()"
   ]
  },
  {
   "cell_type": "code",
   "execution_count": 14,
   "metadata": {},
   "outputs": [
    {
     "data": {
      "text/plain": [
       "Box(-3.4028234663852886e+38, 3.4028234663852886e+38, (4,), float32)"
      ]
     },
     "execution_count": 14,
     "metadata": {},
     "output_type": "execute_result"
    }
   ],
   "source": [
    "import gym\n",
    "\n",
    "env = gym.make(\"CartPole-v1\")\n",
    "observation = env.reset()"
   ]
  },
  {
   "cell_type": "code",
   "execution_count": 17,
   "metadata": {},
   "outputs": [
    {
     "data": {
      "text/plain": [
       "(4,)"
      ]
     },
     "execution_count": 17,
     "metadata": {},
     "output_type": "execute_result"
    }
   ],
   "source": [
    "observation.shape"
   ]
  },
  {
   "cell_type": "markdown",
   "metadata": {},
   "source": [
    "### Neural network"
   ]
  },
  {
   "cell_type": "code",
   "execution_count": 9,
   "metadata": {
    "scrolled": false
   },
   "outputs": [
    {
     "name": "stdout",
     "output_type": "stream",
     "text": [
      "[  5  62  68   9  14  21  99  76  50  75   1  27  79  80  81  84  51  41\n",
      "  35  34  28  56  31  97  80  11  67  75  34  39  59  76  26  69  69  63\n",
      "  49  51  79  98   2  66  62  13   7  11  27  92  67   5  32  89  31  18\n",
      "  18  85  56  57  40  82  15  18  48  59  73   7  74  43  26  30  72   6\n",
      "  95  92  74  54  10  71   5  48  83  46   3   4  12  29  78   2  48  37\n",
      "  77  14  30  40  16  79  25  74  64  63  85  26  41  31  79  88  31  26\n",
      "  68  18  31  62  55  60  16   5  99  34  60   8  42  33  10  80  29  93\n",
      "   4  26  71   6  65   9  18  79  83  69  64  90  63  55   3  76  27  57\n",
      "  15  72  22  85  18  78  39  36  90  46  38  60  61  37   8  57  56  54\n",
      "  73  51  98  35  15  54  26   6  60  14  66  31  40  24  11  66  56  70\n",
      "  22  71  50  95  22  72  82  57  99  70  86  19  28  95  20  85  57  65\n",
      "  60  51 200] [73 90 22 49 74 20 89 27  2 81  0 80 10 14 50 83 81 76 20 52 81  6 55 49\n",
      " 68 74 54 79 69 21 58 39 82 67  5 41 17 68 12  3 70 27 97 28 38 68 23 26\n",
      " 36 77 11 35 65 49 27 70 82 30 31 12 86 21 10 12 71 88  4 99 92  2 28 56\n",
      "  8 71 34 84  3 67 14 11 24 28 52 30 72 14 14 71 17 67  5 64 50 25 96 48\n",
      " 68 90 96 97 62 27 26 34 25 84 43 96 77 52 85 79 17 79 81 77 82 26 22  4\n",
      " 78 81 58 18 63  2 92 35 84 27 97 75 30 98 39 87 81 62 40 77 46  7 72 61\n",
      " 44 32 81  1 91 98 93 35 97 51 24 40 30 55 56 66 88 94 38 14 76  1  0 27\n",
      " 89 86 59 47 16 44 19 78 28 77 66 99  7 29 94 22  7 18 63 35 27 99 73 84\n",
      " 55 77  5 79 11 82 24 69  0] [3 5 9 4 2 4 7 6 3 1 2 3 9 6 3 8 8 4 8 7 8 3 5 6 4 6 4 7 6 1 9 8 3 6 5 5 5\n",
      " 6 9 3 9 5 6 2 9 8 6 5 9 6 3 3 1 6 2 9 4 3 1 3 2 3 9 1 5 2 2 3 5 4 5 9 1 9\n",
      " 2 5 9 1 7 5 7 2 6 9 3 2 9 5 4 1 5 4 8 6 6 9 7 4 6 4 3 7 4 5 8 4 3 9 9 6 9\n",
      " 3 3 6 9 5 4 7 8 1 7 9 9 1 8 1 3 1 2 1 8 4 2 1 7 5 5 2 3 7 7 6 6 1 8 2 8 1\n",
      " 6 1 3 7 5 7 7 1 7 1 3 7 9 8 9 1 9 8 8 7 9 6 3 8 2 6 2 4 5 9 9 1 3 9 7 3 3\n",
      " 1 2 5 5 5 5 3 4 3 4 1 6 7 7 2 0]\n"
     ]
    }
   ],
   "source": [
    "x_weight = state_space[0]\n",
    "x_value = state_space[1]\n",
    "x_limit = state_space[2]\n",
    "print(x_weight, x_value, x_limit)"
   ]
  },
  {
   "cell_type": "code",
   "execution_count": 132,
   "metadata": {},
   "outputs": [],
   "source": [
    "def get_model(item_count=action_space):\n",
    "    input_weights = tf.keras.Input((item_count+1),3)\n",
    "    #input_prices = tf.keras.Input((item_count,))\n",
    "    #input_limits = tf.keras.Input((item_count,))\n",
    "    \n",
    "    #inputs_concat = tf.keras.layers.Concatenate()([input_weights, input_prices, input_limits])\n",
    "    \n",
    "    picks = tf.keras.layers.Dense((item_count+1) ** 2 + (item_count+1) * 2, activation=\"sigmoid\")(input_weights)\n",
    "    picks = tf.keras.layers.Dense(item_count+1, activation=\"sigmoid\")(picks)\n",
    "    model = tf.keras.Model(inputs=input_weights, outputs=picks)\n",
    "    return model"
   ]
  },
  {
   "cell_type": "code",
   "execution_count": 133,
   "metadata": {},
   "outputs": [
    {
     "data": {
      "image/png": "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\n",
      "text/plain": [
       "<IPython.core.display.Image object>"
      ]
     },
     "execution_count": 133,
     "metadata": {},
     "output_type": "execute_result"
    }
   ],
   "source": [
    "model = get_model()\n",
    "model_target = get_model()\n",
    "keras.utils.plot_model(model, show_shapes=True)"
   ]
  },
  {
   "cell_type": "code",
   "execution_count": 127,
   "metadata": {},
   "outputs": [],
   "source": [
    "model.compile(optimizer='adam',\n",
    "              loss=\"binary_crossentropy\",\n",
    "              metrics=['accuracy'])"
   ]
  },
  {
   "cell_type": "code",
   "execution_count": 142,
   "metadata": {
    "scrolled": false
   },
   "outputs": [
    {
     "name": "stdout",
     "output_type": "stream",
     "text": [
      "0 106 43\n",
      "1 57 30\n",
      "2 87 71\n",
      "3 66 4\n",
      "4 148 91\n",
      "5 85 0\n",
      "6 137 0\n",
      "7 6 0\n",
      "8 184 0\n",
      "9 133 0\n",
      "[43, 30, 71, 4, 91, 0, 0, 0, 0, 0]\n"
     ]
    },
    {
     "ename": "InvalidArgumentError",
     "evalue": "Incompatible shapes: [1,201] vs. [10] [Op:Mul]",
     "output_type": "error",
     "traceback": [
      "\u001b[1;31m---------------------------------------------------------------------------\u001b[0m",
      "\u001b[1;31mInvalidArgumentError\u001b[0m                      Traceback (most recent call last)",
      "\u001b[1;32m<ipython-input-142-0ed4a6106b47>\u001b[0m in \u001b[0;36m<module>\u001b[1;34m\u001b[0m\n\u001b[0;32m     72\u001b[0m \u001b[1;33m\u001b[0m\u001b[0m\n\u001b[0;32m     73\u001b[0m     \u001b[0mlog_prob\u001b[0m \u001b[1;33m=\u001b[0m \u001b[0mtf\u001b[0m\u001b[1;33m.\u001b[0m\u001b[0mstack\u001b[0m\u001b[1;33m(\u001b[0m\u001b[0mlp\u001b[0m\u001b[1;33m)\u001b[0m\u001b[1;33m\u001b[0m\u001b[1;33m\u001b[0m\u001b[0m\n\u001b[1;32m---> 74\u001b[1;33m     \u001b[0mpolicy_gradient\u001b[0m \u001b[1;33m=\u001b[0m \u001b[1;33m-\u001b[0m\u001b[0mlog_prob\u001b[0m\u001b[1;33m*\u001b[0m\u001b[0mdiscounted_rewards\u001b[0m\u001b[1;33m\u001b[0m\u001b[1;33m\u001b[0m\u001b[0m\n\u001b[0m\u001b[0;32m     75\u001b[0m \u001b[1;33m\u001b[0m\u001b[0m\n\u001b[0;32m     76\u001b[0m     \u001b[0mmodel\u001b[0m\u001b[1;33m.\u001b[0m\u001b[0mzero_grad\u001b[0m\u001b[1;33m(\u001b[0m\u001b[1;33m)\u001b[0m\u001b[1;33m\u001b[0m\u001b[1;33m\u001b[0m\u001b[0m\n",
      "\u001b[1;32m~\\anaconda3\\lib\\site-packages\\tensorflow\\python\\ops\\math_ops.py\u001b[0m in \u001b[0;36mbinary_op_wrapper\u001b[1;34m(x, y)\u001b[0m\n\u001b[0;32m   1232\u001b[0m         \u001b[1;31m#   r_binary_op_wrapper use different force_same_dtype values.\u001b[0m\u001b[1;33m\u001b[0m\u001b[1;33m\u001b[0m\u001b[1;33m\u001b[0m\u001b[0m\n\u001b[0;32m   1233\u001b[0m         \u001b[0mx\u001b[0m\u001b[1;33m,\u001b[0m \u001b[0my\u001b[0m \u001b[1;33m=\u001b[0m \u001b[0mmaybe_promote_tensors\u001b[0m\u001b[1;33m(\u001b[0m\u001b[0mx\u001b[0m\u001b[1;33m,\u001b[0m \u001b[0my\u001b[0m\u001b[1;33m,\u001b[0m \u001b[0mforce_same_dtype\u001b[0m\u001b[1;33m=\u001b[0m\u001b[1;32mFalse\u001b[0m\u001b[1;33m)\u001b[0m\u001b[1;33m\u001b[0m\u001b[1;33m\u001b[0m\u001b[0m\n\u001b[1;32m-> 1234\u001b[1;33m         \u001b[1;32mreturn\u001b[0m \u001b[0mfunc\u001b[0m\u001b[1;33m(\u001b[0m\u001b[0mx\u001b[0m\u001b[1;33m,\u001b[0m \u001b[0my\u001b[0m\u001b[1;33m,\u001b[0m \u001b[0mname\u001b[0m\u001b[1;33m=\u001b[0m\u001b[0mname\u001b[0m\u001b[1;33m)\u001b[0m\u001b[1;33m\u001b[0m\u001b[1;33m\u001b[0m\u001b[0m\n\u001b[0m\u001b[0;32m   1235\u001b[0m       \u001b[1;32mexcept\u001b[0m \u001b[1;33m(\u001b[0m\u001b[0mTypeError\u001b[0m\u001b[1;33m,\u001b[0m \u001b[0mValueError\u001b[0m\u001b[1;33m)\u001b[0m \u001b[1;32mas\u001b[0m \u001b[0me\u001b[0m\u001b[1;33m:\u001b[0m\u001b[1;33m\u001b[0m\u001b[1;33m\u001b[0m\u001b[0m\n\u001b[0;32m   1236\u001b[0m         \u001b[1;31m# Even if dispatching the op failed, the RHS may be a tensor aware\u001b[0m\u001b[1;33m\u001b[0m\u001b[1;33m\u001b[0m\u001b[1;33m\u001b[0m\u001b[0m\n",
      "\u001b[1;32m~\\anaconda3\\lib\\site-packages\\tensorflow\\python\\ops\\math_ops.py\u001b[0m in \u001b[0;36m_mul_dispatch\u001b[1;34m(x, y, name)\u001b[0m\n\u001b[0;32m   1573\u001b[0m     \u001b[1;32mreturn\u001b[0m \u001b[0msparse_tensor\u001b[0m\u001b[1;33m.\u001b[0m\u001b[0mSparseTensor\u001b[0m\u001b[1;33m(\u001b[0m\u001b[0my\u001b[0m\u001b[1;33m.\u001b[0m\u001b[0mindices\u001b[0m\u001b[1;33m,\u001b[0m \u001b[0mnew_vals\u001b[0m\u001b[1;33m,\u001b[0m \u001b[0my\u001b[0m\u001b[1;33m.\u001b[0m\u001b[0mdense_shape\u001b[0m\u001b[1;33m)\u001b[0m\u001b[1;33m\u001b[0m\u001b[1;33m\u001b[0m\u001b[0m\n\u001b[0;32m   1574\u001b[0m   \u001b[1;32melse\u001b[0m\u001b[1;33m:\u001b[0m\u001b[1;33m\u001b[0m\u001b[1;33m\u001b[0m\u001b[0m\n\u001b[1;32m-> 1575\u001b[1;33m     \u001b[1;32mreturn\u001b[0m \u001b[0mmultiply\u001b[0m\u001b[1;33m(\u001b[0m\u001b[0mx\u001b[0m\u001b[1;33m,\u001b[0m \u001b[0my\u001b[0m\u001b[1;33m,\u001b[0m \u001b[0mname\u001b[0m\u001b[1;33m=\u001b[0m\u001b[0mname\u001b[0m\u001b[1;33m)\u001b[0m\u001b[1;33m\u001b[0m\u001b[1;33m\u001b[0m\u001b[0m\n\u001b[0m\u001b[0;32m   1576\u001b[0m \u001b[1;33m\u001b[0m\u001b[0m\n\u001b[0;32m   1577\u001b[0m \u001b[1;33m\u001b[0m\u001b[0m\n",
      "\u001b[1;32m~\\anaconda3\\lib\\site-packages\\tensorflow\\python\\util\\dispatch.py\u001b[0m in \u001b[0;36mwrapper\u001b[1;34m(*args, **kwargs)\u001b[0m\n\u001b[0;32m    204\u001b[0m     \u001b[1;34m\"\"\"Call target, and fall back on dispatchers if there is a TypeError.\"\"\"\u001b[0m\u001b[1;33m\u001b[0m\u001b[1;33m\u001b[0m\u001b[0m\n\u001b[0;32m    205\u001b[0m     \u001b[1;32mtry\u001b[0m\u001b[1;33m:\u001b[0m\u001b[1;33m\u001b[0m\u001b[1;33m\u001b[0m\u001b[0m\n\u001b[1;32m--> 206\u001b[1;33m       \u001b[1;32mreturn\u001b[0m \u001b[0mtarget\u001b[0m\u001b[1;33m(\u001b[0m\u001b[1;33m*\u001b[0m\u001b[0margs\u001b[0m\u001b[1;33m,\u001b[0m \u001b[1;33m**\u001b[0m\u001b[0mkwargs\u001b[0m\u001b[1;33m)\u001b[0m\u001b[1;33m\u001b[0m\u001b[1;33m\u001b[0m\u001b[0m\n\u001b[0m\u001b[0;32m    207\u001b[0m     \u001b[1;32mexcept\u001b[0m \u001b[1;33m(\u001b[0m\u001b[0mTypeError\u001b[0m\u001b[1;33m,\u001b[0m \u001b[0mValueError\u001b[0m\u001b[1;33m)\u001b[0m\u001b[1;33m:\u001b[0m\u001b[1;33m\u001b[0m\u001b[1;33m\u001b[0m\u001b[0m\n\u001b[0;32m    208\u001b[0m       \u001b[1;31m# Note: convert_to_eager_tensor currently raises a ValueError, not a\u001b[0m\u001b[1;33m\u001b[0m\u001b[1;33m\u001b[0m\u001b[1;33m\u001b[0m\u001b[0m\n",
      "\u001b[1;32m~\\anaconda3\\lib\\site-packages\\tensorflow\\python\\ops\\math_ops.py\u001b[0m in \u001b[0;36mmultiply\u001b[1;34m(x, y, name)\u001b[0m\n\u001b[0;32m    528\u001b[0m   \"\"\"\n\u001b[0;32m    529\u001b[0m \u001b[1;33m\u001b[0m\u001b[0m\n\u001b[1;32m--> 530\u001b[1;33m   \u001b[1;32mreturn\u001b[0m \u001b[0mgen_math_ops\u001b[0m\u001b[1;33m.\u001b[0m\u001b[0mmul\u001b[0m\u001b[1;33m(\u001b[0m\u001b[0mx\u001b[0m\u001b[1;33m,\u001b[0m \u001b[0my\u001b[0m\u001b[1;33m,\u001b[0m \u001b[0mname\u001b[0m\u001b[1;33m)\u001b[0m\u001b[1;33m\u001b[0m\u001b[1;33m\u001b[0m\u001b[0m\n\u001b[0m\u001b[0;32m    531\u001b[0m \u001b[1;33m\u001b[0m\u001b[0m\n\u001b[0;32m    532\u001b[0m \u001b[1;33m\u001b[0m\u001b[0m\n",
      "\u001b[1;32m~\\anaconda3\\lib\\site-packages\\tensorflow\\python\\ops\\gen_math_ops.py\u001b[0m in \u001b[0;36mmul\u001b[1;34m(x, y, name)\u001b[0m\n\u001b[0;32m   6237\u001b[0m       \u001b[1;32mreturn\u001b[0m \u001b[0m_result\u001b[0m\u001b[1;33m\u001b[0m\u001b[1;33m\u001b[0m\u001b[0m\n\u001b[0;32m   6238\u001b[0m     \u001b[1;32mexcept\u001b[0m \u001b[0m_core\u001b[0m\u001b[1;33m.\u001b[0m\u001b[0m_NotOkStatusException\u001b[0m \u001b[1;32mas\u001b[0m \u001b[0me\u001b[0m\u001b[1;33m:\u001b[0m\u001b[1;33m\u001b[0m\u001b[1;33m\u001b[0m\u001b[0m\n\u001b[1;32m-> 6239\u001b[1;33m       \u001b[0m_ops\u001b[0m\u001b[1;33m.\u001b[0m\u001b[0mraise_from_not_ok_status\u001b[0m\u001b[1;33m(\u001b[0m\u001b[0me\u001b[0m\u001b[1;33m,\u001b[0m \u001b[0mname\u001b[0m\u001b[1;33m)\u001b[0m\u001b[1;33m\u001b[0m\u001b[1;33m\u001b[0m\u001b[0m\n\u001b[0m\u001b[0;32m   6240\u001b[0m     \u001b[1;32mexcept\u001b[0m \u001b[0m_core\u001b[0m\u001b[1;33m.\u001b[0m\u001b[0m_FallbackException\u001b[0m\u001b[1;33m:\u001b[0m\u001b[1;33m\u001b[0m\u001b[1;33m\u001b[0m\u001b[0m\n\u001b[0;32m   6241\u001b[0m       \u001b[1;32mpass\u001b[0m\u001b[1;33m\u001b[0m\u001b[1;33m\u001b[0m\u001b[0m\n",
      "\u001b[1;32m~\\anaconda3\\lib\\site-packages\\tensorflow\\python\\framework\\ops.py\u001b[0m in \u001b[0;36mraise_from_not_ok_status\u001b[1;34m(e, name)\u001b[0m\n\u001b[0;32m   6895\u001b[0m   \u001b[0mmessage\u001b[0m \u001b[1;33m=\u001b[0m \u001b[0me\u001b[0m\u001b[1;33m.\u001b[0m\u001b[0mmessage\u001b[0m \u001b[1;33m+\u001b[0m \u001b[1;33m(\u001b[0m\u001b[1;34m\" name: \"\u001b[0m \u001b[1;33m+\u001b[0m \u001b[0mname\u001b[0m \u001b[1;32mif\u001b[0m \u001b[0mname\u001b[0m \u001b[1;32mis\u001b[0m \u001b[1;32mnot\u001b[0m \u001b[1;32mNone\u001b[0m \u001b[1;32melse\u001b[0m \u001b[1;34m\"\"\u001b[0m\u001b[1;33m)\u001b[0m\u001b[1;33m\u001b[0m\u001b[1;33m\u001b[0m\u001b[0m\n\u001b[0;32m   6896\u001b[0m   \u001b[1;31m# pylint: disable=protected-access\u001b[0m\u001b[1;33m\u001b[0m\u001b[1;33m\u001b[0m\u001b[1;33m\u001b[0m\u001b[0m\n\u001b[1;32m-> 6897\u001b[1;33m   \u001b[0msix\u001b[0m\u001b[1;33m.\u001b[0m\u001b[0mraise_from\u001b[0m\u001b[1;33m(\u001b[0m\u001b[0mcore\u001b[0m\u001b[1;33m.\u001b[0m\u001b[0m_status_to_exception\u001b[0m\u001b[1;33m(\u001b[0m\u001b[0me\u001b[0m\u001b[1;33m.\u001b[0m\u001b[0mcode\u001b[0m\u001b[1;33m,\u001b[0m \u001b[0mmessage\u001b[0m\u001b[1;33m)\u001b[0m\u001b[1;33m,\u001b[0m \u001b[1;32mNone\u001b[0m\u001b[1;33m)\u001b[0m\u001b[1;33m\u001b[0m\u001b[1;33m\u001b[0m\u001b[0m\n\u001b[0m\u001b[0;32m   6898\u001b[0m   \u001b[1;31m# pylint: enable=protected-access\u001b[0m\u001b[1;33m\u001b[0m\u001b[1;33m\u001b[0m\u001b[1;33m\u001b[0m\u001b[0m\n\u001b[0;32m   6899\u001b[0m \u001b[1;33m\u001b[0m\u001b[0m\n",
      "\u001b[1;32m~\\anaconda3\\lib\\site-packages\\six.py\u001b[0m in \u001b[0;36mraise_from\u001b[1;34m(value, from_value)\u001b[0m\n",
      "\u001b[1;31mInvalidArgumentError\u001b[0m: Incompatible shapes: [1,201] vs. [10] [Op:Mul]"
     ]
    }
   ],
   "source": [
    "ACTION_SPACE = action_space\n",
    "EPISODES = 1\n",
    "STEPS = 10\n",
    "GAMMA=0.99\n",
    "RENDER=False\n",
    "\n",
    "#optimizer = keras.optimizers.Adam(learning_rate=0.00025, clipnorm=1.0)\n",
    "\n",
    "all_rewards =[]\n",
    "best_rolling = -99999\n",
    "for episode in range(EPISODES):\n",
    "    done=False\n",
    "    state = env.reset()\n",
    "    lp1=[]\n",
    "    lp2=[]\n",
    "    lp3=[]\n",
    "    a=[]\n",
    "    r=[]\n",
    "    d=[]\n",
    "    s=[]\n",
    "\n",
    "    for step in range(STEPS):\n",
    "        if RENDER:\n",
    "            env.render()\n",
    "        #print(model(state))\n",
    "        log_prob_weight, log_prob_value, log_prob_limit = model(state)\n",
    "        \n",
    "        #log_prob = log_prob_weight *log_prob_value * log_prob_limit\n",
    "        #print(log_prob)\n",
    "        \n",
    "        action = env.action_space.sample()\n",
    "        \n",
    "        state,reward,done,i_ = env.step(action)\n",
    "        #print(state,r_,done,i_)\n",
    "        \n",
    "        lp1.append(log_prob_weight)\n",
    "        lp2.append(log_prob_value)\n",
    "        lp3.append(log_prob_limit)\n",
    "        \n",
    "        r.append(reward)\n",
    "        print(step, action, reward)\n",
    "        if done:\n",
    "            all_rewards.append(np.sum(r))\n",
    "            \n",
    "            #if episode%100 ==0:\n",
    "            #   print(f\"EPISODE {episode} SCORE: {np.sum(r)} roll{pd.Series(all_rewards).tail(100).mean()}\")\n",
    "            #    # RENDER = True\n",
    "            #   torch.save(model.state_dict(), 'outputs/last_params_cloud.ckpt')\n",
    "            #   if pd.Series(all_rewards).tail(100).mean()>best_rolling:\n",
    "            #       best_rolling = pd.Series(all_rewards).tail(100).mean()\n",
    "            #       print(\"saving...\")\n",
    "            #       torch.save(model.state_dict(), 'outputs/best_params_cloud.ckpt')\n",
    "            #break\n",
    " \n",
    "    print(r)\n",
    "    discounted_rewards = []\n",
    "\n",
    "    for t in range(len(r)):\n",
    "        Gt = 0 \n",
    "        pw = 0\n",
    "        for r_ in r[t:]:\n",
    "            Gt = Gt + GAMMA**pw * r_\n",
    "            pw = pw + 1\n",
    "        discounted_rewards.append(Gt)\n",
    "    \n",
    "    discounted_rewards = np.array(discounted_rewards)\n",
    "    #print(discounted_rewards)\n",
    "    \n",
    "    #discounted_rewards = torch.tensor(discounted_rewards,dtype=torch.float32,device=DEVICE)\n",
    "    discounted_rewards = (discounted_rewards - np.mean(discounted_rewards))/ (np.std(discounted_rewards))\n",
    "    #print(discounted_rewards)\n",
    "    \n",
    "    log_prob = tf.stack(lp)\n",
    "    policy_gradient = -log_prob*discounted_rewards\n",
    "\n",
    "    model.zero_grad()\n",
    "    policy_gradient.sum().backward()\n",
    "    optimizer.step()"
   ]
  },
  {
   "cell_type": "markdown",
   "metadata": {
    "id": "JEtXMldxQ7uw"
   },
   "source": [
    "## Part 2: Q-Table 🗄️\n",
    "We will implement Q-learning algorithm to devise optimal policy for FrozenLake environment. "
   ]
  },
  {
   "cell_type": "markdown",
   "metadata": {},
   "source": [
    "**Task 4**\n",
    "- Create Q-table with `state space` as rows and `action space` as columns.\n",
    "state =16  action=4"
   ]
  },
  {
   "cell_type": "code",
   "execution_count": null,
   "metadata": {
    "colab": {
     "base_uri": "https://localhost:8080/"
    },
    "id": "noM2G-NsF6Z9",
    "outputId": "c181f6f0-b3da-45af-aad8-de9ab638618b"
   },
   "outputs": [],
   "source": [
    "qtable = np.zeros((len(state_space), action_space))\n",
    "print(qtable)"
   ]
  },
  {
   "cell_type": "markdown",
   "metadata": {
    "id": "rcdaN_DbA3ES"
   },
   "source": [
    "## Part 3: The Q learning algorithm 🧠\n",
    "It is fine if you do not understand all the details at this point. Q-learning will be introduced in Lecture 3 of DRL part. \n",
    "\n"
   ]
  },
  {
   "cell_type": "markdown",
   "metadata": {
    "id": "Rh_0vS_dBPCY"
   },
   "source": [
    "Q learning is a off-policy algorithm. Meaning that the actions that are executed are different from the target actions that are used for learning. \n",
    "Epsilon-greedy policy – most likely selects the `greedy actions` but can select `random actions` too \n",
    "- Ensures explorations\n",
    "- Choose greedy action with 1- є (epsilon) \n",
    "- Choose random action with є (epsilon)"
   ]
  },
  {
   "cell_type": "code",
   "execution_count": null,
   "metadata": {
    "id": "iBiRANB2AH3c"
   },
   "outputs": [],
   "source": [
    "def epsilon_greedy_policy(Q, state, epsilon): \n",
    "      # Q:          : state-action pair\n",
    "      # State (int) : current state\n",
    "      # eps (float): epsilon\n",
    "    action = 0\n",
    "    if random.uniform(0, 1) > epsilon: #exploitation\n",
    "        action = np.argmax(Q[state,:])\n",
    "    else: #exploration \n",
    "        action = env.action_space.sample()\n",
    "    return action"
   ]
  },
  {
   "cell_type": "markdown",
   "metadata": {
    "id": "cOB4TejJM4uA"
   },
   "source": [
    "\n",
    "The algorithm takes nine arguments:\n",
    "- `env`: This is an instance of an OpenAI Gym environment.\n",
    "- `total_episodes`: This is the number of episodes that are generated through agent-environment interaction.\n",
    "- `max_step`: This is the max number of interactions between agent and env. within a single episode.  \n",
    "- `epsilon`: This is to encourage exploration. Epsilon is decayed over time to discourage explortation and encourage exploitation once agent has explored different state. \n",
    "- `max_epsilon`: This is the maximum value of epsilon. \n",
    "- `min_epsilon`: This is the minimum value of epsilon. \n",
    "- `decay_rate`: This is the decay rate for epsilon. \n",
    "- `gamma`: This is the discount rate.  It must be a value between 0 and 1, inclusive (default value: `1`).\n",
    "- `plot_every`: This is additional argument to plot the cumulative reward against episodes. \n",
    "\n",
    "The algorithm returns as output:\n",
    "- `qtable`: This is an ndarray where `qtable[s][a]` is the estimated action value corresponding to state `s` and action `a`."
   ]
  },
  {
   "cell_type": "markdown",
   "metadata": {},
   "source": [
    "**Task 5**\n",
    "- Fill the missing code to complete the Q-learning implementation.\n",
    "- Write a condition to break the loop as soon as agent receives a reward of 0.78 or higher in 100 consecutive episodes."
   ]
  },
  {
   "cell_type": "code",
   "execution_count": null,
   "metadata": {
    "id": "3cNXlxF6F4k1"
   },
   "outputs": [],
   "source": [
    "def q_learning(env, total_episodes, max_steps = 99, epsilon = 1.0, max_epsilon = 1.0, min_epsilon = 0.01, decay_rate = 0.005,  gamma=0.95, plot_every=100):\n",
    "    rewards = []   # List of rewards\n",
    "    tmp_scores = deque(maxlen=plot_every)     # deque for keeping track of scores\n",
    "    avg_scores = deque(maxlen=total_episodes)   # average scores over every plot_every episodes\n",
    "    for episode in range(total_episodes):\n",
    "        state = env.reset()#Reset the environment to the starting state \n",
    "        #step = 0 \n",
    "        done = False\n",
    "        total_rewards = 0 # collected reward within an episode\n",
    "        if episode % 100 == 0: #monitor progress\n",
    "            print(\"\\rEpisode {}/{}\".format(episode, total_episodes), end=\"\") \n",
    "        \n",
    "        for step in range(max_steps): \n",
    "            action = epsilon_greedy_policy(qtable, state, epsilon)# call the epsilon greedy policy to obtain the actions  \n",
    "            new_state, reward, done, info = env.step(action) #take the action and observe resulting reward and state. \n",
    "\n",
    "            # Update Q(s,a):= Q(s,a) + lr [R(s,a) + gamma * max Q(s',a') - Q(s,a)]\n",
    "            # qtable[new_state,:] : all the actions we can take from new state\n",
    "            qtable[state, action] = qtable[state, action] + learning_rate * (reward + gamma * np.max(qtable[new_state, :]) - qtable[state, action]) #update the qtable. np.max(qtable[new_state, :] is greedy action used for learning!. \n",
    "\n",
    "            total_rewards += reward # sum the rewards collected within an episode\n",
    "            state = new_state # Our new state is state\n",
    "            if done == True: #done is true when agent fall into hole or reached the goal state\n",
    "                tmp_scores.append(total_rewards)  #for plot\n",
    "                break\n",
    "        if (episode % plot_every == 0): #for plot\n",
    "            avg_scores.append(np.mean(tmp_scores))\n",
    "            \n",
    "            #....  #break the loop as soon as agent obtain the reward of 0.78 or higher in 100 consective episodes. \n",
    "        epsilon = min_epsilon + (max_epsilon - min_epsilon)*np.exp(-decay_rate*episode) # Reduce epsilon value to encourage expoitation and discouage exlortation \n",
    "        rewards.append(total_rewards)\n",
    "\n",
    "    # plot performance\n",
    "    plt.plot(np.linspace(0,total_episodes,len(avg_scores),endpoint=False), np.asarray(avg_scores))\n",
    "    plt.xlabel('Episode Number')\n",
    "    plt.ylabel('Average Reward (Over %d Episodes)' % plot_every)\n",
    "    plt.show()\n",
    "    # print best 100-episode performance\n",
    "    print(('Best Average Reward over %d Episodes: ' % plot_every), np.max(avg_scores))    \n",
    "    return qtable\n",
    "\n"
   ]
  },
  {
   "cell_type": "markdown",
   "metadata": {
    "id": "WEGeWKKsAu7X"
   },
   "source": [
    "## Part 4: Train the agent  🤖\n",
    "Here comes the real part. \n",
    "- We will train our agent using Q-learning algorithm defined above.   "
   ]
  },
  {
   "cell_type": "markdown",
   "metadata": {},
   "source": [
    "**Task 6**\n",
    "- Call the Q-learning algorithm with appropriate hyperparameter setting. \n",
    "- Find the hyper-parameters configuration  to solve the environment in fewer than 5000 training episodes. "
   ]
  },
  {
   "cell_type": "code",
   "execution_count": null,
   "metadata": {
    "id": "FJhPxx7UAunE"
   },
   "outputs": [],
   "source": [
    "total_episodes = 20000       # Total episodes\n",
    "learning_rate = 0.2#7          # Learning rate\n",
    "max_steps = 99               # Max steps per episode\n",
    "gamma = 0.95                 # Discounting rate\n",
    "\n",
    "# Exploration parameters\n",
    "epsilon = 1.0                 # Exploration rate\n",
    "max_epsilon = 1.0             # Exploration probability at start\n",
    "min_epsilon = 0.01            # Minimum exploration probability \n",
    "decay_rate = 0.005            # Exponential decay rate for exploration prob"
   ]
  },
  {
   "cell_type": "code",
   "execution_count": null,
   "metadata": {
    "colab": {
     "base_uri": "https://localhost:8080/",
     "height": 603
    },
    "id": "lGABCf7TGHRH",
    "outputId": "98e11365-ca70-4d52-c189-f13e0b466829"
   },
   "outputs": [],
   "source": [
    "q_learning(env, total_episodes, epsilon = 1.0, gamma=0.95, plot_every=100)"
   ]
  },
  {
   "cell_type": "markdown",
   "metadata": {
    "heading_collapsed": true,
    "id": "R5czk9qTBQIU"
   },
   "source": [
    "## Part 5: Action in Action! 🕹️\n",
    "- After training, the agent has develop a Q-table can be used to play FrozenLake. The Q-table tells agent which action to take in each state. \n",
    "- Run the code below to see our agent playing FrozenLake."
   ]
  },
  {
   "cell_type": "code",
   "execution_count": null,
   "metadata": {
    "colab": {
     "base_uri": "https://localhost:8080/"
    },
    "hidden": true,
    "id": "Bt8UsREaBNkJ",
    "outputId": "8aa495fa-08e8-4044-e143-6d7c681a9817"
   },
   "outputs": [],
   "source": [
    "env.reset()\n",
    "\n",
    "for episode in range(5):\n",
    "    state = env.reset()\n",
    "    step = 0\n",
    "    done = False\n",
    "    print(\"********************\")\n",
    "    print(\"EPISODE \", episode)\n",
    "    for step in range(max_steps):\n",
    "        action = np.argmax(qtable[state,:])# Take the action (index) with maximum expected future reward given that state\n",
    "        new_state, reward, done, info = env.step(action)\n",
    "        if done:\n",
    "            env.render()\n",
    "            if new_state == 15:\n",
    "                print(\"Goal 🏅\")\n",
    "            else:\n",
    "                print(\"Hole 💀\")            \n",
    "            # We print the number of step it took.\n",
    "            print(\"Number of steps\", step)            \n",
    "            break\n",
    "        state = new_state\n",
    "env.close()"
   ]
  },
  {
   "cell_type": "code",
   "execution_count": null,
   "metadata": {
    "hidden": true
   },
   "outputs": [],
   "source": []
  },
  {
   "cell_type": "code",
   "execution_count": null,
   "metadata": {},
   "outputs": [],
   "source": []
  },
  {
   "cell_type": "code",
   "execution_count": null,
   "metadata": {},
   "outputs": [],
   "source": []
  }
 ],
 "metadata": {
  "colab": {
   "collapsed_sections": [
    "RkMMK4kj5h74",
    "0fz-X3HTQueX",
    "JEtXMldxQ7uw",
    "rcdaN_DbA3ES",
    "WEGeWKKsAu7X",
    "R5czk9qTBQIU"
   ],
   "name": "Solving FrozenLake using Q-learning.ipynb",
   "provenance": []
  },
  "kernelspec": {
   "display_name": "Python 3",
   "language": "python",
   "name": "python3"
  },
  "language_info": {
   "codemirror_mode": {
    "name": "ipython",
    "version": 3
   },
   "file_extension": ".py",
   "mimetype": "text/x-python",
   "name": "python",
   "nbconvert_exporter": "python",
   "pygments_lexer": "ipython3",
   "version": "3.8.8"
  }
 },
 "nbformat": 4,
 "nbformat_minor": 1
}
