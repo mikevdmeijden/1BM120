{
 "cells": [
  {
   "cell_type": "markdown",
   "metadata": {
    "id": "mhI1eNEXQCjK"
   },
   "source": [
    "# KnapsackV2\n",
    "1BM120"
   ]
  },
  {
   "cell_type": "markdown",
   "metadata": {
    "id": "RkMMK4kj5h74"
   },
   "source": [
    "## Part 0: Load libraries "
   ]
  },
  {
   "cell_type": "code",
   "execution_count": 7,
   "metadata": {
    "colab": {
     "base_uri": "https://localhost:8080/"
    },
    "id": "gxxpHDIs_lvg",
    "outputId": "661c0206-3050-4de4-d370-380bddd88eaf"
   },
   "outputs": [
    {
     "name": "stdout",
     "output_type": "stream",
     "text": [
      "Requirement already satisfied: gym in c:\\users\\s153988\\documents\\anaconda\\lib\\site-packages (0.18.0)\n",
      "Requirement already satisfied: numpy>=1.10.4 in c:\\users\\s153988\\documents\\anaconda\\lib\\site-packages (from gym) (1.19.2)\n",
      "Requirement already satisfied: pyglet<=1.5.0,>=1.4.0 in c:\\users\\s153988\\documents\\anaconda\\lib\\site-packages (from gym) (1.5.0)\n",
      "Requirement already satisfied: scipy in c:\\users\\s153988\\documents\\anaconda\\lib\\site-packages (from gym) (1.5.2)\n",
      "Requirement already satisfied: Pillow<=7.2.0 in c:\\users\\s153988\\documents\\anaconda\\lib\\site-packages (from gym) (7.2.0)\n",
      "Requirement already satisfied: cloudpickle<1.7.0,>=1.2.0 in c:\\users\\s153988\\documents\\anaconda\\lib\\site-packages (from gym) (1.6.0)\n",
      "Requirement already satisfied: future in c:\\users\\s153988\\documents\\anaconda\\lib\\site-packages (from pyglet<=1.5.0,>=1.4.0->gym) (0.18.2)\n",
      "Requirement already satisfied: or_gym in c:\\users\\s153988\\documents\\anaconda\\lib\\site-packages (0.2.0)\n",
      "Requirement already satisfied: scipy>=1.0 in c:\\users\\s153988\\documents\\anaconda\\lib\\site-packages (from or_gym) (1.5.2)\n",
      "Requirement already satisfied: gym>=0.15.0 in c:\\users\\s153988\\documents\\anaconda\\lib\\site-packages (from or_gym) (0.18.0)\n",
      "Requirement already satisfied: networkx>=2.3 in c:\\users\\s153988\\documents\\anaconda\\lib\\site-packages (from or_gym) (2.5)\n",
      "Requirement already satisfied: numpy>=1.16.1 in c:\\users\\s153988\\documents\\anaconda\\lib\\site-packages (from or_gym) (1.19.2)\n",
      "Requirement already satisfied: matplotlib>=3.1 in c:\\users\\s153988\\documents\\anaconda\\lib\\site-packages (from or_gym) (3.3.2)\n",
      "Requirement already satisfied: pyglet<=1.5.0,>=1.4.0 in c:\\users\\s153988\\documents\\anaconda\\lib\\site-packages (from gym>=0.15.0->or_gym) (1.5.0)\n",
      "Requirement already satisfied: Pillow<=7.2.0 in c:\\users\\s153988\\documents\\anaconda\\lib\\site-packages (from gym>=0.15.0->or_gym) (7.2.0)\n",
      "Requirement already satisfied: cloudpickle<1.7.0,>=1.2.0 in c:\\users\\s153988\\documents\\anaconda\\lib\\site-packages (from gym>=0.15.0->or_gym) (1.6.0)\n",
      "Requirement already satisfied: decorator>=4.3.0 in c:\\users\\s153988\\documents\\anaconda\\lib\\site-packages (from networkx>=2.3->or_gym) (4.4.2)\n",
      "Requirement already satisfied: kiwisolver>=1.0.1 in c:\\users\\s153988\\documents\\anaconda\\lib\\site-packages (from matplotlib>=3.1->or_gym) (1.3.0)\n",
      "Requirement already satisfied: certifi>=2020.06.20 in c:\\users\\s153988\\documents\\anaconda\\lib\\site-packages (from matplotlib>=3.1->or_gym) (2020.6.20)\n",
      "Requirement already satisfied: python-dateutil>=2.1 in c:\\users\\s153988\\documents\\anaconda\\lib\\site-packages (from matplotlib>=3.1->or_gym) (2.8.1)\n",
      "Requirement already satisfied: cycler>=0.10 in c:\\users\\s153988\\documents\\anaconda\\lib\\site-packages (from matplotlib>=3.1->or_gym) (0.10.0)\n",
      "Requirement already satisfied: pyparsing!=2.0.4,!=2.1.2,!=2.1.6,>=2.0.3 in c:\\users\\s153988\\documents\\anaconda\\lib\\site-packages (from matplotlib>=3.1->or_gym) (2.4.7)\n",
      "Requirement already satisfied: future in c:\\users\\s153988\\documents\\anaconda\\lib\\site-packages (from pyglet<=1.5.0,>=1.4.0->gym>=0.15.0->or_gym) (0.18.2)\n",
      "Requirement already satisfied: six>=1.5 in c:\\users\\s153988\\documents\\anaconda\\lib\\site-packages (from python-dateutil>=2.1->matplotlib>=3.1->or_gym) (1.15.0)\n"
     ]
    }
   ],
   "source": [
    "!pip install gym\n",
    "!pip install or_gym"
   ]
  },
  {
   "cell_type": "markdown",
   "metadata": {
    "id": "G9qH33L_QoBk"
   },
   "source": [
    "    Import the neccary packages\n",
    "- `Numpy` for our Qtable\n",
    "- `OpenAI Gym` for our FrozenLake Environment\n",
    "- `Random` to generate random numbers\n",
    "- `Deque` to record cumulative reward over multiple episodes\n",
    "- `MatPlotlib` to generate plots"
   ]
  },
  {
   "cell_type": "code",
   "execution_count": 8,
   "metadata": {
    "id": "oU8zRXv8QHlm"
   },
   "outputs": [],
   "source": [
    "import numpy as np\n",
    "import gym\n",
    "import or_gym\n",
    "import random\n",
    "from collections import deque\n",
    "import matplotlib.pyplot as plt\n",
    "%matplotlib inline"
   ]
  },
  {
   "cell_type": "markdown",
   "metadata": {
    "id": "0fz-X3HTQueX"
   },
   "source": [
    "## Part 1: Explore Knapsack"
   ]
  },
  {
   "cell_type": "markdown",
   "metadata": {},
   "source": [
    " **Task 1:** \n",
    "- Create an instance of the environment\n",
    "- Render the environment \n",
    "- Print the state and action space"
   ]
  },
  {
   "cell_type": "code",
   "execution_count": 9,
   "metadata": {
    "id": "mh9jBR_cQ5_a"
   },
   "outputs": [],
   "source": [
    "env = or_gym.make(\"Knapsack-v2\") # Create an  instance of the environment "
   ]
  },
  {
   "cell_type": "code",
   "execution_count": 10,
   "metadata": {
    "colab": {
     "base_uri": "https://localhost:8080/"
    },
    "id": "8PdZVucK_jMf",
    "outputId": "c1aff157-3aa7-46c8-f368-0cc5de2af402"
   },
   "outputs": [
    {
     "ename": "NotImplementedError",
     "evalue": "",
     "output_type": "error",
     "traceback": [
      "\u001b[1;31m---------------------------------------------------------------------------\u001b[0m",
      "\u001b[1;31mNotImplementedError\u001b[0m                       Traceback (most recent call last)",
      "\u001b[1;32m<ipython-input-10-eb1347a3c459>\u001b[0m in \u001b[0;36m<module>\u001b[1;34m\u001b[0m\n\u001b[1;32m----> 1\u001b[1;33m \u001b[0menv\u001b[0m\u001b[1;33m.\u001b[0m\u001b[0mrender\u001b[0m\u001b[1;33m(\u001b[0m\u001b[1;33m)\u001b[0m\u001b[1;31m# render the environment\u001b[0m\u001b[1;33m\u001b[0m\u001b[1;33m\u001b[0m\u001b[0m\n\u001b[0m",
      "\u001b[1;32m~\\Documents\\Anaconda\\lib\\site-packages\\gym\\core.py\u001b[0m in \u001b[0;36mrender\u001b[1;34m(self, mode)\u001b[0m\n\u001b[0;32m    108\u001b[0m                     \u001b[0msuper\u001b[0m\u001b[1;33m(\u001b[0m\u001b[0mMyEnv\u001b[0m\u001b[1;33m,\u001b[0m \u001b[0mself\u001b[0m\u001b[1;33m)\u001b[0m\u001b[1;33m.\u001b[0m\u001b[0mrender\u001b[0m\u001b[1;33m(\u001b[0m\u001b[0mmode\u001b[0m\u001b[1;33m=\u001b[0m\u001b[0mmode\u001b[0m\u001b[1;33m)\u001b[0m \u001b[1;31m# just raise an exception\u001b[0m\u001b[1;33m\u001b[0m\u001b[1;33m\u001b[0m\u001b[0m\n\u001b[0;32m    109\u001b[0m         \"\"\"\n\u001b[1;32m--> 110\u001b[1;33m         \u001b[1;32mraise\u001b[0m \u001b[0mNotImplementedError\u001b[0m\u001b[1;33m\u001b[0m\u001b[1;33m\u001b[0m\u001b[0m\n\u001b[0m\u001b[0;32m    111\u001b[0m \u001b[1;33m\u001b[0m\u001b[0m\n\u001b[0;32m    112\u001b[0m     \u001b[1;32mdef\u001b[0m \u001b[0mclose\u001b[0m\u001b[1;33m(\u001b[0m\u001b[0mself\u001b[0m\u001b[1;33m)\u001b[0m\u001b[1;33m:\u001b[0m\u001b[1;33m\u001b[0m\u001b[1;33m\u001b[0m\u001b[0m\n",
      "\u001b[1;31mNotImplementedError\u001b[0m: "
     ]
    }
   ],
   "source": [
    "env.render()# render the environment \n",
    "env.mask = False"
   ]
  },
  {
   "cell_type": "markdown",
   "metadata": {
    "id": "zVpKDNoZ7qQ1"
   },
   "source": [
    "##### The agent moves through a $X\\times X$ gridworld\n",
    "\n",
    "The agent has X potential actions:\n"
   ]
  },
  {
   "cell_type": "code",
   "execution_count": 20,
   "metadata": {},
   "outputs": [
    {
     "name": "stdout",
     "output_type": "stream",
     "text": [
      "0\n"
     ]
    }
   ],
   "source": [
    "print(env.reset())"
   ]
  },
  {
   "cell_type": "code",
   "execution_count": 21,
   "metadata": {
    "colab": {
     "base_uri": "https://localhost:8080/"
    },
    "id": "O1odpibX7rdQ",
    "outputId": "fcd38795-2783-4ffa-be2f-20103118e973"
   },
   "outputs": [
    {
     "name": "stdout",
     "output_type": "stream",
     "text": [
      "Action space 4\n",
      "State space 16\n"
     ]
    }
   ],
   "source": [
    "\n",
    "state_space = env.reset()#env.observation_space.n#Get number of states in an environment \n",
    "action_space = env.action_space.n#env.action_space.n#Get number of actions in an environment \n",
    "print('Action space', action_space)\n",
    "print('State space', state_space)"
   ]
  },
  {
   "cell_type": "markdown",
   "metadata": {
    "id": "x-QK-SPd8C5h"
   },
   "source": [
    "Other important points of the environvment:\n",
    "- The episode ends when you reach the goal or fall in a hole. \n",
    "- Agent receives a reward of 1 if it reach the goal, and zero otherwise.\n",
    "- FrozenLake-v0 is considered \"solved\" when the agent obtains an average reward of at least **0.78 over 100** consecutive episodes."
   ]
  },
  {
   "cell_type": "markdown",
   "metadata": {},
   "source": [
    "**Task 2:**\n",
    "- Sample an action from the environment.\n",
    "- Call the step function and inspect the outputs."
   ]
  },
  {
   "cell_type": "code",
   "execution_count": 22,
   "metadata": {},
   "outputs": [
    {
     "name": "stdout",
     "output_type": "stream",
     "text": [
      "0\n"
     ]
    }
   ],
   "source": [
    "action = env.action_space.sample()# sample an action from the env instance\n",
    "print(action)"
   ]
  },
  {
   "cell_type": "code",
   "execution_count": 23,
   "metadata": {},
   "outputs": [
    {
     "data": {
      "text/plain": [
       "(0, 0.0, False, {'prob': 0.3333333333333333})"
      ]
     },
     "execution_count": 23,
     "metadata": {},
     "output_type": "execute_result"
    }
   ],
   "source": [
    "env.step(action)# call the step function of the env. and inspect quadruple of (state, reward, done, info)"
   ]
  },
  {
   "cell_type": "markdown",
   "metadata": {
    "id": "_dQ6sZJR-39K"
   },
   "source": [
    "**Task 3:**\n",
    "- Randomly interact with the envrionment for two episodes.  "
   ]
  },
  {
   "cell_type": "code",
   "execution_count": 24,
   "metadata": {
    "colab": {
     "base_uri": "https://localhost:8080/"
    },
    "id": "WkS_hnft-3A2",
    "outputId": "448fa484-b06b-43a6-c4e5-650e0bef88ae"
   },
   "outputs": [
    {
     "name": "stdout",
     "output_type": "stream",
     "text": [
      "EPISODE  0\n",
      "  (Down)\n",
      "SFFF\n",
      "F\u001b[41mH\u001b[0mFH\n",
      "FFFH\n",
      "HFFG\n",
      "We fell into a hole ☠️\n",
      "Number of steps 1\n",
      "EPISODE  1\n",
      "  (Right)\n",
      "SFFF\n",
      "FHF\u001b[41mH\u001b[0m\n",
      "FFFH\n",
      "HFFG\n",
      "We fell into a hole ☠️\n",
      "Number of steps 9\n"
     ]
    }
   ],
   "source": [
    "for episode in range(2):\n",
    "    state = env.reset()# get the starting state from the env.\n",
    "    step = 0\n",
    "    done = False\n",
    "    print(\"EPISODE \", episode)\n",
    "    for step in range(99): \n",
    "        action = env.action_space.sample()# sample an action from the environment  \n",
    "        new_state, reward, done, info = env.step(action) #give the action to environment to obtain reward, and next state,   \n",
    "        if done: #if the goal state is reached or agent fall into hole. \n",
    "            env.render() #print the last stay\n",
    "            if new_state == 15:\n",
    "                print(\"We reached our Goal 🏆\")\n",
    "            else:\n",
    "                print(\"We fell into a hole ☠️\")\n",
    "            \n",
    "            # We print the number of step it took.\n",
    "            print(\"Number of steps\", step)\n",
    "            \n",
    "            break\n",
    "        state = new_state\n",
    "env.close()"
   ]
  },
  {
   "cell_type": "markdown",
   "metadata": {
    "id": "JEtXMldxQ7uw"
   },
   "source": [
    "## Part 2: Q-Table 🗄️\n",
    "We will implement Q-learning algorithm to devise optimal policy for FrozenLake environment. "
   ]
  },
  {
   "cell_type": "markdown",
   "metadata": {},
   "source": [
    "**Task 4**\n",
    "- Create Q-table with `state space` as rows and `action space` as columns.\n",
    "state =16  action=4"
   ]
  },
  {
   "cell_type": "code",
   "execution_count": 25,
   "metadata": {
    "colab": {
     "base_uri": "https://localhost:8080/"
    },
    "id": "noM2G-NsF6Z9",
    "outputId": "c181f6f0-b3da-45af-aad8-de9ab638618b"
   },
   "outputs": [
    {
     "name": "stdout",
     "output_type": "stream",
     "text": [
      "[[0. 0. 0. 0.]\n",
      " [0. 0. 0. 0.]\n",
      " [0. 0. 0. 0.]\n",
      " [0. 0. 0. 0.]\n",
      " [0. 0. 0. 0.]\n",
      " [0. 0. 0. 0.]\n",
      " [0. 0. 0. 0.]\n",
      " [0. 0. 0. 0.]\n",
      " [0. 0. 0. 0.]\n",
      " [0. 0. 0. 0.]\n",
      " [0. 0. 0. 0.]\n",
      " [0. 0. 0. 0.]\n",
      " [0. 0. 0. 0.]\n",
      " [0. 0. 0. 0.]\n",
      " [0. 0. 0. 0.]\n",
      " [0. 0. 0. 0.]]\n"
     ]
    }
   ],
   "source": [
    "qtable = np.zeros((state_space, action_space))\n",
    "print(qtable)"
   ]
  },
  {
   "cell_type": "markdown",
   "metadata": {
    "id": "rcdaN_DbA3ES"
   },
   "source": [
    "## Part 3: The Q learning algorithm 🧠\n",
    "It is fine if you do not understand all the details at this point. Q-learning will be introduced in Lecture 3 of DRL part. \n",
    "\n"
   ]
  },
  {
   "cell_type": "markdown",
   "metadata": {
    "id": "Rh_0vS_dBPCY"
   },
   "source": [
    "Q learning is a off-policy algorithm. Meaning that the actions that are executed are different from the target actions that are used for learning. \n",
    "Epsilon-greedy policy – most likely selects the `greedy actions` but can select `random actions` too \n",
    "- Ensures explorations\n",
    "- Choose greedy action with 1- є (epsilon) \n",
    "- Choose random action with є (epsilon)"
   ]
  },
  {
   "cell_type": "code",
   "execution_count": 26,
   "metadata": {
    "id": "iBiRANB2AH3c"
   },
   "outputs": [],
   "source": [
    "def epsilon_greedy_policy(Q, state, epsilon): \n",
    "      # Q:          : state-action pair\n",
    "      # State (int) : current state\n",
    "      # eps (float): epsilon\n",
    "    action = 0\n",
    "    if random.uniform(0, 1) > epsilon: #exploitation\n",
    "        action = np.argmax(Q[state,:])\n",
    "    else: #exploration \n",
    "        action = env.action_space.sample()\n",
    "    return action"
   ]
  },
  {
   "cell_type": "markdown",
   "metadata": {
    "id": "cOB4TejJM4uA"
   },
   "source": [
    "\n",
    "The algorithm takes nine arguments:\n",
    "- `env`: This is an instance of an OpenAI Gym environment.\n",
    "- `total_episodes`: This is the number of episodes that are generated through agent-environment interaction.\n",
    "- `max_step`: This is the max number of interactions between agent and env. within a single episode.  \n",
    "- `epsilon`: This is to encourage exploration. Epsilon is decayed over time to discourage explortation and encourage exploitation once agent has explored different state. \n",
    "- `max_epsilon`: This is the maximum value of epsilon. \n",
    "- `min_epsilon`: This is the minimum value of epsilon. \n",
    "- `decay_rate`: This is the decay rate for epsilon. \n",
    "- `gamma`: This is the discount rate.  It must be a value between 0 and 1, inclusive (default value: `1`).\n",
    "- `plot_every`: This is additional argument to plot the cumulative reward against episodes. \n",
    "\n",
    "The algorithm returns as output:\n",
    "- `qtable`: This is an ndarray where `qtable[s][a]` is the estimated action value corresponding to state `s` and action `a`."
   ]
  },
  {
   "cell_type": "markdown",
   "metadata": {},
   "source": [
    "**Task 5**\n",
    "- Fill the missing code to complete the Q-learning implementation.\n",
    "- Write a condition to break the loop as soon as agent receives a reward of 0.78 or higher in 100 consecutive episodes."
   ]
  },
  {
   "cell_type": "code",
   "execution_count": 27,
   "metadata": {
    "id": "3cNXlxF6F4k1"
   },
   "outputs": [],
   "source": [
    "def q_learning(env, total_episodes, max_steps = 99, epsilon = 1.0, max_epsilon = 1.0, min_epsilon = 0.01, decay_rate = 0.005,  gamma=0.95, plot_every=100):\n",
    "    rewards = []   # List of rewards\n",
    "    tmp_scores = deque(maxlen=plot_every)     # deque for keeping track of scores\n",
    "    avg_scores = deque(maxlen=total_episodes)   # average scores over every plot_every episodes\n",
    "    for episode in range(total_episodes):\n",
    "        state = env.reset()#Reset the environment to the starting state \n",
    "        #step = 0 \n",
    "        done = False\n",
    "        total_rewards = 0 # collected reward within an episode\n",
    "        if episode % 100 == 0: #monitor progress\n",
    "            print(\"\\rEpisode {}/{}\".format(episode, total_episodes), end=\"\") \n",
    "        \n",
    "        for step in range(max_steps): \n",
    "            action = epsilon_greedy_policy(qtable, state, epsilon)# call the epsilon greedy policy to obtain the actions  \n",
    "            new_state, reward, done, info = env.step(action) #take the action and observe resulting reward and state. \n",
    "\n",
    "            # Update Q(s,a):= Q(s,a) + lr [R(s,a) + gamma * max Q(s',a') - Q(s,a)]\n",
    "            # qtable[new_state,:] : all the actions we can take from new state\n",
    "            qtable[state, action] = qtable[state, action] + learning_rate * (reward + gamma * np.max(qtable[new_state, :]) - qtable[state, action]) #update the qtable. np.max(qtable[new_state, :] is greedy action used for learning!. \n",
    "\n",
    "            total_rewards += reward # sum the rewards collected within an episode\n",
    "            state = new_state # Our new state is state\n",
    "            if done == True: #done is true when agent fall into hole or reached the goal state\n",
    "                tmp_scores.append(total_rewards)  #for plot\n",
    "                break\n",
    "        if (episode % plot_every == 0): #for plot\n",
    "            avg_scores.append(np.mean(tmp_scores))\n",
    "            \n",
    "            #....  #break the loop as soon as agent obtain the reward of 0.78 or higher in 100 consective episodes. \n",
    "        epsilon = min_epsilon + (max_epsilon - min_epsilon)*np.exp(-decay_rate*episode) # Reduce epsilon value to encourage expoitation and discouage exlortation \n",
    "        rewards.append(total_rewards)\n",
    "\n",
    "    # plot performance\n",
    "    plt.plot(np.linspace(0,total_episodes,len(avg_scores),endpoint=False), np.asarray(avg_scores))\n",
    "    plt.xlabel('Episode Number')\n",
    "    plt.ylabel('Average Reward (Over %d Episodes)' % plot_every)\n",
    "    plt.show()\n",
    "    # print best 100-episode performance\n",
    "    print(('Best Average Reward over %d Episodes: ' % plot_every), np.max(avg_scores))    \n",
    "    return qtable\n",
    "\n"
   ]
  },
  {
   "cell_type": "markdown",
   "metadata": {
    "id": "WEGeWKKsAu7X"
   },
   "source": [
    "## Part 4: Train the agent  🤖\n",
    "Here comes the real part. \n",
    "- We will train our agent using Q-learning algorithm defined above.   "
   ]
  },
  {
   "cell_type": "markdown",
   "metadata": {},
   "source": [
    "**Task 6**\n",
    "- Call the Q-learning algorithm with appropriate hyperparameter setting. \n",
    "- Find the hyper-parameters configuration  to solve the environment in fewer than 5000 training episodes. "
   ]
  },
  {
   "cell_type": "code",
   "execution_count": 28,
   "metadata": {
    "id": "FJhPxx7UAunE"
   },
   "outputs": [],
   "source": [
    "total_episodes = 20000       # Total episodes\n",
    "learning_rate = 0.2#7          # Learning rate\n",
    "max_steps = 99               # Max steps per episode\n",
    "gamma = 0.95                 # Discounting rate\n",
    "\n",
    "# Exploration parameters\n",
    "epsilon = 1.0                 # Exploration rate\n",
    "max_epsilon = 1.0             # Exploration probability at start\n",
    "min_epsilon = 0.01            # Minimum exploration probability \n",
    "decay_rate = 0.005            # Exponential decay rate for exploration prob"
   ]
  },
  {
   "cell_type": "code",
   "execution_count": 29,
   "metadata": {
    "colab": {
     "base_uri": "https://localhost:8080/",
     "height": 603
    },
    "id": "lGABCf7TGHRH",
    "outputId": "98e11365-ca70-4d52-c189-f13e0b466829"
   },
   "outputs": [
    {
     "name": "stdout",
     "output_type": "stream",
     "text": [
      "Episode 19900/20000"
     ]
    },
    {
     "data": {
      "image/png": "[encoded data removed]",
      "text/plain": [
       "<Figure size 432x288 with 1 Axes>"
      ]
     },
     "metadata": {
      "needs_background": "light"
     },
     "output_type": "display_data"
    },
    {
     "name": "stdout",
     "output_type": "stream",
     "text": [
      "Best Average Reward over 100 Episodes:  0.0\n"
     ]
    },
    {
     "data": {
      "text/plain": [
       "array([[0., 0., 0., 0.],\n",
       "       [0., 0., 0., 0.],\n",
       "       [0., 0., 0., 0.],\n",
       "       [0., 0., 0., 0.],\n",
       "       [0., 0., 0., 0.],\n",
       "       [0., 0., 0., 0.],\n",
       "       [0., 0., 0., 0.],\n",
       "       [0., 0., 0., 0.],\n",
       "       [0., 0., 0., 0.],\n",
       "       [0., 0., 0., 0.],\n",
       "       [0., 0., 0., 0.],\n",
       "       [0., 0., 0., 0.],\n",
       "       [0., 0., 0., 0.],\n",
       "       [0., 0., 0., 0.],\n",
       "       [0., 0., 0., 0.],\n",
       "       [0., 0., 0., 0.]])"
      ]
     },
     "execution_count": 29,
     "metadata": {},
     "output_type": "execute_result"
    }
   ],
   "source": [
    "q_learning(env, total_episodes, epsilon = 1.0, gamma=0.95, plot_every=100)"
   ]
  },
  {
   "cell_type": "markdown",
   "metadata": {
    "heading_collapsed": true,
    "id": "R5czk9qTBQIU"
   },
   "source": [
    "## Part 5: Action in Action! 🕹️\n",
    "- After training, the agent has develop a Q-table can be used to play FrozenLake. The Q-table tells agent which action to take in each state. \n",
    "- Run the code below to see our agent playing FrozenLake."
   ]
  },
  {
   "cell_type": "code",
   "execution_count": 31,
   "metadata": {
    "colab": {
     "base_uri": "https://localhost:8080/"
    },
    "hidden": true,
    "id": "Bt8UsREaBNkJ",
    "outputId": "8aa495fa-08e8-4044-e143-6d7c681a9817"
   },
   "outputs": [
    {
     "name": "stdout",
     "output_type": "stream",
     "text": [
      "********************\n",
      "EPISODE  0\n",
      "  (Left)\n",
      "SFFF\n",
      "FHFH\n",
      "FFFH\n",
      "\u001b[41mH\u001b[0mFFG\n",
      "Hole 💀\n",
      "Number of steps 15\n",
      "********************\n",
      "EPISODE  1\n",
      "  (Left)\n",
      "SFFF\n",
      "FHFH\n",
      "FFFH\n",
      "\u001b[41mH\u001b[0mFFG\n",
      "Hole 💀\n",
      "Number of steps 10\n",
      "********************\n",
      "EPISODE  2\n",
      "  (Left)\n",
      "SFFF\n",
      "FHFH\n",
      "FFFH\n",
      "\u001b[41mH\u001b[0mFFG\n",
      "Hole 💀\n",
      "Number of steps 38\n",
      "********************\n",
      "EPISODE  3\n",
      "  (Left)\n",
      "SFFF\n",
      "FHFH\n",
      "FFFH\n",
      "\u001b[41mH\u001b[0mFFG\n",
      "Hole 💀\n",
      "Number of steps 7\n",
      "********************\n",
      "EPISODE  4\n",
      "  (Left)\n",
      "SFFF\n",
      "FHFH\n",
      "FFFH\n",
      "\u001b[41mH\u001b[0mFFG\n",
      "Hole 💀\n",
      "Number of steps 8\n"
     ]
    }
   ],
   "source": [
    "env.reset()\n",
    "\n",
    "for episode in range(5):\n",
    "    state = env.reset()\n",
    "    step = 0\n",
    "    done = False\n",
    "    print(\"********************\")\n",
    "    print(\"EPISODE \", episode)\n",
    "    for step in range(max_steps):\n",
    "        action = np.argmax(qtable[state,:])# Take the action (index) with maximum expected future reward given that state\n",
    "        new_state, reward, done, info = env.step(action)\n",
    "        if done:\n",
    "            env.render()\n",
    "            if new_state == 15:\n",
    "                print(\"Goal 🏅\")\n",
    "            else:\n",
    "                print(\"Hole 💀\")            \n",
    "            # We print the number of step it took.\n",
    "            print(\"Number of steps\", step)            \n",
    "            break\n",
    "        state = new_state\n",
    "env.close()"
   ]
  },
  {
   "cell_type": "code",
   "execution_count": null,
   "metadata": {
    "hidden": true
   },
   "outputs": [],
   "source": []
  },
  {
   "cell_type": "code",
   "execution_count": null,
   "metadata": {},
   "outputs": [],
   "source": []
  },
  {
   "cell_type": "code",
   "execution_count": null,
   "metadata": {},
   "outputs": [],
   "source": []
  }
 ],
 "metadata": {
  "colab": {
   "collapsed_sections": [
    "RkMMK4kj5h74",
    "0fz-X3HTQueX",
    "JEtXMldxQ7uw",
    "rcdaN_DbA3ES",
    "WEGeWKKsAu7X",
    "R5czk9qTBQIU"
   ],
   "name": "Solving FrozenLake using Q-learning.ipynb",
   "provenance": []
  },
  "kernelspec": {
   "display_name": "Python 3",
   "language": "python",
   "name": "python3"
  },
  "language_info": {
   "codemirror_mode": {
    "name": "ipython",
    "version": 3
   },
   "file_extension": ".py",
   "mimetype": "text/x-python",
   "name": "python",
   "nbconvert_exporter": "python",
   "pygments_lexer": "ipython3",
   "version": "3.8.5"
  }
 },
 "nbformat": 4,
 "nbformat_minor": 1
}
