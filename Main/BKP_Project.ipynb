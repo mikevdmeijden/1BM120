{
 "cells": [
  {
   "cell_type": "markdown",
   "metadata": {
    "id": "mhI1eNEXQCjK"
   },
   "source": [
    "# KnapsackV2\n",
    "1BM120"
   ]
  },
  {
   "cell_type": "markdown",
   "metadata": {
    "id": "G9qH33L_QoBk"
   },
   "source": [
    "    Import the neccary packages\n",
    "- `Numpy` for our Qtable\n",
    "- `OpenAI Gym` for our FrozenLake Environment\n",
    "- `Random` to generate random numbers\n",
    "- `Deque` to record cumulative reward over multiple episodes\n",
    "- `MatPlotlib` to generate plots"
   ]
  },
  {
   "cell_type": "code",
   "execution_count": 76,
   "metadata": {
    "id": "oU8zRXv8QHlm"
   },
   "outputs": [],
   "source": [
    "import numpy as np\n",
    "import gym\n",
    "import or_gym\n",
    "import random\n",
    "from collections import deque\n",
    "import matplotlib.pyplot as plt\n",
    "import pandas as pd\n",
    "#from mlxtend.plotting import scatterplotmatrix\n",
    "%matplotlib inline\n",
    "\n",
    "import tensorflow as tf\n",
    "from tensorflow import keras\n",
    "from tensorflow.keras import layers"
   ]
  },
  {
   "cell_type": "markdown",
   "metadata": {
    "id": "0fz-X3HTQueX"
   },
   "source": [
    "## Part 1: Explore Knapsack"
   ]
  },
  {
   "cell_type": "markdown",
   "metadata": {},
   "source": [
    " **Task 1:** \n",
    "- Create an instance of the environment\n",
    "- Print and plot the state and action space"
   ]
  },
  {
   "cell_type": "code",
   "execution_count": 2,
   "metadata": {
    "id": "mh9jBR_cQ5_a"
   },
   "outputs": [],
   "source": [
    "env = or_gym.make(\"Knapsack-v2\") # Create an  instance of the environment \n",
    "env.mask = False"
   ]
  },
  {
   "cell_type": "code",
   "execution_count": 3,
   "metadata": {
    "colab": {
     "base_uri": "https://localhost:8080/"
    },
    "id": "8PdZVucK_jMf",
    "outputId": "c1aff157-3aa7-46c8-f368-0cc5de2af402",
    "scrolled": true
   },
   "outputs": [
    {
     "name": "stdout",
     "output_type": "stream",
     "text": [
      "Action space 200\n",
      "State space [[  5  62  68   9  14  21  99  76  50  75   1  27  79  80  81  84  51  41\n",
      "   35  34  28  56  31  97  80  11  67  75  34  39  59  76  26  69  69  63\n",
      "   49  51  79  98   2  66  62  13   7  11  27  92  67   5  32  89  31  18\n",
      "   18  85  56  57  40  82  15  18  48  59  73   7  74  43  26  30  72   6\n",
      "   95  92  74  54  10  71   5  48  83  46   3   4  12  29  78   2  48  37\n",
      "   77  14  30  40  16  79  25  74  64  63  85  26  41  31  79  88  31  26\n",
      "   68  18  31  62  55  60  16   5  99  34  60   8  42  33  10  80  29  93\n",
      "    4  26  71   6  65   9  18  79  83  69  64  90  63  55   3  76  27  57\n",
      "   15  72  22  85  18  78  39  36  90  46  38  60  61  37   8  57  56  54\n",
      "   73  51  98  35  15  54  26   6  60  14  66  31  40  24  11  66  56  70\n",
      "   22  71  50  95  22  72  82  57  99  70  86  19  28  95  20  85  57  65\n",
      "   60  51 200]\n",
      " [ 73  90  22  49  74  20  89  27   2  81   0  80  10  14  50  83  81  76\n",
      "   20  52  81   6  55  49  68  74  54  79  69  21  58  39  82  67   5  41\n",
      "   17  68  12   3  70  27  97  28  38  68  23  26  36  77  11  35  65  49\n",
      "   27  70  82  30  31  12  86  21  10  12  71  88   4  99  92   2  28  56\n",
      "    8  71  34  84   3  67  14  11  24  28  52  30  72  14  14  71  17  67\n",
      "    5  64  50  25  96  48  68  90  96  97  62  27  26  34  25  84  43  96\n",
      "   77  52  85  79  17  79  81  77  82  26  22   4  78  81  58  18  63   2\n",
      "   92  35  84  27  97  75  30  98  39  87  81  62  40  77  46   7  72  61\n",
      "   44  32  81   1  91  98  93  35  97  51  24  40  30  55  56  66  88  94\n",
      "   38  14  76   1   0  27  89  86  59  47  16  44  19  78  28  77  66  99\n",
      "    7  29  94  22   7  18  63  35  27  99  73  84  55  77   5  79  11  82\n",
      "   24  69   0]\n",
      " [  3   5   9   4   2   4   7   6   3   1   2   3   9   6   3   8   8   4\n",
      "    8   7   8   3   5   6   4   6   4   7   6   1   9   8   3   6   5   5\n",
      "    5   6   9   3   9   5   6   2   9   8   6   5   9   6   3   3   1   6\n",
      "    2   9   4   3   1   3   2   3   9   1   5   2   2   3   5   4   5   9\n",
      "    1   9   2   5   9   1   7   5   7   2   6   9   3   2   9   5   4   1\n",
      "    5   4   8   6   6   9   7   4   6   4   3   7   4   5   8   4   3   9\n",
      "    9   6   9   3   3   6   9   5   4   7   8   1   7   9   9   1   8   1\n",
      "    3   1   2   1   8   4   2   1   7   5   5   2   3   7   7   6   6   1\n",
      "    8   2   8   1   6   1   3   7   5   7   7   1   7   1   3   7   9   8\n",
      "    9   1   9   8   8   7   9   6   3   8   2   6   2   4   5   9   9   1\n",
      "    3   9   7   3   3   1   2   5   5   5   5   3   4   3   4   1   6   7\n",
      "    7   2   0]]\n"
     ]
    }
   ],
   "source": [
    "state_space = env.reset()#env.observation_space.n#Get number of states in an environment \n",
    "action_space = env.action_space.n#env.action_space.n#Get number of actions in an environment \n",
    "print('Action space', action_space)\n",
    "print('State space', state_space)\n",
    "#0: list of item weights\n",
    "#1: list of item values\n",
    "#2: list of item limits"
   ]
  },
  {
   "cell_type": "code",
   "execution_count": 4,
   "metadata": {},
   "outputs": [
    {
     "data": {
      "image/png": "[encoded data removed]",
      "text/plain": [
       "<Figure size 1080x360 with 3 Axes>"
      ]
     },
     "metadata": {
      "needs_background": "light"
     },
     "output_type": "display_data"
    }
   ],
   "source": [
    "# Plot of the state space\n",
    "\n",
    "fig, (ax1, ax2, ax3) = plt.subplots(1,3, figsize=(15, 5))\n",
    "\n",
    "ax1.hist(state_space[0])\n",
    "ax1.set_title(\"Items weight\")\n",
    "\n",
    "ax2.hist(state_space[1])\n",
    "ax2.set_title(\"Items value\")\n",
    "\n",
    "ax3.hist(state_space[2])\n",
    "ax3.set_title(\"Items limit\")\n",
    "\n",
    "plt.show()"
   ]
  },
  {
   "cell_type": "code",
   "execution_count": 5,
   "metadata": {},
   "outputs": [
    {
     "ename": "NameError",
     "evalue": "name 'scatterplotmatrix' is not defined",
     "output_type": "error",
     "traceback": [
      "\u001b[1;31m---------------------------------------------------------------------------\u001b[0m",
      "\u001b[1;31mNameError\u001b[0m                                 Traceback (most recent call last)",
      "\u001b[1;32m<ipython-input-5-3fd0018ab5fa>\u001b[0m in \u001b[0;36m<module>\u001b[1;34m\u001b[0m\n\u001b[0;32m      1\u001b[0m \u001b[0mX\u001b[0m \u001b[1;33m=\u001b[0m \u001b[0mnp\u001b[0m\u001b[1;33m.\u001b[0m\u001b[0marray\u001b[0m\u001b[1;33m(\u001b[0m\u001b[1;33m[\u001b[0m\u001b[0mstate_space\u001b[0m\u001b[1;33m[\u001b[0m\u001b[1;36m0\u001b[0m\u001b[1;33m]\u001b[0m\u001b[1;33m,\u001b[0m \u001b[0mstate_space\u001b[0m\u001b[1;33m[\u001b[0m\u001b[1;36m1\u001b[0m\u001b[1;33m]\u001b[0m\u001b[1;33m,\u001b[0m \u001b[0mstate_space\u001b[0m\u001b[1;33m[\u001b[0m\u001b[1;36m2\u001b[0m\u001b[1;33m]\u001b[0m\u001b[1;33m]\u001b[0m\u001b[1;33m)\u001b[0m\u001b[1;33m.\u001b[0m\u001b[0mT\u001b[0m\u001b[1;33m\u001b[0m\u001b[1;33m\u001b[0m\u001b[0m\n\u001b[1;32m----> 2\u001b[1;33m \u001b[0mscatterplotmatrix\u001b[0m\u001b[1;33m(\u001b[0m\u001b[0mX\u001b[0m\u001b[1;33m,\u001b[0m \u001b[0mfigsize\u001b[0m\u001b[1;33m=\u001b[0m\u001b[1;33m(\u001b[0m\u001b[1;36m15\u001b[0m\u001b[1;33m,\u001b[0m \u001b[1;36m7\u001b[0m\u001b[1;33m)\u001b[0m\u001b[1;33m,\u001b[0m \u001b[0mnames\u001b[0m \u001b[1;33m=\u001b[0m \u001b[1;33m[\u001b[0m\u001b[1;34m\"Items weights\"\u001b[0m\u001b[1;33m,\u001b[0m \u001b[1;34m\"Items value\"\u001b[0m\u001b[1;33m,\u001b[0m \u001b[1;34m\"Items limit\"\u001b[0m\u001b[1;33m]\u001b[0m\u001b[1;33m)\u001b[0m\u001b[1;33m\u001b[0m\u001b[1;33m\u001b[0m\u001b[0m\n\u001b[0m\u001b[0;32m      3\u001b[0m \u001b[0mplt\u001b[0m\u001b[1;33m.\u001b[0m\u001b[0mtight_layout\u001b[0m\u001b[1;33m(\u001b[0m\u001b[1;33m)\u001b[0m\u001b[1;33m\u001b[0m\u001b[1;33m\u001b[0m\u001b[0m\n\u001b[0;32m      4\u001b[0m \u001b[0mplt\u001b[0m\u001b[1;33m.\u001b[0m\u001b[0mshow\u001b[0m\u001b[1;33m(\u001b[0m\u001b[1;33m)\u001b[0m\u001b[1;33m\u001b[0m\u001b[1;33m\u001b[0m\u001b[0m\n",
      "\u001b[1;31mNameError\u001b[0m: name 'scatterplotmatrix' is not defined"
     ]
    }
   ],
   "source": [
    "X = np.array([state_space[0], state_space[1], state_space[2]]).T\n",
    "scatterplotmatrix(X, figsize=(15, 7), names = [\"Items weights\", \"Items value\", \"Items limit\"])\n",
    "plt.tight_layout()\n",
    "plt.show()"
   ]
  },
  {
   "cell_type": "markdown",
   "metadata": {},
   "source": [
    "**Task 2:**\n",
    "- Sample an action from the environment.\n",
    "- Call the step function and inspect the outputs."
   ]
  },
  {
   "cell_type": "code",
   "execution_count": 6,
   "metadata": {},
   "outputs": [
    {
     "name": "stdout",
     "output_type": "stream",
     "text": [
      "184\n"
     ]
    }
   ],
   "source": [
    "state = env.reset()\n",
    "action = env.action_space.sample()# sample an action from the env instance\n",
    "print(action)"
   ]
  },
  {
   "cell_type": "code",
   "execution_count": 7,
   "metadata": {
    "scrolled": true
   },
   "outputs": [
    {
     "data": {
      "text/plain": [
       "(array([[  5,  62,  68,   9,  14,  21,  99,  76,  50,  75,   1,  27,  79,\n",
       "          80,  81,  84,  51,  41,  35,  34,  28,  56,  31,  97,  80,  11,\n",
       "          67,  75,  34,  39,  59,  76,  26,  69,  69,  63,  49,  51,  79,\n",
       "          98,   2,  66,  62,  13,   7,  11,  27,  92,  67,   5,  32,  89,\n",
       "          31,  18,  18,  85,  56,  57,  40,  82,  15,  18,  48,  59,  73,\n",
       "           7,  74,  43,  26,  30,  72,   6,  95,  92,  74,  54,  10,  71,\n",
       "           5,  48,  83,  46,   3,   4,  12,  29,  78,   2,  48,  37,  77,\n",
       "          14,  30,  40,  16,  79,  25,  74,  64,  63,  85,  26,  41,  31,\n",
       "          79,  88,  31,  26,  68,  18,  31,  62,  55,  60,  16,   5,  99,\n",
       "          34,  60,   8,  42,  33,  10,  80,  29,  93,   4,  26,  71,   6,\n",
       "          65,   9,  18,  79,  83,  69,  64,  90,  63,  55,   3,  76,  27,\n",
       "          57,  15,  72,  22,  85,  18,  78,  39,  36,  90,  46,  38,  60,\n",
       "          61,  37,   8,  57,  56,  54,  73,  51,  98,  35,  15,  54,  26,\n",
       "           6,  60,  14,  66,  31,  40,  24,  11,  66,  56,  70,  22,  71,\n",
       "          50,  95,  22,  72,  82,  57,  99,  70,  86,  19,  28,  95,  20,\n",
       "          85,  57,  65,  60,  51, 200],\n",
       "        [ 73,  90,  22,  49,  74,  20,  89,  27,   2,  81,   0,  80,  10,\n",
       "          14,  50,  83,  81,  76,  20,  52,  81,   6,  55,  49,  68,  74,\n",
       "          54,  79,  69,  21,  58,  39,  82,  67,   5,  41,  17,  68,  12,\n",
       "           3,  70,  27,  97,  28,  38,  68,  23,  26,  36,  77,  11,  35,\n",
       "          65,  49,  27,  70,  82,  30,  31,  12,  86,  21,  10,  12,  71,\n",
       "          88,   4,  99,  92,   2,  28,  56,   8,  71,  34,  84,   3,  67,\n",
       "          14,  11,  24,  28,  52,  30,  72,  14,  14,  71,  17,  67,   5,\n",
       "          64,  50,  25,  96,  48,  68,  90,  96,  97,  62,  27,  26,  34,\n",
       "          25,  84,  43,  96,  77,  52,  85,  79,  17,  79,  81,  77,  82,\n",
       "          26,  22,   4,  78,  81,  58,  18,  63,   2,  92,  35,  84,  27,\n",
       "          97,  75,  30,  98,  39,  87,  81,  62,  40,  77,  46,   7,  72,\n",
       "          61,  44,  32,  81,   1,  91,  98,  93,  35,  97,  51,  24,  40,\n",
       "          30,  55,  56,  66,  88,  94,  38,  14,  76,   1,   0,  27,  89,\n",
       "          86,  59,  47,  16,  44,  19,  78,  28,  77,  66,  99,   7,  29,\n",
       "          94,  22,   7,  18,  63,  35,  27,  99,  73,  84,  55,  77,   5,\n",
       "          79,  11,  82,  24,  69,  22],\n",
       "        [  3,   5,   9,   4,   2,   4,   7,   6,   3,   1,   2,   3,   9,\n",
       "           6,   3,   8,   8,   4,   8,   7,   8,   3,   5,   6,   4,   6,\n",
       "           4,   7,   6,   1,   9,   8,   3,   6,   5,   5,   5,   6,   9,\n",
       "           3,   9,   5,   6,   2,   9,   8,   6,   5,   9,   6,   3,   3,\n",
       "           1,   6,   2,   9,   4,   3,   1,   3,   2,   3,   9,   1,   5,\n",
       "           2,   2,   3,   5,   4,   5,   9,   1,   9,   2,   5,   9,   1,\n",
       "           7,   5,   7,   2,   6,   9,   3,   2,   9,   5,   4,   1,   5,\n",
       "           4,   8,   6,   6,   9,   7,   4,   6,   4,   3,   7,   4,   5,\n",
       "           8,   4,   3,   9,   9,   6,   9,   3,   3,   6,   9,   5,   4,\n",
       "           7,   8,   1,   7,   9,   9,   1,   8,   1,   3,   1,   2,   1,\n",
       "           8,   4,   2,   1,   7,   5,   5,   2,   3,   7,   7,   6,   6,\n",
       "           1,   8,   2,   8,   1,   6,   1,   3,   7,   5,   7,   7,   1,\n",
       "           7,   1,   3,   7,   9,   8,   9,   1,   9,   8,   8,   7,   9,\n",
       "           6,   3,   8,   2,   6,   2,   4,   5,   9,   9,   1,   3,   9,\n",
       "           7,   3,   2,   1,   2,   5,   5,   5,   5,   3,   4,   3,   4,\n",
       "           1,   6,   7,   7,   2,   0]]),\n",
       " 7,\n",
       " False,\n",
       " {})"
      ]
     },
     "execution_count": 7,
     "metadata": {},
     "output_type": "execute_result"
    }
   ],
   "source": [
    "env.step(action)# call the step function of the env. and inspect quadruple of (state, reward, done, info)\n"
   ]
  },
  {
   "cell_type": "markdown",
   "metadata": {
    "id": "_dQ6sZJR-39K"
   },
   "source": [
    "**Task 3:**\n",
    "- Randomly interact with the envrionment for two episodes.  "
   ]
  },
  {
   "cell_type": "code",
   "execution_count": 115,
   "metadata": {
    "colab": {
     "base_uri": "https://localhost:8080/"
    },
    "id": "WkS_hnft-3A2",
    "outputId": "448fa484-b06b-43a6-c4e5-650e0bef88ae"
   },
   "outputs": [
    {
     "name": "stdout",
     "output_type": "stream",
     "text": [
      "\n",
      "EPISODE  0\n",
      "__________\n",
      "[[  5  62  68   9  14  21  99  76  50  75   1  27  79  80  81  84  51  41\n",
      "   35  34  28  56  31  97  80  11  67  75  34  39  59  76  26  69  69  63\n",
      "   49  51  79  98   2  66  62  13   7  11  27  92  67   5  32  89  31  18\n",
      "   18  85  56  57  40  82  15  18  48  59  73   7  74  43  26  30  72   6\n",
      "   95  92  74  54  10  71   5  48  83  46   3   4  12  29  78   2  48  37\n",
      "   77  14  30  40  16  79  25  74  64  63  85  26  41  31  79  88  31  26\n",
      "   68  18  31  62  55  60  16   5  99  34  60   8  42  33  10  80  29  93\n",
      "    4  26  71   6  65   9  18  79  83  69  64  90  63  55   3  76  27  57\n",
      "   15  72  22  85  18  78  39  36  90  46  38  60  61  37   8  57  56  54\n",
      "   73  51  98  35  15  54  26   6  60  14  66  31  40  24  11  66  56  70\n",
      "   22  71  50  95  22  72  82  57  99  70  86  19  28  95  20  85  57  65\n",
      "   60  51 200]\n",
      " [ 73  90  22  49  74  20  89  27   2  81   0  80  10  14  50  83  81  76\n",
      "   20  52  81   6  55  49  68  74  54  79  69  21  58  39  82  67   5  41\n",
      "   17  68  12   3  70  27  97  28  38  68  23  26  36  77  11  35  65  49\n",
      "   27  70  82  30  31  12  86  21  10  12  71  88   4  99  92   2  28  56\n",
      "    8  71  34  84   3  67  14  11  24  28  52  30  72  14  14  71  17  67\n",
      "    5  64  50  25  96  48  68  90  96  97  62  27  26  34  25  84  43  96\n",
      "   77  52  85  79  17  79  81  77  82  26  22   4  78  81  58  18  63   2\n",
      "   92  35  84  27  97  75  30  98  39  87  81  62  40  77  46   7  72  61\n",
      "   44  32  81   1  91  98  93  35  97  51  24  40  30  55  56  66  88  94\n",
      "   38  14  76   1   0  27  89  86  59  47  16  44  19  78  28  77  66  99\n",
      "    7  29  94  22   7  18  63  35  27  99  73  84  55  77   5  79  11  82\n",
      "   24  69  36]\n",
      " [  3   5   9   4   2   4   7   6   3   1   2   3   9   6   3   8   8   4\n",
      "    8   7   8   3   5   6   4   6   4   7   6   1   9   8   3   6   5   5\n",
      "    5   6   9   3   9   5   6   2   9   8   6   5   9   6   3   3   1   6\n",
      "    2   9   4   3   1   3   2   3   9   1   5   2   2   3   5   4   5   9\n",
      "    1   9   2   5   9   1   7   5   7   2   6   9   3   2   9   5   4   1\n",
      "    5   4   8   6   6   9   7   4   6   4   3   7   4   5   8   4   3   9\n",
      "    9   6   9   3   3   6   9   5   4   7   8   1   7   9   9   1   8   1\n",
      "    3   1   2   1   8   4   2   1   7   5   5   2   3   7   7   6   6   1\n",
      "    8   2   8   1   6   1   3   6   5   7   7   1   7   1   3   7   9   8\n",
      "    9   1   9   8   8   7   9   6   3   8   2   6   2   4   5   9   9   1\n",
      "    3   9   7   3   3   1   2   5   5   5   5   3   4   3   4   1   6   7\n",
      "    7   2   0]]\n",
      "Item 151 with a reward of 35\n",
      "[[  5  62  68   9  14  21  99  76  50  75   1  27  79  80  81  84  51  41\n",
      "   35  34  28  56  31  97  80  11  67  75  34  39  59  76  26  69  69  63\n",
      "   49  51  79  98   2  66  62  13   7  11  27  92  67   5  32  89  31  18\n",
      "   18  85  56  57  40  82  15  18  48  59  73   7  74  43  26  30  72   6\n",
      "   95  92  74  54  10  71   5  48  83  46   3   4  12  29  78   2  48  37\n",
      "   77  14  30  40  16  79  25  74  64  63  85  26  41  31  79  88  31  26\n",
      "   68  18  31  62  55  60  16   5  99  34  60   8  42  33  10  80  29  93\n",
      "    4  26  71   6  65   9  18  79  83  69  64  90  63  55   3  76  27  57\n",
      "   15  72  22  85  18  78  39  36  90  46  38  60  61  37   8  57  56  54\n",
      "   73  51  98  35  15  54  26   6  60  14  66  31  40  24  11  66  56  70\n",
      "   22  71  50  95  22  72  82  57  99  70  86  19  28  95  20  85  57  65\n",
      "   60  51 200]\n",
      " [ 73  90  22  49  74  20  89  27   2  81   0  80  10  14  50  83  81  76\n",
      "   20  52  81   6  55  49  68  74  54  79  69  21  58  39  82  67   5  41\n",
      "   17  68  12   3  70  27  97  28  38  68  23  26  36  77  11  35  65  49\n",
      "   27  70  82  30  31  12  86  21  10  12  71  88   4  99  92   2  28  56\n",
      "    8  71  34  84   3  67  14  11  24  28  52  30  72  14  14  71  17  67\n",
      "    5  64  50  25  96  48  68  90  96  97  62  27  26  34  25  84  43  96\n",
      "   77  52  85  79  17  79  81  77  82  26  22   4  78  81  58  18  63   2\n",
      "   92  35  84  27  97  75  30  98  39  87  81  62  40  77  46   7  72  61\n",
      "   44  32  81   1  91  98  93  35  97  51  24  40  30  55  56  66  88  94\n",
      "   38  14  76   1   0  27  89  86  59  47  16  44  19  78  28  77  66  99\n",
      "    7  29  94  22   7  18  63  35  27  99  73  84  55  77   5  79  11  82\n",
      "   24  69  47]\n",
      " [  3   5   9   4   2   4   7   6   3   1   2   3   9   6   3   8   8   4\n",
      "    8   7   8   3   5   6   4   5   4   7   6   1   9   8   3   6   5   5\n",
      "    5   6   9   3   9   5   6   2   9   8   6   5   9   6   3   3   1   6\n",
      "    2   9   4   3   1   3   2   3   9   1   5   2   2   3   5   4   5   9\n",
      "    1   9   2   5   9   1   7   5   7   2   6   9   3   2   9   5   4   1\n",
      "    5   4   8   6   6   9   7   4   6   4   3   7   4   5   8   4   3   9\n",
      "    9   6   9   3   3   6   9   5   4   7   8   1   7   9   9   1   8   1\n",
      "    3   1   2   1   8   4   2   1   7   5   5   2   3   7   7   6   6   1\n",
      "    8   2   8   1   6   1   3   6   5   7   7   1   7   1   3   7   9   8\n",
      "    9   1   9   8   8   7   9   6   3   8   2   6   2   4   5   9   9   1\n",
      "    3   9   7   3   3   1   2   5   5   5   5   3   4   3   4   1   6   7\n",
      "    7   2   0]]\n",
      "Item 25 with a reward of 74\n",
      "[[  5  62  68   9  14  21  99  76  50  75   1  27  79  80  81  84  51  41\n",
      "   35  34  28  56  31  97  80  11  67  75  34  39  59  76  26  69  69  63\n",
      "   49  51  79  98   2  66  62  13   7  11  27  92  67   5  32  89  31  18\n",
      "   18  85  56  57  40  82  15  18  48  59  73   7  74  43  26  30  72   6\n",
      "   95  92  74  54  10  71   5  48  83  46   3   4  12  29  78   2  48  37\n",
      "   77  14  30  40  16  79  25  74  64  63  85  26  41  31  79  88  31  26\n",
      "   68  18  31  62  55  60  16   5  99  34  60   8  42  33  10  80  29  93\n",
      "    4  26  71   6  65   9  18  79  83  69  64  90  63  55   3  76  27  57\n",
      "   15  72  22  85  18  78  39  36  90  46  38  60  61  37   8  57  56  54\n",
      "   73  51  98  35  15  54  26   6  60  14  66  31  40  24  11  66  56  70\n",
      "   22  71  50  95  22  72  82  57  99  70  86  19  28  95  20  85  57  65\n",
      "   60  51 200]\n",
      " [ 73  90  22  49  74  20  89  27   2  81   0  80  10  14  50  83  81  76\n",
      "   20  52  81   6  55  49  68  74  54  79  69  21  58  39  82  67   5  41\n",
      "   17  68  12   3  70  27  97  28  38  68  23  26  36  77  11  35  65  49\n",
      "   27  70  82  30  31  12  86  21  10  12  71  88   4  99  92   2  28  56\n",
      "    8  71  34  84   3  67  14  11  24  28  52  30  72  14  14  71  17  67\n",
      "    5  64  50  25  96  48  68  90  96  97  62  27  26  34  25  84  43  96\n",
      "   77  52  85  79  17  79  81  77  82  26  22   4  78  81  58  18  63   2\n",
      "   92  35  84  27  97  75  30  98  39  87  81  62  40  77  46   7  72  61\n",
      "   44  32  81   1  91  98  93  35  97  51  24  40  30  55  56  66  88  94\n",
      "   38  14  76   1   0  27  89  86  59  47  16  44  19  78  28  77  66  99\n",
      "    7  29  94  22   7  18  63  35  27  99  73  84  55  77   5  79  11  82\n",
      "   24  69  75]\n",
      " [  3   5   9   4   2   4   7   6   3   1   2   3   9   6   3   8   8   4\n",
      "    8   7   7   3   5   6   4   5   4   7   6   1   9   8   3   6   5   5\n",
      "    5   6   9   3   9   5   6   2   9   8   6   5   9   6   3   3   1   6\n",
      "    2   9   4   3   1   3   2   3   9   1   5   2   2   3   5   4   5   9\n",
      "    1   9   2   5   9   1   7   5   7   2   6   9   3   2   9   5   4   1\n",
      "    5   4   8   6   6   9   7   4   6   4   3   7   4   5   8   4   3   9\n",
      "    9   6   9   3   3   6   9   5   4   7   8   1   7   9   9   1   8   1\n",
      "    3   1   2   1   8   4   2   1   7   5   5   2   3   7   7   6   6   1\n",
      "    8   2   8   1   6   1   3   6   5   7   7   1   7   1   3   7   9   8\n",
      "    9   1   9   8   8   7   9   6   3   8   2   6   2   4   5   9   9   1\n",
      "    3   9   7   3   3   1   2   5   5   5   5   3   4   3   4   1   6   7\n",
      "    7   2   0]]\n",
      "Item 20 with a reward of 81\n",
      "[[  5  62  68   9  14  21  99  76  50  75   1  27  79  80  81  84  51  41\n",
      "   35  34  28  56  31  97  80  11  67  75  34  39  59  76  26  69  69  63\n",
      "   49  51  79  98   2  66  62  13   7  11  27  92  67   5  32  89  31  18\n",
      "   18  85  56  57  40  82  15  18  48  59  73   7  74  43  26  30  72   6\n",
      "   95  92  74  54  10  71   5  48  83  46   3   4  12  29  78   2  48  37\n",
      "   77  14  30  40  16  79  25  74  64  63  85  26  41  31  79  88  31  26\n",
      "   68  18  31  62  55  60  16   5  99  34  60   8  42  33  10  80  29  93\n",
      "    4  26  71   6  65   9  18  79  83  69  64  90  63  55   3  76  27  57\n",
      "   15  72  22  85  18  78  39  36  90  46  38  60  61  37   8  57  56  54\n",
      "   73  51  98  35  15  54  26   6  60  14  66  31  40  24  11  66  56  70\n",
      "   22  71  50  95  22  72  82  57  99  70  86  19  28  95  20  85  57  65\n",
      "   60  51 200]\n",
      " [ 73  90  22  49  74  20  89  27   2  81   0  80  10  14  50  83  81  76\n",
      "   20  52  81   6  55  49  68  74  54  79  69  21  58  39  82  67   5  41\n",
      "   17  68  12   3  70  27  97  28  38  68  23  26  36  77  11  35  65  49\n",
      "   27  70  82  30  31  12  86  21  10  12  71  88   4  99  92   2  28  56\n",
      "    8  71  34  84   3  67  14  11  24  28  52  30  72  14  14  71  17  67\n",
      "    5  64  50  25  96  48  68  90  96  97  62  27  26  34  25  84  43  96\n",
      "   77  52  85  79  17  79  81  77  82  26  22   4  78  81  58  18  63   2\n",
      "   92  35  84  27  97  75  30  98  39  87  81  62  40  77  46   7  72  61\n",
      "   44  32  81   1  91  98  93  35  97  51  24  40  30  55  56  66  88  94\n",
      "   38  14  76   1   0  27  89  86  59  47  16  44  19  78  28  77  66  99\n",
      "    7  29  94  22   7  18  63  35  27  99  73  84  55  77   5  79  11  82\n",
      "   24  69 155]\n",
      " [  3   5   9   4   2   4   7   6   3   1   2   3   9   6   3   8   8   4\n",
      "    8   7   7   3   5   6   4   5   4   7   6   1   9   8   3   6   5   5\n",
      "    5   6   9   3   9   5   6   2   9   8   6   5   9   6   3   3   1   6\n",
      "    2   9   4   3   1   3   2   3   9   1   5   2   2   3   5   4   5   9\n",
      "    1   9   2   5   9   1   7   5   7   2   6   9   3   2   9   5   4   1\n",
      "    5   4   8   6   6   9   7   4   6   4   3   7   4   5   8   4   3   9\n",
      "    9   6   9   3   3   6   9   5   4   7   8   1   7   9   9   0   8   1\n",
      "    3   1   2   1   8   4   2   1   7   5   5   2   3   7   7   6   6   1\n",
      "    8   2   8   1   6   1   3   6   5   7   7   1   7   1   3   7   9   8\n",
      "    9   1   9   8   8   7   9   6   3   8   2   6   2   4   5   9   9   1\n",
      "    3   9   7   3   3   1   2   5   5   5   5   3   4   3   4   1   6   7\n",
      "    7   2   0]]\n",
      "Item 123 with a reward of 18\n",
      "[[  5  62  68   9  14  21  99  76  50  75   1  27  79  80  81  84  51  41\n",
      "   35  34  28  56  31  97  80  11  67  75  34  39  59  76  26  69  69  63\n",
      "   49  51  79  98   2  66  62  13   7  11  27  92  67   5  32  89  31  18\n",
      "   18  85  56  57  40  82  15  18  48  59  73   7  74  43  26  30  72   6\n",
      "   95  92  74  54  10  71   5  48  83  46   3   4  12  29  78   2  48  37\n",
      "   77  14  30  40  16  79  25  74  64  63  85  26  41  31  79  88  31  26\n",
      "   68  18  31  62  55  60  16   5  99  34  60   8  42  33  10  80  29  93\n",
      "    4  26  71   6  65   9  18  79  83  69  64  90  63  55   3  76  27  57\n",
      "   15  72  22  85  18  78  39  36  90  46  38  60  61  37   8  57  56  54\n",
      "   73  51  98  35  15  54  26   6  60  14  66  31  40  24  11  66  56  70\n",
      "   22  71  50  95  22  72  82  57  99  70  86  19  28  95  20  85  57  65\n",
      "   60  51 200]\n",
      " [ 73  90  22  49  74  20  89  27   2  81   0  80  10  14  50  83  81  76\n",
      "   20  52  81   6  55  49  68  74  54  79  69  21  58  39  82  67   5  41\n",
      "   17  68  12   3  70  27  97  28  38  68  23  26  36  77  11  35  65  49\n",
      "   27  70  82  30  31  12  86  21  10  12  71  88   4  99  92   2  28  56\n",
      "    8  71  34  84   3  67  14  11  24  28  52  30  72  14  14  71  17  67\n",
      "    5  64  50  25  96  48  68  90  96  97  62  27  26  34  25  84  43  96\n",
      "   77  52  85  79  17  79  81  77  82  26  22   4  78  81  58  18  63   2\n",
      "   92  35  84  27  97  75  30  98  39  87  81  62  40  77  46   7  72  61\n",
      "   44  32  81   1  91  98  93  35  97  51  24  40  30  55  56  66  88  94\n",
      "   38  14  76   1   0  27  89  86  59  47  16  44  19  78  28  77  66  99\n",
      "    7  29  94  22   7  18  63  35  27  99  73  84  55  77   5  79  11  82\n",
      "   24  69 173]\n",
      " [  3   5   9   4   2   4   7   6   3   1   2   3   9   6   3   8   8   4\n",
      "    8   7   7   3   5   6   4   5   4   7   6   1   9   8   3   6   5   5\n",
      "    5   6   9   3   9   5   6   2   9   8   6   5   9   6   3   3   1   6\n",
      "    2   9   4   3   1   3   2   3   9   1   5   2   2   3   5   4   5   9\n",
      "    1   9   2   5   9   1   7   5   7   2   6   9   3   2   9   5   4   1\n",
      "    5   4   8   6   6   9   7   4   6   4   3   7   4   5   8   4   3   9\n",
      "    9   6   9   3   3   6   9   5   4   7   8   1   7   9   9   0   8   1\n",
      "    3   1   2   1   8   4   1   1   7   5   5   2   3   7   7   6   6   1\n",
      "    8   2   8   1   6   1   3   6   5   7   7   1   7   1   3   7   9   8\n",
      "    9   1   9   8   8   7   9   6   3   8   2   6   2   4   5   9   9   1\n",
      "    3   9   7   3   3   1   2   5   5   5   5   3   4   3   4   1   6   7\n",
      "    7   2   0]]\n",
      "Item 132 with a reward of 30\n",
      "[[  5  62  68   9  14  21  99  76  50  75   1  27  79  80  81  84  51  41\n",
      "   35  34  28  56  31  97  80  11  67  75  34  39  59  76  26  69  69  63\n",
      "   49  51  79  98   2  66  62  13   7  11  27  92  67   5  32  89  31  18\n",
      "   18  85  56  57  40  82  15  18  48  59  73   7  74  43  26  30  72   6\n",
      "   95  92  74  54  10  71   5  48  83  46   3   4  12  29  78   2  48  37\n",
      "   77  14  30  40  16  79  25  74  64  63  85  26  41  31  79  88  31  26\n",
      "   68  18  31  62  55  60  16   5  99  34  60   8  42  33  10  80  29  93\n",
      "    4  26  71   6  65   9  18  79  83  69  64  90  63  55   3  76  27  57\n",
      "   15  72  22  85  18  78  39  36  90  46  38  60  61  37   8  57  56  54\n",
      "   73  51  98  35  15  54  26   6  60  14  66  31  40  24  11  66  56  70\n",
      "   22  71  50  95  22  72  82  57  99  70  86  19  28  95  20  85  57  65\n",
      "   60  51 200]\n",
      " [ 73  90  22  49  74  20  89  27   2  81   0  80  10  14  50  83  81  76\n",
      "   20  52  81   6  55  49  68  74  54  79  69  21  58  39  82  67   5  41\n",
      "   17  68  12   3  70  27  97  28  38  68  23  26  36  77  11  35  65  49\n",
      "   27  70  82  30  31  12  86  21  10  12  71  88   4  99  92   2  28  56\n",
      "    8  71  34  84   3  67  14  11  24  28  52  30  72  14  14  71  17  67\n",
      "    5  64  50  25  96  48  68  90  96  97  62  27  26  34  25  84  43  96\n",
      "   77  52  85  79  17  79  81  77  82  26  22   4  78  81  58  18  63   2\n",
      "   92  35  84  27  97  75  30  98  39  87  81  62  40  77  46   7  72  61\n",
      "   44  32  81   1  91  98  93  35  97  51  24  40  30  55  56  66  88  94\n",
      "   38  14  76   1   0  27  89  86  59  47  16  44  19  78  28  77  66  99\n",
      "    7  29  94  22   7  18  63  35  27  99  73  84  55  77   5  79  11  82\n",
      "   24  69 173]\n",
      " [  3   5   9   4   2   4   7   6   3   1   2   3   9   6   3   8   8   4\n",
      "    8   7   7   3   5   6   4   5   4   7   6   1   9   8   3   6   5   5\n",
      "    5   6   9   3   9   5   6   2   9   8   6   5   9   6   3   3   1   6\n",
      "    2   9   4   3   1   3   2   3   9   1   5   2   2   3   5   4   5   9\n",
      "    1   9   2   5   9   1   7   5   7   2   6   9   3   2   9   5   4   1\n",
      "    5   4   8   6   6   9   7   4   6   4   3   7   4   5   8   4   3   9\n",
      "    9   6   9   3   3   6   9   5   4   7   8   1   7   9   9   0   8   1\n",
      "    3   1   2   1   8   4   1   1   7   5   5   2   3   7   7   6   6   1\n",
      "    8   2   8   1   6   1   3   6   5   7   7   1   7   1   3   7   9   8\n",
      "    9   1   9   8   8   7   9   6   3   8   2   6   2   4   5   9   9   1\n",
      "    3   9   7   3   3   1   2   5   5   5   5   3   4   3   4   1   6   7\n",
      "    7   2   0]]\n",
      "Item 138 with a reward of 0\n",
      "\n",
      "Item 138 exceeded the limit which has a weight of 63\n",
      "Total weight sack =\t 18\n",
      "Number of items =\t 5\n",
      "Total reward =\t 238\n",
      "\n",
      "EPISODE  1\n",
      "__________\n",
      "[[  5  62  68   9  14  21  99  76  50  75   1  27  79  80  81  84  51  41\n",
      "   35  34  28  56  31  97  80  11  67  75  34  39  59  76  26  69  69  63\n",
      "   49  51  79  98   2  66  62  13   7  11  27  92  67   5  32  89  31  18\n",
      "   18  85  56  57  40  82  15  18  48  59  73   7  74  43  26  30  72   6\n",
      "   95  92  74  54  10  71   5  48  83  46   3   4  12  29  78   2  48  37\n",
      "   77  14  30  40  16  79  25  74  64  63  85  26  41  31  79  88  31  26\n",
      "   68  18  31  62  55  60  16   5  99  34  60   8  42  33  10  80  29  93\n",
      "    4  26  71   6  65   9  18  79  83  69  64  90  63  55   3  76  27  57\n",
      "   15  72  22  85  18  78  39  36  90  46  38  60  61  37   8  57  56  54\n",
      "   73  51  98  35  15  54  26   6  60  14  66  31  40  24  11  66  56  70\n",
      "   22  71  50  95  22  72  82  57  99  70  86  19  28  95  20  85  57  65\n",
      "   60  51 200]\n",
      " [ 73  90  22  49  74  20  89  27   2  81   0  80  10  14  50  83  81  76\n",
      "   20  52  81   6  55  49  68  74  54  79  69  21  58  39  82  67   5  41\n",
      "   17  68  12   3  70  27  97  28  38  68  23  26  36  77  11  35  65  49\n",
      "   27  70  82  30  31  12  86  21  10  12  71  88   4  99  92   2  28  56\n",
      "    8  71  34  84   3  67  14  11  24  28  52  30  72  14  14  71  17  67\n",
      "    5  64  50  25  96  48  68  90  96  97  62  27  26  34  25  84  43  96\n",
      "   77  52  85  79  17  79  81  77  82  26  22   4  78  81  58  18  63   2\n",
      "   92  35  84  27  97  75  30  98  39  87  81  62  40  77  46   7  72  61\n",
      "   44  32  81   1  91  98  93  35  97  51  24  40  30  55  56  66  88  94\n",
      "   38  14  76   1   0  27  89  86  59  47  16  44  19  78  28  77  66  99\n",
      "    7  29  94  22   7  18  63  35  27  99  73  84  55  77   5  79  11  82\n",
      "   24  69   2]\n",
      " [  3   5   9   4   2   4   7   6   3   1   2   3   9   6   3   8   8   4\n",
      "    8   7   8   3   5   6   4   6   4   7   6   1   9   8   3   6   5   5\n",
      "    5   6   9   3   9   5   6   2   9   8   6   5   9   6   3   3   1   6\n",
      "    2   9   4   3   1   3   2   3   9   1   5   2   2   3   5   4   5   9\n",
      "    1   9   2   5   9   1   7   5   7   2   6   9   3   2   9   4   4   1\n",
      "    5   4   8   6   6   9   7   4   6   4   3   7   4   5   8   4   3   9\n",
      "    9   6   9   3   3   6   9   5   4   7   8   1   7   9   9   1   8   1\n",
      "    3   1   2   1   8   4   2   1   7   5   5   2   3   7   7   6   6   1\n",
      "    8   2   8   1   6   1   3   7   5   7   7   1   7   1   3   7   9   8\n",
      "    9   1   9   8   8   7   9   6   3   8   2   6   2   4   5   9   9   1\n",
      "    3   9   7   3   3   1   2   5   5   5   5   3   4   3   4   1   6   7\n",
      "    7   2   0]]\n",
      "Item 87 with a reward of 71\n",
      "[[  5  62  68   9  14  21  99  76  50  75   1  27  79  80  81  84  51  41\n",
      "   35  34  28  56  31  97  80  11  67  75  34  39  59  76  26  69  69  63\n",
      "   49  51  79  98   2  66  62  13   7  11  27  92  67   5  32  89  31  18\n",
      "   18  85  56  57  40  82  15  18  48  59  73   7  74  43  26  30  72   6\n",
      "   95  92  74  54  10  71   5  48  83  46   3   4  12  29  78   2  48  37\n",
      "   77  14  30  40  16  79  25  74  64  63  85  26  41  31  79  88  31  26\n",
      "   68  18  31  62  55  60  16   5  99  34  60   8  42  33  10  80  29  93\n",
      "    4  26  71   6  65   9  18  79  83  69  64  90  63  55   3  76  27  57\n",
      "   15  72  22  85  18  78  39  36  90  46  38  60  61  37   8  57  56  54\n",
      "   73  51  98  35  15  54  26   6  60  14  66  31  40  24  11  66  56  70\n",
      "   22  71  50  95  22  72  82  57  99  70  86  19  28  95  20  85  57  65\n",
      "   60  51 200]\n",
      " [ 73  90  22  49  74  20  89  27   2  81   0  80  10  14  50  83  81  76\n",
      "   20  52  81   6  55  49  68  74  54  79  69  21  58  39  82  67   5  41\n",
      "   17  68  12   3  70  27  97  28  38  68  23  26  36  77  11  35  65  49\n",
      "   27  70  82  30  31  12  86  21  10  12  71  88   4  99  92   2  28  56\n",
      "    8  71  34  84   3  67  14  11  24  28  52  30  72  14  14  71  17  67\n",
      "    5  64  50  25  96  48  68  90  96  97  62  27  26  34  25  84  43  96\n",
      "   77  52  85  79  17  79  81  77  82  26  22   4  78  81  58  18  63   2\n",
      "   92  35  84  27  97  75  30  98  39  87  81  62  40  77  46   7  72  61\n",
      "   44  32  81   1  91  98  93  35  97  51  24  40  30  55  56  66  88  94\n",
      "   38  14  76   1   0  27  89  86  59  47  16  44  19  78  28  77  66  99\n",
      "    7  29  94  22   7  18  63  35  27  99  73  84  55  77   5  79  11  82\n",
      "   24  69  87]\n",
      " [  3   5   9   4   2   4   7   6   3   1   2   3   9   6   3   8   8   4\n",
      "    8   7   8   3   5   6   4   6   4   7   6   1   9   8   3   6   5   5\n",
      "    5   6   9   3   9   5   6   2   9   8   6   5   9   6   3   3   1   6\n",
      "    2   9   4   3   1   3   2   3   9   1   5   2   2   3   5   4   5   9\n",
      "    1   9   2   5   9   1   7   5   7   2   6   9   3   2   9   4   4   1\n",
      "    5   4   8   6   6   9   7   4   6   4   2   7   4   5   8   4   3   9\n",
      "    9   6   9   3   3   6   9   5   4   7   8   1   7   9   9   1   8   1\n",
      "    3   1   2   1   8   4   2   1   7   5   5   2   3   7   7   6   6   1\n",
      "    8   2   8   1   6   1   3   7   5   7   7   1   7   1   3   7   9   8\n",
      "    9   1   9   8   8   7   9   6   3   8   2   6   2   4   5   9   9   1\n",
      "    3   9   7   3   3   1   2   5   5   5   5   3   4   3   4   1   6   7\n",
      "    7   2   0]]\n",
      "Item 100 with a reward of 62\n",
      "[[  5  62  68   9  14  21  99  76  50  75   1  27  79  80  81  84  51  41\n",
      "   35  34  28  56  31  97  80  11  67  75  34  39  59  76  26  69  69  63\n",
      "   49  51  79  98   2  66  62  13   7  11  27  92  67   5  32  89  31  18\n",
      "   18  85  56  57  40  82  15  18  48  59  73   7  74  43  26  30  72   6\n",
      "   95  92  74  54  10  71   5  48  83  46   3   4  12  29  78   2  48  37\n",
      "   77  14  30  40  16  79  25  74  64  63  85  26  41  31  79  88  31  26\n",
      "   68  18  31  62  55  60  16   5  99  34  60   8  42  33  10  80  29  93\n",
      "    4  26  71   6  65   9  18  79  83  69  64  90  63  55   3  76  27  57\n",
      "   15  72  22  85  18  78  39  36  90  46  38  60  61  37   8  57  56  54\n",
      "   73  51  98  35  15  54  26   6  60  14  66  31  40  24  11  66  56  70\n",
      "   22  71  50  95  22  72  82  57  99  70  86  19  28  95  20  85  57  65\n",
      "   60  51 200]\n",
      " [ 73  90  22  49  74  20  89  27   2  81   0  80  10  14  50  83  81  76\n",
      "   20  52  81   6  55  49  68  74  54  79  69  21  58  39  82  67   5  41\n",
      "   17  68  12   3  70  27  97  28  38  68  23  26  36  77  11  35  65  49\n",
      "   27  70  82  30  31  12  86  21  10  12  71  88   4  99  92   2  28  56\n",
      "    8  71  34  84   3  67  14  11  24  28  52  30  72  14  14  71  17  67\n",
      "    5  64  50  25  96  48  68  90  96  97  62  27  26  34  25  84  43  96\n",
      "   77  52  85  79  17  79  81  77  82  26  22   4  78  81  58  18  63   2\n",
      "   92  35  84  27  97  75  30  98  39  87  81  62  40  77  46   7  72  61\n",
      "   44  32  81   1  91  98  93  35  97  51  24  40  30  55  56  66  88  94\n",
      "   38  14  76   1   0  27  89  86  59  47  16  44  19  78  28  77  66  99\n",
      "    7  29  94  22   7  18  63  35  27  99  73  84  55  77   5  79  11  82\n",
      "   24  69 155]\n",
      " [  3   5   8   4   2   4   7   6   3   1   2   3   9   6   3   8   8   4\n",
      "    8   7   8   3   5   6   4   6   4   7   6   1   9   8   3   6   5   5\n",
      "    5   6   9   3   9   5   6   2   9   8   6   5   9   6   3   3   1   6\n",
      "    2   9   4   3   1   3   2   3   9   1   5   2   2   3   5   4   5   9\n",
      "    1   9   2   5   9   1   7   5   7   2   6   9   3   2   9   4   4   1\n",
      "    5   4   8   6   6   9   7   4   6   4   2   7   4   5   8   4   3   9\n",
      "    9   6   9   3   3   6   9   5   4   7   8   1   7   9   9   1   8   1\n",
      "    3   1   2   1   8   4   2   1   7   5   5   2   3   7   7   6   6   1\n",
      "    8   2   8   1   6   1   3   7   5   7   7   1   7   1   3   7   9   8\n",
      "    9   1   9   8   8   7   9   6   3   8   2   6   2   4   5   9   9   1\n",
      "    3   9   7   3   3   1   2   5   5   5   5   3   4   3   4   1   6   7\n",
      "    7   2   0]]\n",
      "Item 2 with a reward of 22\n",
      "[[  5  62  68   9  14  21  99  76  50  75   1  27  79  80  81  84  51  41\n",
      "   35  34  28  56  31  97  80  11  67  75  34  39  59  76  26  69  69  63\n",
      "   49  51  79  98   2  66  62  13   7  11  27  92  67   5  32  89  31  18\n",
      "   18  85  56  57  40  82  15  18  48  59  73   7  74  43  26  30  72   6\n",
      "   95  92  74  54  10  71   5  48  83  46   3   4  12  29  78   2  48  37\n",
      "   77  14  30  40  16  79  25  74  64  63  85  26  41  31  79  88  31  26\n",
      "   68  18  31  62  55  60  16   5  99  34  60   8  42  33  10  80  29  93\n",
      "    4  26  71   6  65   9  18  79  83  69  64  90  63  55   3  76  27  57\n",
      "   15  72  22  85  18  78  39  36  90  46  38  60  61  37   8  57  56  54\n",
      "   73  51  98  35  15  54  26   6  60  14  66  31  40  24  11  66  56  70\n",
      "   22  71  50  95  22  72  82  57  99  70  86  19  28  95  20  85  57  65\n",
      "   60  51 200]\n",
      " [ 73  90  22  49  74  20  89  27   2  81   0  80  10  14  50  83  81  76\n",
      "   20  52  81   6  55  49  68  74  54  79  69  21  58  39  82  67   5  41\n",
      "   17  68  12   3  70  27  97  28  38  68  23  26  36  77  11  35  65  49\n",
      "   27  70  82  30  31  12  86  21  10  12  71  88   4  99  92   2  28  56\n",
      "    8  71  34  84   3  67  14  11  24  28  52  30  72  14  14  71  17  67\n",
      "    5  64  50  25  96  48  68  90  96  97  62  27  26  34  25  84  43  96\n",
      "   77  52  85  79  17  79  81  77  82  26  22   4  78  81  58  18  63   2\n",
      "   92  35  84  27  97  75  30  98  39  87  81  62  40  77  46   7  72  61\n",
      "   44  32  81   1  91  98  93  35  97  51  24  40  30  55  56  66  88  94\n",
      "   38  14  76   1   0  27  89  86  59  47  16  44  19  78  28  77  66  99\n",
      "    7  29  94  22   7  18  63  35  27  99  73  84  55  77   5  79  11  82\n",
      "   24  69 182]\n",
      " [  3   5   8   4   2   4   7   6   3   1   2   3   9   6   3   8   8   4\n",
      "    8   7   8   3   5   6   4   6   4   7   6   1   9   8   3   6   5   5\n",
      "    5   6   9   3   9   5   6   2   9   8   5   5   9   6   3   3   1   6\n",
      "    2   9   4   3   1   3   2   3   9   1   5   2   2   3   5   4   5   9\n",
      "    1   9   2   5   9   1   7   5   7   2   6   9   3   2   9   4   4   1\n",
      "    5   4   8   6   6   9   7   4   6   4   2   7   4   5   8   4   3   9\n",
      "    9   6   9   3   3   6   9   5   4   7   8   1   7   9   9   1   8   1\n",
      "    3   1   2   1   8   4   2   1   7   5   5   2   3   7   7   6   6   1\n",
      "    8   2   8   1   6   1   3   7   5   7   7   1   7   1   3   7   9   8\n",
      "    9   1   9   8   8   7   9   6   3   8   2   6   2   4   5   9   9   1\n",
      "    3   9   7   3   3   1   2   5   5   5   5   3   4   3   4   1   6   7\n",
      "    7   2   0]]\n",
      "Item 46 with a reward of 23\n",
      "[[  5  62  68   9  14  21  99  76  50  75   1  27  79  80  81  84  51  41\n",
      "   35  34  28  56  31  97  80  11  67  75  34  39  59  76  26  69  69  63\n",
      "   49  51  79  98   2  66  62  13   7  11  27  92  67   5  32  89  31  18\n",
      "   18  85  56  57  40  82  15  18  48  59  73   7  74  43  26  30  72   6\n",
      "   95  92  74  54  10  71   5  48  83  46   3   4  12  29  78   2  48  37\n",
      "   77  14  30  40  16  79  25  74  64  63  85  26  41  31  79  88  31  26\n",
      "   68  18  31  62  55  60  16   5  99  34  60   8  42  33  10  80  29  93\n",
      "    4  26  71   6  65   9  18  79  83  69  64  90  63  55   3  76  27  57\n",
      "   15  72  22  85  18  78  39  36  90  46  38  60  61  37   8  57  56  54\n",
      "   73  51  98  35  15  54  26   6  60  14  66  31  40  24  11  66  56  70\n",
      "   22  71  50  95  22  72  82  57  99  70  86  19  28  95  20  85  57  65\n",
      "   60  51 200]\n",
      " [ 73  90  22  49  74  20  89  27   2  81   0  80  10  14  50  83  81  76\n",
      "   20  52  81   6  55  49  68  74  54  79  69  21  58  39  82  67   5  41\n",
      "   17  68  12   3  70  27  97  28  38  68  23  26  36  77  11  35  65  49\n",
      "   27  70  82  30  31  12  86  21  10  12  71  88   4  99  92   2  28  56\n",
      "    8  71  34  84   3  67  14  11  24  28  52  30  72  14  14  71  17  67\n",
      "    5  64  50  25  96  48  68  90  96  97  62  27  26  34  25  84  43  96\n",
      "   77  52  85  79  17  79  81  77  82  26  22   4  78  81  58  18  63   2\n",
      "   92  35  84  27  97  75  30  98  39  87  81  62  40  77  46   7  72  61\n",
      "   44  32  81   1  91  98  93  35  97  51  24  40  30  55  56  66  88  94\n",
      "   38  14  76   1   0  27  89  86  59  47  16  44  19  78  28  77  66  99\n",
      "    7  29  94  22   7  18  63  35  27  99  73  84  55  77   5  79  11  82\n",
      "   24  69 182]\n",
      " [  3   5   8   4   2   4   7   6   3   1   2   3   9   6   3   8   8   4\n",
      "    8   7   8   3   5   6   4   6   4   7   6   1   9   8   3   6   5   5\n",
      "    5   6   9   3   9   5   6   2   9   8   5   5   9   6   3   3   1   6\n",
      "    2   9   4   3   1   3   2   3   9   1   5   2   2   3   5   4   5   9\n",
      "    1   9   2   5   9   1   7   5   7   2   6   9   3   2   9   4   4   1\n",
      "    5   4   8   6   6   9   7   4   6   4   2   7   4   5   8   4   3   9\n",
      "    9   6   9   3   3   6   9   5   4   7   8   1   7   9   9   1   8   1\n",
      "    3   1   2   1   8   4   2   1   7   5   5   2   3   7   7   6   6   1\n",
      "    8   2   8   1   6   1   3   7   5   7   7   1   7   1   3   7   9   8\n",
      "    9   1   9   8   8   7   9   6   3   8   2   6   2   4   5   9   9   1\n",
      "    3   9   7   3   3   1   2   5   5   5   5   3   4   3   4   1   6   7\n",
      "    7   2   0]]\n",
      "Item 33 with a reward of 0\n",
      "\n",
      "Item 33 exceeded the limit which has a weight of 69\n",
      "Total weight sack =\t 27\n",
      "Number of items =\t 4\n",
      "Total reward =\t 178\n"
     ]
    }
   ],
   "source": [
    "for episode in range(2):\n",
    "    state = env.reset()# get the starting state from the env.\n",
    "    total_reward = 0; weight = 0; nr_items = 0\n",
    "    done = False\n",
    "    print(\"\\nEPISODE \", episode)\n",
    "    print(\"__________\")\n",
    "    for step in range(99): \n",
    "        action = env.action_space.sample() # is the index of the items list\n",
    "        new_state, reward, done, info = env.step(action) #give the action to environment to obtain reward, and next state, \n",
    "        print(new_state)\n",
    "        print(\"Item {} with a reward of {}\".format(action, reward))\n",
    "        if done: # if the goal state is reached or bag is full. \n",
    "            print(\"\\nItem {} exceeded the limit which has a weight of {}\".format(action, new_state[0][action])) # Chosen a item that exceeds the capacity\n",
    "            print(\"Total weight sack =\\t\", weight)\n",
    "            print(\"Number of items =\\t\", nr_items)\n",
    "            print(\"Total reward =\\t\", total_reward)         \n",
    "            \n",
    "            break\n",
    "        nr_items += 1\n",
    "        total_reward += reward\n",
    "        state = new_state\n",
    "        weight = state[0][action]\n",
    "env.close()"
   ]
  },
  {
   "cell_type": "markdown",
   "metadata": {},
   "source": [
    "### Neural network"
   ]
  },
  {
   "cell_type": "code",
   "execution_count": 9,
   "metadata": {
    "scrolled": false
   },
   "outputs": [
    {
     "name": "stdout",
     "output_type": "stream",
     "text": [
      "[  5  62  68   9  14  21  99  76  50  75   1  27  79  80  81  84  51  41\n",
      "  35  34  28  56  31  97  80  11  67  75  34  39  59  76  26  69  69  63\n",
      "  49  51  79  98   2  66  62  13   7  11  27  92  67   5  32  89  31  18\n",
      "  18  85  56  57  40  82  15  18  48  59  73   7  74  43  26  30  72   6\n",
      "  95  92  74  54  10  71   5  48  83  46   3   4  12  29  78   2  48  37\n",
      "  77  14  30  40  16  79  25  74  64  63  85  26  41  31  79  88  31  26\n",
      "  68  18  31  62  55  60  16   5  99  34  60   8  42  33  10  80  29  93\n",
      "   4  26  71   6  65   9  18  79  83  69  64  90  63  55   3  76  27  57\n",
      "  15  72  22  85  18  78  39  36  90  46  38  60  61  37   8  57  56  54\n",
      "  73  51  98  35  15  54  26   6  60  14  66  31  40  24  11  66  56  70\n",
      "  22  71  50  95  22  72  82  57  99  70  86  19  28  95  20  85  57  65\n",
      "  60  51 200] [73 90 22 49 74 20 89 27  2 81  0 80 10 14 50 83 81 76 20 52 81  6 55 49\n",
      " 68 74 54 79 69 21 58 39 82 67  5 41 17 68 12  3 70 27 97 28 38 68 23 26\n",
      " 36 77 11 35 65 49 27 70 82 30 31 12 86 21 10 12 71 88  4 99 92  2 28 56\n",
      "  8 71 34 84  3 67 14 11 24 28 52 30 72 14 14 71 17 67  5 64 50 25 96 48\n",
      " 68 90 96 97 62 27 26 34 25 84 43 96 77 52 85 79 17 79 81 77 82 26 22  4\n",
      " 78 81 58 18 63  2 92 35 84 27 97 75 30 98 39 87 81 62 40 77 46  7 72 61\n",
      " 44 32 81  1 91 98 93 35 97 51 24 40 30 55 56 66 88 94 38 14 76  1  0 27\n",
      " 89 86 59 47 16 44 19 78 28 77 66 99  7 29 94 22  7 18 63 35 27 99 73 84\n",
      " 55 77  5 79 11 82 24 69  0] [3 5 9 4 2 4 7 6 3 1 2 3 9 6 3 8 8 4 8 7 8 3 5 6 4 6 4 7 6 1 9 8 3 6 5 5 5\n",
      " 6 9 3 9 5 6 2 9 8 6 5 9 6 3 3 1 6 2 9 4 3 1 3 2 3 9 1 5 2 2 3 5 4 5 9 1 9\n",
      " 2 5 9 1 7 5 7 2 6 9 3 2 9 5 4 1 5 4 8 6 6 9 7 4 6 4 3 7 4 5 8 4 3 9 9 6 9\n",
      " 3 3 6 9 5 4 7 8 1 7 9 9 1 8 1 3 1 2 1 8 4 2 1 7 5 5 2 3 7 7 6 6 1 8 2 8 1\n",
      " 6 1 3 7 5 7 7 1 7 1 3 7 9 8 9 1 9 8 8 7 9 6 3 8 2 6 2 4 5 9 9 1 3 9 7 3 3\n",
      " 1 2 5 5 5 5 3 4 3 4 1 6 7 7 2 0]\n"
     ]
    }
   ],
   "source": [
    "x_weight = state_space[0]\n",
    "x_value = state_space[1]\n",
    "x_limit = state_space[2]\n",
    "print(x_weight, x_value, x_limit)"
   ]
  },
  {
   "cell_type": "code",
   "execution_count": 132,
   "metadata": {},
   "outputs": [],
   "source": [
    "def get_model(item_count=action_space):\n",
    "    input_weights = tf.keras.Input((item_count+1),3)\n",
    "    #input_prices = tf.keras.Input((item_count,))\n",
    "    #input_limits = tf.keras.Input((item_count,))\n",
    "    \n",
    "    #inputs_concat = tf.keras.layers.Concatenate()([input_weights, input_prices, input_limits])\n",
    "    \n",
    "    picks = tf.keras.layers.Dense((item_count+1) ** 2 + (item_count+1) * 2, activation=\"sigmoid\")(input_weights)\n",
    "    picks = tf.keras.layers.Dense(item_count+1, activation=\"sigmoid\")(picks)\n",
    "    model = tf.keras.Model(inputs=input_weights, outputs=picks)\n",
    "    return model"
   ]
  },
  {
   "cell_type": "code",
   "execution_count": 133,
   "metadata": {},
   "outputs": [
    {
     "data": {
      "image/png": "[encoded data removed]",
      "text/plain": [
       "<IPython.core.display.Image object>"
      ]
     },
     "execution_count": 133,
     "metadata": {},
     "output_type": "execute_result"
    }
   ],
   "source": [
    "model = get_model()\n",
    "model_target = get_model()\n",
    "keras.utils.plot_model(model, show_shapes=True)"
   ]
  },
  {
   "cell_type": "code",
   "execution_count": 127,
   "metadata": {},
   "outputs": [],
   "source": [
    "model.compile(optimizer='adam',\n",
    "              loss=\"binary_crossentropy\",\n",
    "              metrics=['accuracy'])"
   ]
  },
  {
   "cell_type": "code",
   "execution_count": 142,
   "metadata": {
    "scrolled": false
   },
   "outputs": [
    {
     "name": "stdout",
     "output_type": "stream",
     "text": [
      "0 106 43\n",
      "1 57 30\n",
      "2 87 71\n",
      "3 66 4\n",
      "4 148 91\n",
      "5 85 0\n",
      "6 137 0\n",
      "7 6 0\n",
      "8 184 0\n",
      "9 133 0\n",
      "[43, 30, 71, 4, 91, 0, 0, 0, 0, 0]\n"
     ]
    },
    {
     "ename": "InvalidArgumentError",
     "evalue": "Incompatible shapes: [1,201] vs. [10] [Op:Mul]",
     "output_type": "error",
     "traceback": [
      "\u001b[1;31m---------------------------------------------------------------------------\u001b[0m",
      "\u001b[1;31mInvalidArgumentError\u001b[0m                      Traceback (most recent call last)",
      "\u001b[1;32m<ipython-input-142-0ed4a6106b47>\u001b[0m in \u001b[0;36m<module>\u001b[1;34m\u001b[0m\n\u001b[0;32m     72\u001b[0m \u001b[1;33m\u001b[0m\u001b[0m\n\u001b[0;32m     73\u001b[0m     \u001b[0mlog_prob\u001b[0m \u001b[1;33m=\u001b[0m \u001b[0mtf\u001b[0m\u001b[1;33m.\u001b[0m\u001b[0mstack\u001b[0m\u001b[1;33m(\u001b[0m\u001b[0mlp\u001b[0m\u001b[1;33m)\u001b[0m\u001b[1;33m\u001b[0m\u001b[1;33m\u001b[0m\u001b[0m\n\u001b[1;32m---> 74\u001b[1;33m     \u001b[0mpolicy_gradient\u001b[0m \u001b[1;33m=\u001b[0m \u001b[1;33m-\u001b[0m\u001b[0mlog_prob\u001b[0m\u001b[1;33m*\u001b[0m\u001b[0mdiscounted_rewards\u001b[0m\u001b[1;33m\u001b[0m\u001b[1;33m\u001b[0m\u001b[0m\n\u001b[0m\u001b[0;32m     75\u001b[0m \u001b[1;33m\u001b[0m\u001b[0m\n\u001b[0;32m     76\u001b[0m     \u001b[0mmodel\u001b[0m\u001b[1;33m.\u001b[0m\u001b[0mzero_grad\u001b[0m\u001b[1;33m(\u001b[0m\u001b[1;33m)\u001b[0m\u001b[1;33m\u001b[0m\u001b[1;33m\u001b[0m\u001b[0m\n",
      "\u001b[1;32m~\\anaconda3\\lib\\site-packages\\tensorflow\\python\\ops\\math_ops.py\u001b[0m in \u001b[0;36mbinary_op_wrapper\u001b[1;34m(x, y)\u001b[0m\n\u001b[0;32m   1232\u001b[0m         \u001b[1;31m#   r_binary_op_wrapper use different force_same_dtype values.\u001b[0m\u001b[1;33m\u001b[0m\u001b[1;33m\u001b[0m\u001b[1;33m\u001b[0m\u001b[0m\n\u001b[0;32m   1233\u001b[0m         \u001b[0mx\u001b[0m\u001b[1;33m,\u001b[0m \u001b[0my\u001b[0m \u001b[1;33m=\u001b[0m \u001b[0mmaybe_promote_tensors\u001b[0m\u001b[1;33m(\u001b[0m\u001b[0mx\u001b[0m\u001b[1;33m,\u001b[0m \u001b[0my\u001b[0m\u001b[1;33m,\u001b[0m \u001b[0mforce_same_dtype\u001b[0m\u001b[1;33m=\u001b[0m\u001b[1;32mFalse\u001b[0m\u001b[1;33m)\u001b[0m\u001b[1;33m\u001b[0m\u001b[1;33m\u001b[0m\u001b[0m\n\u001b[1;32m-> 1234\u001b[1;33m         \u001b[1;32mreturn\u001b[0m \u001b[0mfunc\u001b[0m\u001b[1;33m(\u001b[0m\u001b[0mx\u001b[0m\u001b[1;33m,\u001b[0m \u001b[0my\u001b[0m\u001b[1;33m,\u001b[0m \u001b[0mname\u001b[0m\u001b[1;33m=\u001b[0m\u001b[0mname\u001b[0m\u001b[1;33m)\u001b[0m\u001b[1;33m\u001b[0m\u001b[1;33m\u001b[0m\u001b[0m\n\u001b[0m\u001b[0;32m   1235\u001b[0m       \u001b[1;32mexcept\u001b[0m \u001b[1;33m(\u001b[0m\u001b[0mTypeError\u001b[0m\u001b[1;33m,\u001b[0m \u001b[0mValueError\u001b[0m\u001b[1;33m)\u001b[0m \u001b[1;32mas\u001b[0m \u001b[0me\u001b[0m\u001b[1;33m:\u001b[0m\u001b[1;33m\u001b[0m\u001b[1;33m\u001b[0m\u001b[0m\n\u001b[0;32m   1236\u001b[0m         \u001b[1;31m# Even if dispatching the op failed, the RHS may be a tensor aware\u001b[0m\u001b[1;33m\u001b[0m\u001b[1;33m\u001b[0m\u001b[1;33m\u001b[0m\u001b[0m\n",
      "\u001b[1;32m~\\anaconda3\\lib\\site-packages\\tensorflow\\python\\ops\\math_ops.py\u001b[0m in \u001b[0;36m_mul_dispatch\u001b[1;34m(x, y, name)\u001b[0m\n\u001b[0;32m   1573\u001b[0m     \u001b[1;32mreturn\u001b[0m \u001b[0msparse_tensor\u001b[0m\u001b[1;33m.\u001b[0m\u001b[0mSparseTensor\u001b[0m\u001b[1;33m(\u001b[0m\u001b[0my\u001b[0m\u001b[1;33m.\u001b[0m\u001b[0mindices\u001b[0m\u001b[1;33m,\u001b[0m \u001b[0mnew_vals\u001b[0m\u001b[1;33m,\u001b[0m \u001b[0my\u001b[0m\u001b[1;33m.\u001b[0m\u001b[0mdense_shape\u001b[0m\u001b[1;33m)\u001b[0m\u001b[1;33m\u001b[0m\u001b[1;33m\u001b[0m\u001b[0m\n\u001b[0;32m   1574\u001b[0m   \u001b[1;32melse\u001b[0m\u001b[1;33m:\u001b[0m\u001b[1;33m\u001b[0m\u001b[1;33m\u001b[0m\u001b[0m\n\u001b[1;32m-> 1575\u001b[1;33m     \u001b[1;32mreturn\u001b[0m \u001b[0mmultiply\u001b[0m\u001b[1;33m(\u001b[0m\u001b[0mx\u001b[0m\u001b[1;33m,\u001b[0m \u001b[0my\u001b[0m\u001b[1;33m,\u001b[0m \u001b[0mname\u001b[0m\u001b[1;33m=\u001b[0m\u001b[0mname\u001b[0m\u001b[1;33m)\u001b[0m\u001b[1;33m\u001b[0m\u001b[1;33m\u001b[0m\u001b[0m\n\u001b[0m\u001b[0;32m   1576\u001b[0m \u001b[1;33m\u001b[0m\u001b[0m\n\u001b[0;32m   1577\u001b[0m \u001b[1;33m\u001b[0m\u001b[0m\n",
      "\u001b[1;32m~\\anaconda3\\lib\\site-packages\\tensorflow\\python\\util\\dispatch.py\u001b[0m in \u001b[0;36mwrapper\u001b[1;34m(*args, **kwargs)\u001b[0m\n\u001b[0;32m    204\u001b[0m     \u001b[1;34m\"\"\"Call target, and fall back on dispatchers if there is a TypeError.\"\"\"\u001b[0m\u001b[1;33m\u001b[0m\u001b[1;33m\u001b[0m\u001b[0m\n\u001b[0;32m    205\u001b[0m     \u001b[1;32mtry\u001b[0m\u001b[1;33m:\u001b[0m\u001b[1;33m\u001b[0m\u001b[1;33m\u001b[0m\u001b[0m\n\u001b[1;32m--> 206\u001b[1;33m       \u001b[1;32mreturn\u001b[0m \u001b[0mtarget\u001b[0m\u001b[1;33m(\u001b[0m\u001b[1;33m*\u001b[0m\u001b[0margs\u001b[0m\u001b[1;33m,\u001b[0m \u001b[1;33m**\u001b[0m\u001b[0mkwargs\u001b[0m\u001b[1;33m)\u001b[0m\u001b[1;33m\u001b[0m\u001b[1;33m\u001b[0m\u001b[0m\n\u001b[0m\u001b[0;32m    207\u001b[0m     \u001b[1;32mexcept\u001b[0m \u001b[1;33m(\u001b[0m\u001b[0mTypeError\u001b[0m\u001b[1;33m,\u001b[0m \u001b[0mValueError\u001b[0m\u001b[1;33m)\u001b[0m\u001b[1;33m:\u001b[0m\u001b[1;33m\u001b[0m\u001b[1;33m\u001b[0m\u001b[0m\n\u001b[0;32m    208\u001b[0m       \u001b[1;31m# Note: convert_to_eager_tensor currently raises a ValueError, not a\u001b[0m\u001b[1;33m\u001b[0m\u001b[1;33m\u001b[0m\u001b[1;33m\u001b[0m\u001b[0m\n",
      "\u001b[1;32m~\\anaconda3\\lib\\site-packages\\tensorflow\\python\\ops\\math_ops.py\u001b[0m in \u001b[0;36mmultiply\u001b[1;34m(x, y, name)\u001b[0m\n\u001b[0;32m    528\u001b[0m   \"\"\"\n\u001b[0;32m    529\u001b[0m \u001b[1;33m\u001b[0m\u001b[0m\n\u001b[1;32m--> 530\u001b[1;33m   \u001b[1;32mreturn\u001b[0m \u001b[0mgen_math_ops\u001b[0m\u001b[1;33m.\u001b[0m\u001b[0mmul\u001b[0m\u001b[1;33m(\u001b[0m\u001b[0mx\u001b[0m\u001b[1;33m,\u001b[0m \u001b[0my\u001b[0m\u001b[1;33m,\u001b[0m \u001b[0mname\u001b[0m\u001b[1;33m)\u001b[0m\u001b[1;33m\u001b[0m\u001b[1;33m\u001b[0m\u001b[0m\n\u001b[0m\u001b[0;32m    531\u001b[0m \u001b[1;33m\u001b[0m\u001b[0m\n\u001b[0;32m    532\u001b[0m \u001b[1;33m\u001b[0m\u001b[0m\n",
      "\u001b[1;32m~\\anaconda3\\lib\\site-packages\\tensorflow\\python\\ops\\gen_math_ops.py\u001b[0m in \u001b[0;36mmul\u001b[1;34m(x, y, name)\u001b[0m\n\u001b[0;32m   6237\u001b[0m       \u001b[1;32mreturn\u001b[0m \u001b[0m_result\u001b[0m\u001b[1;33m\u001b[0m\u001b[1;33m\u001b[0m\u001b[0m\n\u001b[0;32m   6238\u001b[0m     \u001b[1;32mexcept\u001b[0m \u001b[0m_core\u001b[0m\u001b[1;33m.\u001b[0m\u001b[0m_NotOkStatusException\u001b[0m \u001b[1;32mas\u001b[0m \u001b[0me\u001b[0m\u001b[1;33m:\u001b[0m\u001b[1;33m\u001b[0m\u001b[1;33m\u001b[0m\u001b[0m\n\u001b[1;32m-> 6239\u001b[1;33m       \u001b[0m_ops\u001b[0m\u001b[1;33m.\u001b[0m\u001b[0mraise_from_not_ok_status\u001b[0m\u001b[1;33m(\u001b[0m\u001b[0me\u001b[0m\u001b[1;33m,\u001b[0m \u001b[0mname\u001b[0m\u001b[1;33m)\u001b[0m\u001b[1;33m\u001b[0m\u001b[1;33m\u001b[0m\u001b[0m\n\u001b[0m\u001b[0;32m   6240\u001b[0m     \u001b[1;32mexcept\u001b[0m \u001b[0m_core\u001b[0m\u001b[1;33m.\u001b[0m\u001b[0m_FallbackException\u001b[0m\u001b[1;33m:\u001b[0m\u001b[1;33m\u001b[0m\u001b[1;33m\u001b[0m\u001b[0m\n\u001b[0;32m   6241\u001b[0m       \u001b[1;32mpass\u001b[0m\u001b[1;33m\u001b[0m\u001b[1;33m\u001b[0m\u001b[0m\n",
      "\u001b[1;32m~\\anaconda3\\lib\\site-packages\\tensorflow\\python\\framework\\ops.py\u001b[0m in \u001b[0;36mraise_from_not_ok_status\u001b[1;34m(e, name)\u001b[0m\n\u001b[0;32m   6895\u001b[0m   \u001b[0mmessage\u001b[0m \u001b[1;33m=\u001b[0m \u001b[0me\u001b[0m\u001b[1;33m.\u001b[0m\u001b[0mmessage\u001b[0m \u001b[1;33m+\u001b[0m \u001b[1;33m(\u001b[0m\u001b[1;34m\" name: \"\u001b[0m \u001b[1;33m+\u001b[0m \u001b[0mname\u001b[0m \u001b[1;32mif\u001b[0m \u001b[0mname\u001b[0m \u001b[1;32mis\u001b[0m \u001b[1;32mnot\u001b[0m \u001b[1;32mNone\u001b[0m \u001b[1;32melse\u001b[0m \u001b[1;34m\"\"\u001b[0m\u001b[1;33m)\u001b[0m\u001b[1;33m\u001b[0m\u001b[1;33m\u001b[0m\u001b[0m\n\u001b[0;32m   6896\u001b[0m   \u001b[1;31m# pylint: disable=protected-access\u001b[0m\u001b[1;33m\u001b[0m\u001b[1;33m\u001b[0m\u001b[1;33m\u001b[0m\u001b[0m\n\u001b[1;32m-> 6897\u001b[1;33m   \u001b[0msix\u001b[0m\u001b[1;33m.\u001b[0m\u001b[0mraise_from\u001b[0m\u001b[1;33m(\u001b[0m\u001b[0mcore\u001b[0m\u001b[1;33m.\u001b[0m\u001b[0m_status_to_exception\u001b[0m\u001b[1;33m(\u001b[0m\u001b[0me\u001b[0m\u001b[1;33m.\u001b[0m\u001b[0mcode\u001b[0m\u001b[1;33m,\u001b[0m \u001b[0mmessage\u001b[0m\u001b[1;33m)\u001b[0m\u001b[1;33m,\u001b[0m \u001b[1;32mNone\u001b[0m\u001b[1;33m)\u001b[0m\u001b[1;33m\u001b[0m\u001b[1;33m\u001b[0m\u001b[0m\n\u001b[0m\u001b[0;32m   6898\u001b[0m   \u001b[1;31m# pylint: enable=protected-access\u001b[0m\u001b[1;33m\u001b[0m\u001b[1;33m\u001b[0m\u001b[1;33m\u001b[0m\u001b[0m\n\u001b[0;32m   6899\u001b[0m \u001b[1;33m\u001b[0m\u001b[0m\n",
      "\u001b[1;32m~\\anaconda3\\lib\\site-packages\\six.py\u001b[0m in \u001b[0;36mraise_from\u001b[1;34m(value, from_value)\u001b[0m\n",
      "\u001b[1;31mInvalidArgumentError\u001b[0m: Incompatible shapes: [1,201] vs. [10] [Op:Mul]"
     ]
    }
   ],
   "source": [
    "ACTION_SPACE = action_space\n",
    "EPISODES = 1\n",
    "STEPS = 10\n",
    "GAMMA=0.99\n",
    "RENDER=False\n",
    "\n",
    "#optimizer = keras.optimizers.Adam(learning_rate=0.00025, clipnorm=1.0)\n",
    "\n",
    "all_rewards =[]\n",
    "best_rolling = -99999\n",
    "for episode in range(EPISODES):\n",
    "    done=False\n",
    "    state = env.reset()\n",
    "    lp1=[]\n",
    "    lp2=[]\n",
    "    lp3=[]\n",
    "    a=[]\n",
    "    r=[]\n",
    "    d=[]\n",
    "    s=[]\n",
    "\n",
    "    for step in range(STEPS):\n",
    "        if RENDER:\n",
    "            env.render()\n",
    "        #print(model(state))\n",
    "        log_prob_weight, log_prob_value, log_prob_limit = model(state)\n",
    "        \n",
    "        #log_prob = log_prob_weight *log_prob_value * log_prob_limit\n",
    "        #print(log_prob)\n",
    "        \n",
    "        action = env.action_space.sample()\n",
    "        \n",
    "        state,reward,done,i_ = env.step(action)\n",
    "        #print(state,r_,done,i_)\n",
    "        \n",
    "        lp1.append(log_prob_weight)\n",
    "        lp2.append(log_prob_value)\n",
    "        lp3.append(log_prob_limit)\n",
    "        \n",
    "        r.append(reward)\n",
    "        print(step, action, reward)\n",
    "        if done:\n",
    "            all_rewards.append(np.sum(r))\n",
    "            \n",
    "            #if episode%100 ==0:\n",
    "            #   print(f\"EPISODE {episode} SCORE: {np.sum(r)} roll{pd.Series(all_rewards).tail(100).mean()}\")\n",
    "            #    # RENDER = True\n",
    "            #   torch.save(model.state_dict(), 'outputs/last_params_cloud.ckpt')\n",
    "            #   if pd.Series(all_rewards).tail(100).mean()>best_rolling:\n",
    "            #       best_rolling = pd.Series(all_rewards).tail(100).mean()\n",
    "            #       print(\"saving...\")\n",
    "            #       torch.save(model.state_dict(), 'outputs/best_params_cloud.ckpt')\n",
    "            #break\n",
    " \n",
    "    print(r)\n",
    "    discounted_rewards = []\n",
    "\n",
    "    for t in range(len(r)):\n",
    "        Gt = 0 \n",
    "        pw = 0\n",
    "        for r_ in r[t:]:\n",
    "            Gt = Gt + GAMMA**pw * r_\n",
    "            pw = pw + 1\n",
    "        discounted_rewards.append(Gt)\n",
    "    \n",
    "    discounted_rewards = np.array(discounted_rewards)\n",
    "    #print(discounted_rewards)\n",
    "    \n",
    "    #discounted_rewards = torch.tensor(discounted_rewards,dtype=torch.float32,device=DEVICE)\n",
    "    discounted_rewards = (discounted_rewards - np.mean(discounted_rewards))/ (np.std(discounted_rewards))\n",
    "    #print(discounted_rewards)\n",
    "    \n",
    "    log_prob = tf.stack(lp)\n",
    "    policy_gradient = -log_prob*discounted_rewards\n",
    "\n",
    "    model.zero_grad()\n",
    "    policy_gradient.sum().backward()\n",
    "    optimizer.step()"
   ]
  },
  {
   "cell_type": "markdown",
   "metadata": {
    "id": "JEtXMldxQ7uw"
   },
   "source": [
    "## Part 2: Q-Table 🗄️\n",
    "We will implement Q-learning algorithm to devise optimal policy for FrozenLake environment. "
   ]
  },
  {
   "cell_type": "markdown",
   "metadata": {},
   "source": [
    "**Task 4**\n",
    "- Create Q-table with `state space` as rows and `action space` as columns.\n",
    "state =16  action=4"
   ]
  },
  {
   "cell_type": "code",
   "execution_count": null,
   "metadata": {
    "colab": {
     "base_uri": "https://localhost:8080/"
    },
    "id": "noM2G-NsF6Z9",
    "outputId": "c181f6f0-b3da-45af-aad8-de9ab638618b"
   },
   "outputs": [],
   "source": [
    "qtable = np.zeros((len(state_space), action_space))\n",
    "print(qtable)"
   ]
  },
  {
   "cell_type": "markdown",
   "metadata": {
    "id": "rcdaN_DbA3ES"
   },
   "source": [
    "## Part 3: The Q learning algorithm 🧠\n",
    "It is fine if you do not understand all the details at this point. Q-learning will be introduced in Lecture 3 of DRL part. \n",
    "\n"
   ]
  },
  {
   "cell_type": "markdown",
   "metadata": {
    "id": "Rh_0vS_dBPCY"
   },
   "source": [
    "Q learning is a off-policy algorithm. Meaning that the actions that are executed are different from the target actions that are used for learning. \n",
    "Epsilon-greedy policy – most likely selects the `greedy actions` but can select `random actions` too \n",
    "- Ensures explorations\n",
    "- Choose greedy action with 1- є (epsilon) \n",
    "- Choose random action with є (epsilon)"
   ]
  },
  {
   "cell_type": "code",
   "execution_count": null,
   "metadata": {
    "id": "iBiRANB2AH3c"
   },
   "outputs": [],
   "source": [
    "def epsilon_greedy_policy(Q, state, epsilon): \n",
    "      # Q:          : state-action pair\n",
    "      # State (int) : current state\n",
    "      # eps (float): epsilon\n",
    "    action = 0\n",
    "    if random.uniform(0, 1) > epsilon: #exploitation\n",
    "        action = np.argmax(Q[state,:])\n",
    "    else: #exploration \n",
    "        action = env.action_space.sample()\n",
    "    return action"
   ]
  },
  {
   "cell_type": "markdown",
   "metadata": {
    "id": "cOB4TejJM4uA"
   },
   "source": [
    "\n",
    "The algorithm takes nine arguments:\n",
    "- `env`: This is an instance of an OpenAI Gym environment.\n",
    "- `total_episodes`: This is the number of episodes that are generated through agent-environment interaction.\n",
    "- `max_step`: This is the max number of interactions between agent and env. within a single episode.  \n",
    "- `epsilon`: This is to encourage exploration. Epsilon is decayed over time to discourage explortation and encourage exploitation once agent has explored different state. \n",
    "- `max_epsilon`: This is the maximum value of epsilon. \n",
    "- `min_epsilon`: This is the minimum value of epsilon. \n",
    "- `decay_rate`: This is the decay rate for epsilon. \n",
    "- `gamma`: This is the discount rate.  It must be a value between 0 and 1, inclusive (default value: `1`).\n",
    "- `plot_every`: This is additional argument to plot the cumulative reward against episodes. \n",
    "\n",
    "The algorithm returns as output:\n",
    "- `qtable`: This is an ndarray where `qtable[s][a]` is the estimated action value corresponding to state `s` and action `a`."
   ]
  },
  {
   "cell_type": "markdown",
   "metadata": {},
   "source": [
    "**Task 5**\n",
    "- Fill the missing code to complete the Q-learning implementation.\n",
    "- Write a condition to break the loop as soon as agent receives a reward of 0.78 or higher in 100 consecutive episodes."
   ]
  },
  {
   "cell_type": "code",
   "execution_count": null,
   "metadata": {
    "id": "3cNXlxF6F4k1"
   },
   "outputs": [],
   "source": [
    "def q_learning(env, total_episodes, max_steps = 99, epsilon = 1.0, max_epsilon = 1.0, min_epsilon = 0.01, decay_rate = 0.005,  gamma=0.95, plot_every=100):\n",
    "    rewards = []   # List of rewards\n",
    "    tmp_scores = deque(maxlen=plot_every)     # deque for keeping track of scores\n",
    "    avg_scores = deque(maxlen=total_episodes)   # average scores over every plot_every episodes\n",
    "    for episode in range(total_episodes):\n",
    "        state = env.reset()#Reset the environment to the starting state \n",
    "        #step = 0 \n",
    "        done = False\n",
    "        total_rewards = 0 # collected reward within an episode\n",
    "        if episode % 100 == 0: #monitor progress\n",
    "            print(\"\\rEpisode {}/{}\".format(episode, total_episodes), end=\"\") \n",
    "        \n",
    "        for step in range(max_steps): \n",
    "            action = epsilon_greedy_policy(qtable, state, epsilon)# call the epsilon greedy policy to obtain the actions  \n",
    "            new_state, reward, done, info = env.step(action) #take the action and observe resulting reward and state. \n",
    "\n",
    "            # Update Q(s,a):= Q(s,a) + lr [R(s,a) + gamma * max Q(s',a') - Q(s,a)]\n",
    "            # qtable[new_state,:] : all the actions we can take from new state\n",
    "            qtable[state, action] = qtable[state, action] + learning_rate * (reward + gamma * np.max(qtable[new_state, :]) - qtable[state, action]) #update the qtable. np.max(qtable[new_state, :] is greedy action used for learning!. \n",
    "\n",
    "            total_rewards += reward # sum the rewards collected within an episode\n",
    "            state = new_state # Our new state is state\n",
    "            if done == True: #done is true when agent fall into hole or reached the goal state\n",
    "                tmp_scores.append(total_rewards)  #for plot\n",
    "                break\n",
    "        if (episode % plot_every == 0): #for plot\n",
    "            avg_scores.append(np.mean(tmp_scores))\n",
    "            \n",
    "            #....  #break the loop as soon as agent obtain the reward of 0.78 or higher in 100 consective episodes. \n",
    "        epsilon = min_epsilon + (max_epsilon - min_epsilon)*np.exp(-decay_rate*episode) # Reduce epsilon value to encourage expoitation and discouage exlortation \n",
    "        rewards.append(total_rewards)\n",
    "\n",
    "    # plot performance\n",
    "    plt.plot(np.linspace(0,total_episodes,len(avg_scores),endpoint=False), np.asarray(avg_scores))\n",
    "    plt.xlabel('Episode Number')\n",
    "    plt.ylabel('Average Reward (Over %d Episodes)' % plot_every)\n",
    "    plt.show()\n",
    "    # print best 100-episode performance\n",
    "    print(('Best Average Reward over %d Episodes: ' % plot_every), np.max(avg_scores))    \n",
    "    return qtable\n",
    "\n"
   ]
  },
  {
   "cell_type": "markdown",
   "metadata": {
    "id": "WEGeWKKsAu7X"
   },
   "source": [
    "## Part 4: Train the agent  🤖\n",
    "Here comes the real part. \n",
    "- We will train our agent using Q-learning algorithm defined above.   "
   ]
  },
  {
   "cell_type": "markdown",
   "metadata": {},
   "source": [
    "**Task 6**\n",
    "- Call the Q-learning algorithm with appropriate hyperparameter setting. \n",
    "- Find the hyper-parameters configuration  to solve the environment in fewer than 5000 training episodes. "
   ]
  },
  {
   "cell_type": "code",
   "execution_count": null,
   "metadata": {
    "id": "FJhPxx7UAunE"
   },
   "outputs": [],
   "source": [
    "total_episodes = 20000       # Total episodes\n",
    "learning_rate = 0.2#7          # Learning rate\n",
    "max_steps = 99               # Max steps per episode\n",
    "gamma = 0.95                 # Discounting rate\n",
    "\n",
    "# Exploration parameters\n",
    "epsilon = 1.0                 # Exploration rate\n",
    "max_epsilon = 1.0             # Exploration probability at start\n",
    "min_epsilon = 0.01            # Minimum exploration probability \n",
    "decay_rate = 0.005            # Exponential decay rate for exploration prob"
   ]
  },
  {
   "cell_type": "code",
   "execution_count": null,
   "metadata": {
    "colab": {
     "base_uri": "https://localhost:8080/",
     "height": 603
    },
    "id": "lGABCf7TGHRH",
    "outputId": "98e11365-ca70-4d52-c189-f13e0b466829"
   },
   "outputs": [],
   "source": [
    "q_learning(env, total_episodes, epsilon = 1.0, gamma=0.95, plot_every=100)"
   ]
  },
  {
   "cell_type": "markdown",
   "metadata": {
    "heading_collapsed": true,
    "id": "R5czk9qTBQIU"
   },
   "source": [
    "## Part 5: Action in Action! 🕹️\n",
    "- After training, the agent has develop a Q-table can be used to play FrozenLake. The Q-table tells agent which action to take in each state. \n",
    "- Run the code below to see our agent playing FrozenLake."
   ]
  },
  {
   "cell_type": "code",
   "execution_count": null,
   "metadata": {
    "colab": {
     "base_uri": "https://localhost:8080/"
    },
    "hidden": true,
    "id": "Bt8UsREaBNkJ",
    "outputId": "8aa495fa-08e8-4044-e143-6d7c681a9817"
   },
   "outputs": [],
   "source": [
    "env.reset()\n",
    "\n",
    "for episode in range(5):\n",
    "    state = env.reset()\n",
    "    step = 0\n",
    "    done = False\n",
    "    print(\"********************\")\n",
    "    print(\"EPISODE \", episode)\n",
    "    for step in range(max_steps):\n",
    "        action = np.argmax(qtable[state,:])# Take the action (index) with maximum expected future reward given that state\n",
    "        new_state, reward, done, info = env.step(action)\n",
    "        if done:\n",
    "            env.render()\n",
    "            if new_state == 15:\n",
    "                print(\"Goal 🏅\")\n",
    "            else:\n",
    "                print(\"Hole 💀\")            \n",
    "            # We print the number of step it took.\n",
    "            print(\"Number of steps\", step)            \n",
    "            break\n",
    "        state = new_state\n",
    "env.close()"
   ]
  },
  {
   "cell_type": "code",
   "execution_count": null,
   "metadata": {
    "hidden": true
   },
   "outputs": [],
   "source": []
  },
  {
   "cell_type": "code",
   "execution_count": null,
   "metadata": {},
   "outputs": [],
   "source": []
  },
  {
   "cell_type": "code",
   "execution_count": null,
   "metadata": {},
   "outputs": [],
   "source": []
  }
 ],
 "metadata": {
  "colab": {
   "collapsed_sections": [
    "RkMMK4kj5h74",
    "0fz-X3HTQueX",
    "JEtXMldxQ7uw",
    "rcdaN_DbA3ES",
    "WEGeWKKsAu7X",
    "R5czk9qTBQIU"
   ],
   "name": "Solving FrozenLake using Q-learning.ipynb",
   "provenance": []
  },
  "kernelspec": {
   "display_name": "Python 3",
   "language": "python",
   "name": "python3"
  },
  "language_info": {
   "codemirror_mode": {
    "name": "ipython",
    "version": 3
   },
   "file_extension": ".py",
   "mimetype": "text/x-python",
   "name": "python",
   "nbconvert_exporter": "python",
   "pygments_lexer": "ipython3",
   "version": "3.8.8"
  }
 },
 "nbformat": 4,
 "nbformat_minor": 1
}
