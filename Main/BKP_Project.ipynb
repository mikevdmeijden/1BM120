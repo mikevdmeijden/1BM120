{
 "cells": [
  {
   "cell_type": "markdown",
   "metadata": {
    "id": "mhI1eNEXQCjK"
   },
   "source": [
    "# KnapsackV2\n",
    "1BM120"
   ]
  },
  {
   "cell_type": "markdown",
   "metadata": {
    "id": "G9qH33L_QoBk"
   },
   "source": [
    "    Import the neccary packages\n",
    "- `Numpy` for our Qtable\n",
    "- `OpenAI Gym` for our FrozenLake Environment\n",
    "- `Random` to generate random numbers\n",
    "- `Deque` to record cumulative reward over multiple episodes\n",
    "- `MatPlotlib` to generate plots"
   ]
  },
  {
   "cell_type": "code",
   "execution_count": 1,
   "metadata": {
    "id": "oU8zRXv8QHlm"
   },
   "outputs": [],
   "source": [
    "import numpy as np\n",
    "import gym\n",
    "import or_gym\n",
    "import random\n",
    "from collections import deque\n",
    "import matplotlib.pyplot as plt\n",
    "from mlxtend.plotting import scatterplotmatrix\n",
    "%matplotlib inline"
   ]
  },
  {
   "cell_type": "markdown",
   "metadata": {
    "id": "0fz-X3HTQueX"
   },
   "source": [
    "## Part 1: Explore Knapsack"
   ]
  },
  {
   "cell_type": "markdown",
   "metadata": {},
   "source": [
    " **Task 1:** \n",
    "- Create an instance of the environment\n",
    "- Print and plot the state and action space"
   ]
  },
  {
   "cell_type": "code",
   "execution_count": 8,
   "metadata": {
    "id": "mh9jBR_cQ5_a"
   },
   "outputs": [],
   "source": [
    "env = or_gym.make(\"Knapsack-v2\") # Create an  instance of the environment \n",
    "env.mask = False"
   ]
  },
  {
   "cell_type": "code",
   "execution_count": 11,
   "metadata": {
    "colab": {
     "base_uri": "https://localhost:8080/"
    },
    "id": "8PdZVucK_jMf",
    "outputId": "c1aff157-3aa7-46c8-f368-0cc5de2af402",
    "scrolled": true
   },
   "outputs": [
    {
     "name": "stdout",
     "output_type": "stream",
     "text": [
      "Action space 200\n",
      "State space {'action_mask': array([1, 1, 1, 1, 1, 1, 1, 1, 1, 1, 1, 1, 1, 1, 1, 1, 1, 1, 1, 1, 1, 1,\n",
      "       1, 1, 1, 1, 1, 1, 1, 1, 1, 1, 1, 1, 1, 1, 1, 1, 1, 1, 1, 1, 1, 1,\n",
      "       1, 1, 1, 1, 1, 1, 1, 1, 1, 1, 1, 1, 1, 1, 1, 1, 1, 1, 1, 1, 1, 1,\n",
      "       1, 1, 1, 1, 1, 1, 1, 1, 1, 1, 1, 1, 1, 1, 1, 1, 1, 1, 1, 1, 1, 1,\n",
      "       1, 1, 1, 1, 1, 1, 1, 1, 1, 1, 1, 1, 1, 1, 1, 1, 1, 1, 1, 1, 1, 1,\n",
      "       1, 1, 1, 1, 1, 1, 1, 1, 1, 1, 1, 1, 1, 1, 1, 1, 1, 1, 1, 1, 1, 1,\n",
      "       1, 1, 1, 1, 1, 1, 1, 1, 1, 1, 1, 1, 1, 1, 1, 1, 1, 1, 1, 1, 1, 1,\n",
      "       1, 1, 1, 1, 1, 1, 1, 1, 1, 1, 1, 1, 1, 1, 1, 1, 1, 1, 1, 1, 1, 1,\n",
      "       1, 1, 1, 1, 1, 1, 1, 1, 1, 1, 1, 1, 1, 1, 1, 1, 1, 1, 1, 1, 1, 1,\n",
      "       1, 1]), 'avail_actions': array([1., 1., 1., 1., 1., 1., 1., 1., 1., 1., 1., 1., 1., 1., 1., 1., 1.,\n",
      "       1., 1., 1., 1., 1., 1., 1., 1., 1., 1., 1., 1., 1., 1., 1., 1., 1.,\n",
      "       1., 1., 1., 1., 1., 1., 1., 1., 1., 1., 1., 1., 1., 1., 1., 1., 1.,\n",
      "       1., 1., 1., 1., 1., 1., 1., 1., 1., 1., 1., 1., 1., 1., 1., 1., 1.,\n",
      "       1., 1., 1., 1., 1., 1., 1., 1., 1., 1., 1., 1., 1., 1., 1., 1., 1.,\n",
      "       1., 1., 1., 1., 1., 1., 1., 1., 1., 1., 1., 1., 1., 1., 1., 1., 1.,\n",
      "       1., 1., 1., 1., 1., 1., 1., 1., 1., 1., 1., 1., 1., 1., 1., 1., 1.,\n",
      "       1., 1., 1., 1., 1., 1., 1., 1., 1., 1., 1., 1., 1., 1., 1., 1., 1.,\n",
      "       1., 1., 1., 1., 1., 1., 1., 1., 1., 1., 1., 1., 1., 1., 1., 1., 1.,\n",
      "       1., 1., 1., 1., 1., 1., 1., 1., 1., 1., 1., 1., 1., 1., 1., 1., 1.,\n",
      "       1., 1., 1., 1., 1., 1., 1., 1., 1., 1., 1., 1., 1., 1., 1., 1., 1.,\n",
      "       1., 1., 1., 1., 1., 1., 1., 1., 1., 1., 1., 1., 1.]), 'state': array([[ 55,  54,   3,  51,  95,  83,  95,   1,  56,  84,  34,   3,  94,\n",
      "         22,  23,  20,  33,  34,  28,  55,  35,   5,  63,  23,  83,  24,\n",
      "         77,   4,  58,  95,  76,  99,  30,  75,  99,  18,  59,  21,  70,\n",
      "         63,  51,  38,  27,  59,  85,  55,  75,   7,  26,  77,  32,  85,\n",
      "         58,  68,  13,  72,   4,  29,  13,  38,  40,  22,  88,  19,  88,\n",
      "         44,  70,  36,  65,  75,  73,  10,  17,  48,  24,  75,  19,  98,\n",
      "         40,  28,  31,  42,  63,  95,  36,  14,  72,  75,  95,  57,  41,\n",
      "         36,  42,  73,  81,  80,  99,  25,  59,  98,  89,  67,  69,  52,\n",
      "         23,  62,   1,  66,  63,  60,  48,   3,  28,  50,  72,  33,  41,\n",
      "         86,  18,  36,  43,  25,  57,  71,  47,  48,  19,   6,  94,  95,\n",
      "         55,  77,   5,  10,  10,  51,  40,  87,  51,  35,  88,  22,  76,\n",
      "         31,  20,  65,  11,  94,  78,  19,  37,  19,  95,  25,  75,  47,\n",
      "         67,   6,  69,  41,  84,  58,  78,  33,  78,   9,  42,  88,  79,\n",
      "         93,  48,  74,  68,  23,   8,  24,  70,  63,  39,  70,  65,  43,\n",
      "         84,   1,  99,  56,  69,   4,  31,  11,   5,  87,  58,  56,  81,\n",
      "         29,  92,  42,  10,  13, 200],\n",
      "       [ 69,  42,  39,  56,  12,  48,  75,  86,  60,  12,  91,  39,  47,\n",
      "         79,  10,  55,  90,  62,  64,  23,  97,  59,  10,  91,  72,  35,\n",
      "          4,  95,  40,  21,  87,  44,  94,   2,  52,  65,  30,   8,  96,\n",
      "         93,  37,  31,  28,  53,  55,  19,  23,  12,  27,  43,  77,  60,\n",
      "         87,  78,  26,  15,  61,  66,  51,  69,  98,  23,  22,  45,  18,\n",
      "         18,  72,  70,   8,  73,  27,  57,  24,  15,  25,  36,  30,   6,\n",
      "         82,  23,  17,  40,   3,  63,   5,  97,  99,  87,   3,  61,  59,\n",
      "         78,  32,  88,   3,  57,  10,   3,  95,  21,  73,  75,  97,  27,\n",
      "         96,  73,  10,  58,  12,  85,  23,  14,  29,  63,  85,  12,  72,\n",
      "         87,  84,  23,  80,  11,   4,  45,  87,  48,  33,  57,  52,  72,\n",
      "         30,  89,  51,  66,  17,  65,  45,  70,  87,  72,  66,  55,  26,\n",
      "         86,  54,  58,  48,  80,  44,  79,  43,   2,  21,  64,  76,  84,\n",
      "          0,  87,  55,  19,  98,  57,  72,  82,  39,  95,  75,  71,  30,\n",
      "         67,  23,  66,   3,   5,  89,  33,  22,  15,  20,  62,   5,  30,\n",
      "          9,  51,   8,  75,   8,   6,  95,   7,  12,  93,  22,  42,   8,\n",
      "         13,  85,  54,  39,  50,   0],\n",
      "       [  3,   8,   2,   4,   5,   2,   9,   7,   3,   9,   3,   8,   7,\n",
      "          3,   9,   6,   7,   7,   6,   2,   5,   8,   2,   4,   7,   5,\n",
      "          3,   9,   9,   4,   3,   5,   8,   1,   3,   5,   8,   7,   9,\n",
      "          1,   2,   7,   8,   2,   7,   6,   8,   6,   8,   3,   2,   1,\n",
      "          6,   6,   6,   7,   3,   4,   8,   1,   6,   5,   4,   1,   4,\n",
      "          8,   4,   5,   1,   1,   2,   3,   5,   4,   7,   1,   8,   7,\n",
      "          4,   8,   8,   7,   5,   3,   2,   9,   1,   3,   9,   6,   6,\n",
      "          6,   5,   1,   5,   6,   3,   8,   4,   4,   5,   5,   3,   1,\n",
      "          5,   4,   3,   5,   8,   9,   6,   5,   8,   2,   6,   1,   9,\n",
      "          4,   9,   2,   7,   5,   6,   2,   9,   8,   6,   2,   1,   9,\n",
      "          4,   1,   1,   5,   9,   2,   4,   5,   7,   7,   8,   1,   2,\n",
      "          1,   7,   5,   7,   5,   5,   3,   4,   2,   9,   8,   9,   8,\n",
      "          4,   9,   8,   8,   9,   1,   8,   6,   5,   8,   5,   3,   1,\n",
      "          5,   5,   6,   2,   6,   9,   3,   1,   6,   6,   5,   8,   7,\n",
      "          7,   6,   4,   3,   3,   3,   2,   5,   7,   9,   9,   5,   5,\n",
      "          8,   2,   3,   8,   1,   0]])}\n"
     ]
    }
   ],
   "source": [
    "state_space = env.reset()#env.observation_space.n#Get number of states in an environment \n",
    "action_space = env.action_space.n#env.action_space.n#Get number of actions in an environment \n",
    "print('Action space', action_space)\n",
    "print('State space', state_space)"
   ]
  },
  {
   "cell_type": "code",
   "execution_count": 38,
   "metadata": {},
   "outputs": [
    {
     "data": {
      "image/png": "[encoded data removed]",
      "text/plain": [
       "<Figure size 1080x360 with 3 Axes>"
      ]
     },
     "metadata": {
      "needs_background": "light"
     },
     "output_type": "display_data"
    }
   ],
   "source": [
    "# Plot of the state space\n",
    "\n",
    "fig, (ax1, ax2, ax3) = plt.subplots(1,3, figsize=(15, 5))\n",
    "\n",
    "ax1.hist(state_space[\"state\"][0])\n",
    "ax1.set_title(\"Items weight\")\n",
    "\n",
    "ax2.hist(state_space[\"state\"][1])\n",
    "ax2.set_title(\"Items value\")\n",
    "\n",
    "ax3.hist(state_space[\"state\"][2])\n",
    "ax3.set_title(\"Items limit\")\n",
    "\n",
    "plt.show()"
   ]
  },
  {
   "cell_type": "code",
   "execution_count": 141,
   "metadata": {},
   "outputs": [
    {
     "data": {
      "image/png": "[encoded data removed]",
      "text/plain": [
       "<Figure size 1080x504 with 9 Axes>"
      ]
     },
     "metadata": {
      "needs_background": "light"
     },
     "output_type": "display_data"
    }
   ],
   "source": [
    "X = np.array([state_space[\"state\"][0], state_space[\"state\"][1], state_space[\"state\"][2]]).T\n",
    "scatterplotmatrix(X, figsize=(15, 7), names = [\"Items weights\", \"Items value\", \"Items limit\"])\n",
    "plt.tight_layout()\n",
    "plt.show()"
   ]
  },
  {
   "cell_type": "markdown",
   "metadata": {},
   "source": [
    "**Task 2:**\n",
    "- Sample an action from the environment.\n",
    "- Call the step function and inspect the outputs."
   ]
  },
  {
   "cell_type": "code",
   "execution_count": 88,
   "metadata": {},
   "outputs": [
    {
     "name": "stdout",
     "output_type": "stream",
     "text": [
      "1\n"
     ]
    }
   ],
   "source": [
    "state = env.reset()\n",
    "action = env.action_space.sample()# sample an action from the env instance\n",
    "print(action)"
   ]
  },
  {
   "cell_type": "code",
   "execution_count": 89,
   "metadata": {
    "scrolled": true
   },
   "outputs": [
    {
     "data": {
      "text/plain": [
       "({'action_mask': array([1, 1, 1, 1, 1, 1, 1, 1, 1, 1, 1, 1, 1, 1, 1, 1, 1, 1, 1, 1, 1, 1,\n",
       "         1, 1, 1, 1, 1, 1, 1, 1, 1, 1, 1, 1, 1, 1, 1, 1, 1, 1, 1, 1, 1, 1,\n",
       "         1, 1, 1, 1, 1, 1, 1, 1, 1, 1, 1, 1, 1, 1, 1, 1, 1, 1, 1, 1, 1, 1,\n",
       "         1, 1, 1, 1, 1, 1, 1, 1, 1, 1, 1, 1, 1, 1, 1, 1, 1, 1, 1, 1, 1, 1,\n",
       "         1, 1, 1, 1, 1, 1, 1, 1, 1, 1, 1, 1, 1, 1, 1, 1, 1, 1, 1, 1, 1, 1,\n",
       "         1, 1, 1, 1, 1, 1, 1, 1, 1, 1, 1, 1, 1, 1, 1, 1, 1, 1, 1, 1, 1, 1,\n",
       "         1, 1, 1, 1, 1, 1, 1, 1, 1, 1, 1, 1, 1, 1, 1, 1, 1, 1, 1, 1, 1, 1,\n",
       "         1, 1, 1, 1, 1, 1, 1, 1, 1, 1, 1, 1, 1, 1, 1, 1, 1, 1, 1, 1, 1, 1,\n",
       "         1, 1, 1, 1, 1, 1, 1, 1, 1, 1, 1, 1, 1, 1, 1, 1, 1, 1, 1, 1, 1, 1,\n",
       "         1, 1]),\n",
       "  'avail_actions': array([1., 1., 1., 1., 1., 1., 1., 1., 1., 1., 1., 1., 1., 1., 1., 1., 1.,\n",
       "         1., 1., 1., 1., 1., 1., 1., 1., 1., 1., 1., 1., 1., 1., 1., 1., 1.,\n",
       "         1., 1., 1., 1., 1., 1., 1., 1., 1., 1., 1., 1., 1., 1., 1., 1., 1.,\n",
       "         1., 1., 1., 1., 1., 1., 1., 1., 1., 1., 1., 1., 1., 1., 1., 1., 1.,\n",
       "         1., 1., 1., 1., 1., 1., 1., 1., 1., 1., 1., 1., 1., 1., 1., 1., 1.,\n",
       "         1., 1., 1., 1., 1., 1., 1., 1., 1., 1., 1., 1., 1., 1., 1., 1., 1.,\n",
       "         1., 1., 1., 1., 1., 1., 1., 1., 1., 1., 1., 1., 1., 1., 1., 1., 1.,\n",
       "         1., 1., 1., 1., 1., 1., 1., 1., 1., 1., 1., 1., 1., 1., 1., 1., 1.,\n",
       "         1., 1., 1., 1., 1., 1., 1., 1., 1., 1., 1., 1., 1., 1., 1., 1., 1.,\n",
       "         1., 1., 1., 1., 1., 1., 1., 1., 1., 1., 1., 1., 1., 1., 1., 1., 1.,\n",
       "         1., 1., 1., 1., 1., 1., 1., 1., 1., 1., 1., 1., 1., 1., 1., 1., 1.,\n",
       "         1., 1., 1., 1., 1., 1., 1., 1., 1., 1., 1., 1., 1.]),\n",
       "  'state': array([[ 55,  54,   3,  51,  95,  83,  95,   1,  56,  84,  34,   3,  94,\n",
       "           22,  23,  20,  33,  34,  28,  55,  35,   5,  63,  23,  83,  24,\n",
       "           77,   4,  58,  95,  76,  99,  30,  75,  99,  18,  59,  21,  70,\n",
       "           63,  51,  38,  27,  59,  85,  55,  75,   7,  26,  77,  32,  85,\n",
       "           58,  68,  13,  72,   4,  29,  13,  38,  40,  22,  88,  19,  88,\n",
       "           44,  70,  36,  65,  75,  73,  10,  17,  48,  24,  75,  19,  98,\n",
       "           40,  28,  31,  42,  63,  95,  36,  14,  72,  75,  95,  57,  41,\n",
       "           36,  42,  73,  81,  80,  99,  25,  59,  98,  89,  67,  69,  52,\n",
       "           23,  62,   1,  66,  63,  60,  48,   3,  28,  50,  72,  33,  41,\n",
       "           86,  18,  36,  43,  25,  57,  71,  47,  48,  19,   6,  94,  95,\n",
       "           55,  77,   5,  10,  10,  51,  40,  87,  51,  35,  88,  22,  76,\n",
       "           31,  20,  65,  11,  94,  78,  19,  37,  19,  95,  25,  75,  47,\n",
       "           67,   6,  69,  41,  84,  58,  78,  33,  78,   9,  42,  88,  79,\n",
       "           93,  48,  74,  68,  23,   8,  24,  70,  63,  39,  70,  65,  43,\n",
       "           84,   1,  99,  56,  69,   4,  31,  11,   5,  87,  58,  56,  81,\n",
       "           29,  92,  42,  10,  13, 200],\n",
       "         [ 69,  42,  39,  56,  12,  48,  75,  86,  60,  12,  91,  39,  47,\n",
       "           79,  10,  55,  90,  62,  64,  23,  97,  59,  10,  91,  72,  35,\n",
       "            4,  95,  40,  21,  87,  44,  94,   2,  52,  65,  30,   8,  96,\n",
       "           93,  37,  31,  28,  53,  55,  19,  23,  12,  27,  43,  77,  60,\n",
       "           87,  78,  26,  15,  61,  66,  51,  69,  98,  23,  22,  45,  18,\n",
       "           18,  72,  70,   8,  73,  27,  57,  24,  15,  25,  36,  30,   6,\n",
       "           82,  23,  17,  40,   3,  63,   5,  97,  99,  87,   3,  61,  59,\n",
       "           78,  32,  88,   3,  57,  10,   3,  95,  21,  73,  75,  97,  27,\n",
       "           96,  73,  10,  58,  12,  85,  23,  14,  29,  63,  85,  12,  72,\n",
       "           87,  84,  23,  80,  11,   4,  45,  87,  48,  33,  57,  52,  72,\n",
       "           30,  89,  51,  66,  17,  65,  45,  70,  87,  72,  66,  55,  26,\n",
       "           86,  54,  58,  48,  80,  44,  79,  43,   2,  21,  64,  76,  84,\n",
       "            0,  87,  55,  19,  98,  57,  72,  82,  39,  95,  75,  71,  30,\n",
       "           67,  23,  66,   3,   5,  89,  33,  22,  15,  20,  62,   5,  30,\n",
       "            9,  51,   8,  75,   8,   6,  95,   7,  12,  93,  22,  42,   8,\n",
       "           13,  85,  54,  39,  50,  54],\n",
       "         [  3,   7,   2,   4,   5,   2,   9,   7,   3,   9,   3,   8,   7,\n",
       "            3,   9,   6,   7,   7,   6,   2,   5,   8,   2,   4,   7,   5,\n",
       "            3,   9,   9,   4,   3,   5,   8,   1,   3,   5,   8,   7,   9,\n",
       "            1,   2,   7,   8,   2,   7,   6,   8,   6,   8,   3,   2,   1,\n",
       "            6,   6,   6,   7,   3,   4,   8,   1,   6,   5,   4,   1,   4,\n",
       "            8,   4,   5,   1,   1,   2,   3,   5,   4,   7,   1,   8,   7,\n",
       "            4,   8,   8,   7,   5,   3,   2,   9,   1,   3,   9,   6,   6,\n",
       "            6,   5,   1,   5,   6,   3,   8,   4,   4,   5,   5,   3,   1,\n",
       "            5,   4,   3,   5,   8,   9,   6,   5,   8,   2,   6,   1,   9,\n",
       "            4,   9,   2,   7,   5,   6,   2,   9,   8,   6,   2,   1,   9,\n",
       "            4,   1,   1,   5,   9,   2,   4,   5,   7,   7,   8,   1,   2,\n",
       "            1,   7,   5,   7,   5,   5,   3,   4,   2,   9,   8,   9,   8,\n",
       "            4,   9,   8,   8,   9,   1,   8,   6,   5,   8,   5,   3,   1,\n",
       "            5,   5,   6,   2,   6,   9,   3,   1,   6,   6,   5,   8,   7,\n",
       "            7,   6,   4,   3,   3,   3,   2,   5,   7,   9,   9,   5,   5,\n",
       "            8,   2,   3,   8,   1,   0]])},\n",
       " 42,\n",
       " False,\n",
       " {})"
      ]
     },
     "execution_count": 89,
     "metadata": {},
     "output_type": "execute_result"
    }
   ],
   "source": [
    "env.step(action)# call the step function of the env. and inspect quadruple of (state, reward, done, info)"
   ]
  },
  {
   "cell_type": "markdown",
   "metadata": {
    "id": "_dQ6sZJR-39K"
   },
   "source": [
    "**Task 3:**\n",
    "- Randomly interact with the envrionment for two episodes.  "
   ]
  },
  {
   "cell_type": "code",
   "execution_count": 133,
   "metadata": {
    "colab": {
     "base_uri": "https://localhost:8080/"
    },
    "id": "WkS_hnft-3A2",
    "outputId": "448fa484-b06b-43a6-c4e5-650e0bef88ae"
   },
   "outputs": [
    {
     "name": "stdout",
     "output_type": "stream",
     "text": [
      "\n",
      "EPISODE  0\n",
      "__________\n",
      "Action mask =\t 0\n",
      "Total weight sack =\t 80\n",
      "Number of items =\t 3\n",
      "Total reward =\t 0\n",
      "\n",
      "EPISODE  1\n",
      "__________\n",
      "Action mask =\t 0\n",
      "Total weight sack =\t 42\n",
      "Number of items =\t 5\n",
      "Total reward =\t 0\n"
     ]
    }
   ],
   "source": [
    "for episode in range(2):\n",
    "    state = env.reset()# get the starting state from the env.\n",
    "    total_reward = 0; weight = 0; nr_items = 0\n",
    "    done = False\n",
    "    print(\"\\nEPISODE \", episode)\n",
    "    print(\"__________\")\n",
    "    for step in range(99): \n",
    "        action = env.action_space.sample() # is the index of the items list\n",
    "        new_state, reward, done, info = env.step(action) #give the action to environment to obtain reward, and next state, \n",
    "        if done: # if the goal state is reached or bag is full. \n",
    "            print(\"Action mask =\\t\", new_state[\"action_mask\"][action]) # Chosen a item that exceeds the capacity\n",
    "            print(\"Total weight sack =\\t\", weight)\n",
    "            print(\"Number of items =\\t\", nr_items)\n",
    "            print(\"Total reward =\\t\", total_reward)         \n",
    "            \n",
    "            break\n",
    "        nr_items += 1\n",
    "        state = new_state\n",
    "        weight = state[\"state\"][0][action]\n",
    "env.close()"
   ]
  },
  {
   "cell_type": "markdown",
   "metadata": {
    "id": "JEtXMldxQ7uw"
   },
   "source": [
    "## Part 2: Q-Table 🗄️\n",
    "We will implement Q-learning algorithm to devise optimal policy for FrozenLake environment. "
   ]
  },
  {
   "cell_type": "markdown",
   "metadata": {},
   "source": [
    "**Task 4**\n",
    "- Create Q-table with `state space` as rows and `action space` as columns.\n",
    "state =16  action=4"
   ]
  },
  {
   "cell_type": "code",
   "execution_count": 25,
   "metadata": {
    "colab": {
     "base_uri": "https://localhost:8080/"
    },
    "id": "noM2G-NsF6Z9",
    "outputId": "c181f6f0-b3da-45af-aad8-de9ab638618b"
   },
   "outputs": [
    {
     "name": "stdout",
     "output_type": "stream",
     "text": [
      "[[0. 0. 0. 0.]\n",
      " [0. 0. 0. 0.]\n",
      " [0. 0. 0. 0.]\n",
      " [0. 0. 0. 0.]\n",
      " [0. 0. 0. 0.]\n",
      " [0. 0. 0. 0.]\n",
      " [0. 0. 0. 0.]\n",
      " [0. 0. 0. 0.]\n",
      " [0. 0. 0. 0.]\n",
      " [0. 0. 0. 0.]\n",
      " [0. 0. 0. 0.]\n",
      " [0. 0. 0. 0.]\n",
      " [0. 0. 0. 0.]\n",
      " [0. 0. 0. 0.]\n",
      " [0. 0. 0. 0.]\n",
      " [0. 0. 0. 0.]]\n"
     ]
    }
   ],
   "source": [
    "qtable = np.zeros((state_space, action_space))\n",
    "print(qtable)"
   ]
  },
  {
   "cell_type": "markdown",
   "metadata": {
    "id": "rcdaN_DbA3ES"
   },
   "source": [
    "## Part 3: The Q learning algorithm 🧠\n",
    "It is fine if you do not understand all the details at this point. Q-learning will be introduced in Lecture 3 of DRL part. \n",
    "\n"
   ]
  },
  {
   "cell_type": "markdown",
   "metadata": {
    "id": "Rh_0vS_dBPCY"
   },
   "source": [
    "Q learning is a off-policy algorithm. Meaning that the actions that are executed are different from the target actions that are used for learning. \n",
    "Epsilon-greedy policy – most likely selects the `greedy actions` but can select `random actions` too \n",
    "- Ensures explorations\n",
    "- Choose greedy action with 1- є (epsilon) \n",
    "- Choose random action with є (epsilon)"
   ]
  },
  {
   "cell_type": "code",
   "execution_count": 26,
   "metadata": {
    "id": "iBiRANB2AH3c"
   },
   "outputs": [],
   "source": [
    "def epsilon_greedy_policy(Q, state, epsilon): \n",
    "      # Q:          : state-action pair\n",
    "      # State (int) : current state\n",
    "      # eps (float): epsilon\n",
    "    action = 0\n",
    "    if random.uniform(0, 1) > epsilon: #exploitation\n",
    "        action = np.argmax(Q[state,:])\n",
    "    else: #exploration \n",
    "        action = env.action_space.sample()\n",
    "    return action"
   ]
  },
  {
   "cell_type": "markdown",
   "metadata": {
    "id": "cOB4TejJM4uA"
   },
   "source": [
    "\n",
    "The algorithm takes nine arguments:\n",
    "- `env`: This is an instance of an OpenAI Gym environment.\n",
    "- `total_episodes`: This is the number of episodes that are generated through agent-environment interaction.\n",
    "- `max_step`: This is the max number of interactions between agent and env. within a single episode.  \n",
    "- `epsilon`: This is to encourage exploration. Epsilon is decayed over time to discourage explortation and encourage exploitation once agent has explored different state. \n",
    "- `max_epsilon`: This is the maximum value of epsilon. \n",
    "- `min_epsilon`: This is the minimum value of epsilon. \n",
    "- `decay_rate`: This is the decay rate for epsilon. \n",
    "- `gamma`: This is the discount rate.  It must be a value between 0 and 1, inclusive (default value: `1`).\n",
    "- `plot_every`: This is additional argument to plot the cumulative reward against episodes. \n",
    "\n",
    "The algorithm returns as output:\n",
    "- `qtable`: This is an ndarray where `qtable[s][a]` is the estimated action value corresponding to state `s` and action `a`."
   ]
  },
  {
   "cell_type": "markdown",
   "metadata": {},
   "source": [
    "**Task 5**\n",
    "- Fill the missing code to complete the Q-learning implementation.\n",
    "- Write a condition to break the loop as soon as agent receives a reward of 0.78 or higher in 100 consecutive episodes."
   ]
  },
  {
   "cell_type": "code",
   "execution_count": 27,
   "metadata": {
    "id": "3cNXlxF6F4k1"
   },
   "outputs": [],
   "source": [
    "def q_learning(env, total_episodes, max_steps = 99, epsilon = 1.0, max_epsilon = 1.0, min_epsilon = 0.01, decay_rate = 0.005,  gamma=0.95, plot_every=100):\n",
    "    rewards = []   # List of rewards\n",
    "    tmp_scores = deque(maxlen=plot_every)     # deque for keeping track of scores\n",
    "    avg_scores = deque(maxlen=total_episodes)   # average scores over every plot_every episodes\n",
    "    for episode in range(total_episodes):\n",
    "        state = env.reset()#Reset the environment to the starting state \n",
    "        #step = 0 \n",
    "        done = False\n",
    "        total_rewards = 0 # collected reward within an episode\n",
    "        if episode % 100 == 0: #monitor progress\n",
    "            print(\"\\rEpisode {}/{}\".format(episode, total_episodes), end=\"\") \n",
    "        \n",
    "        for step in range(max_steps): \n",
    "            action = epsilon_greedy_policy(qtable, state, epsilon)# call the epsilon greedy policy to obtain the actions  \n",
    "            new_state, reward, done, info = env.step(action) #take the action and observe resulting reward and state. \n",
    "\n",
    "            # Update Q(s,a):= Q(s,a) + lr [R(s,a) + gamma * max Q(s',a') - Q(s,a)]\n",
    "            # qtable[new_state,:] : all the actions we can take from new state\n",
    "            qtable[state, action] = qtable[state, action] + learning_rate * (reward + gamma * np.max(qtable[new_state, :]) - qtable[state, action]) #update the qtable. np.max(qtable[new_state, :] is greedy action used for learning!. \n",
    "\n",
    "            total_rewards += reward # sum the rewards collected within an episode\n",
    "            state = new_state # Our new state is state\n",
    "            if done == True: #done is true when agent fall into hole or reached the goal state\n",
    "                tmp_scores.append(total_rewards)  #for plot\n",
    "                break\n",
    "        if (episode % plot_every == 0): #for plot\n",
    "            avg_scores.append(np.mean(tmp_scores))\n",
    "            \n",
    "            #....  #break the loop as soon as agent obtain the reward of 0.78 or higher in 100 consective episodes. \n",
    "        epsilon = min_epsilon + (max_epsilon - min_epsilon)*np.exp(-decay_rate*episode) # Reduce epsilon value to encourage expoitation and discouage exlortation \n",
    "        rewards.append(total_rewards)\n",
    "\n",
    "    # plot performance\n",
    "    plt.plot(np.linspace(0,total_episodes,len(avg_scores),endpoint=False), np.asarray(avg_scores))\n",
    "    plt.xlabel('Episode Number')\n",
    "    plt.ylabel('Average Reward (Over %d Episodes)' % plot_every)\n",
    "    plt.show()\n",
    "    # print best 100-episode performance\n",
    "    print(('Best Average Reward over %d Episodes: ' % plot_every), np.max(avg_scores))    \n",
    "    return qtable\n",
    "\n"
   ]
  },
  {
   "cell_type": "markdown",
   "metadata": {
    "id": "WEGeWKKsAu7X"
   },
   "source": [
    "## Part 4: Train the agent  🤖\n",
    "Here comes the real part. \n",
    "- We will train our agent using Q-learning algorithm defined above.   "
   ]
  },
  {
   "cell_type": "markdown",
   "metadata": {},
   "source": [
    "**Task 6**\n",
    "- Call the Q-learning algorithm with appropriate hyperparameter setting. \n",
    "- Find the hyper-parameters configuration  to solve the environment in fewer than 5000 training episodes. "
   ]
  },
  {
   "cell_type": "code",
   "execution_count": 28,
   "metadata": {
    "id": "FJhPxx7UAunE"
   },
   "outputs": [],
   "source": [
    "total_episodes = 20000       # Total episodes\n",
    "learning_rate = 0.2#7          # Learning rate\n",
    "max_steps = 99               # Max steps per episode\n",
    "gamma = 0.95                 # Discounting rate\n",
    "\n",
    "# Exploration parameters\n",
    "epsilon = 1.0                 # Exploration rate\n",
    "max_epsilon = 1.0             # Exploration probability at start\n",
    "min_epsilon = 0.01            # Minimum exploration probability \n",
    "decay_rate = 0.005            # Exponential decay rate for exploration prob"
   ]
  },
  {
   "cell_type": "code",
   "execution_count": 29,
   "metadata": {
    "colab": {
     "base_uri": "https://localhost:8080/",
     "height": 603
    },
    "id": "lGABCf7TGHRH",
    "outputId": "98e11365-ca70-4d52-c189-f13e0b466829"
   },
   "outputs": [
    {
     "name": "stdout",
     "output_type": "stream",
     "text": [
      "Episode 19900/20000"
     ]
    },
    {
     "data": {
      "image/png": "[encoded data removed]",
      "text/plain": [
       "<Figure size 432x288 with 1 Axes>"
      ]
     },
     "metadata": {
      "needs_background": "light"
     },
     "output_type": "display_data"
    },
    {
     "name": "stdout",
     "output_type": "stream",
     "text": [
      "Best Average Reward over 100 Episodes:  0.0\n"
     ]
    },
    {
     "data": {
      "text/plain": [
       "array([[0., 0., 0., 0.],\n",
       "       [0., 0., 0., 0.],\n",
       "       [0., 0., 0., 0.],\n",
       "       [0., 0., 0., 0.],\n",
       "       [0., 0., 0., 0.],\n",
       "       [0., 0., 0., 0.],\n",
       "       [0., 0., 0., 0.],\n",
       "       [0., 0., 0., 0.],\n",
       "       [0., 0., 0., 0.],\n",
       "       [0., 0., 0., 0.],\n",
       "       [0., 0., 0., 0.],\n",
       "       [0., 0., 0., 0.],\n",
       "       [0., 0., 0., 0.],\n",
       "       [0., 0., 0., 0.],\n",
       "       [0., 0., 0., 0.],\n",
       "       [0., 0., 0., 0.]])"
      ]
     },
     "execution_count": 29,
     "metadata": {},
     "output_type": "execute_result"
    }
   ],
   "source": [
    "q_learning(env, total_episodes, epsilon = 1.0, gamma=0.95, plot_every=100)"
   ]
  },
  {
   "cell_type": "markdown",
   "metadata": {
    "heading_collapsed": true,
    "id": "R5czk9qTBQIU"
   },
   "source": [
    "## Part 5: Action in Action! 🕹️\n",
    "- After training, the agent has develop a Q-table can be used to play FrozenLake. The Q-table tells agent which action to take in each state. \n",
    "- Run the code below to see our agent playing FrozenLake."
   ]
  },
  {
   "cell_type": "code",
   "execution_count": 31,
   "metadata": {
    "colab": {
     "base_uri": "https://localhost:8080/"
    },
    "hidden": true,
    "id": "Bt8UsREaBNkJ",
    "outputId": "8aa495fa-08e8-4044-e143-6d7c681a9817"
   },
   "outputs": [
    {
     "name": "stdout",
     "output_type": "stream",
     "text": [
      "********************\n",
      "EPISODE  0\n",
      "  (Left)\n",
      "SFFF\n",
      "FHFH\n",
      "FFFH\n",
      "\u001b[41mH\u001b[0mFFG\n",
      "Hole 💀\n",
      "Number of steps 15\n",
      "********************\n",
      "EPISODE  1\n",
      "  (Left)\n",
      "SFFF\n",
      "FHFH\n",
      "FFFH\n",
      "\u001b[41mH\u001b[0mFFG\n",
      "Hole 💀\n",
      "Number of steps 10\n",
      "********************\n",
      "EPISODE  2\n",
      "  (Left)\n",
      "SFFF\n",
      "FHFH\n",
      "FFFH\n",
      "\u001b[41mH\u001b[0mFFG\n",
      "Hole 💀\n",
      "Number of steps 38\n",
      "********************\n",
      "EPISODE  3\n",
      "  (Left)\n",
      "SFFF\n",
      "FHFH\n",
      "FFFH\n",
      "\u001b[41mH\u001b[0mFFG\n",
      "Hole 💀\n",
      "Number of steps 7\n",
      "********************\n",
      "EPISODE  4\n",
      "  (Left)\n",
      "SFFF\n",
      "FHFH\n",
      "FFFH\n",
      "\u001b[41mH\u001b[0mFFG\n",
      "Hole 💀\n",
      "Number of steps 8\n"
     ]
    }
   ],
   "source": [
    "env.reset()\n",
    "\n",
    "for episode in range(5):\n",
    "    state = env.reset()\n",
    "    step = 0\n",
    "    done = False\n",
    "    print(\"********************\")\n",
    "    print(\"EPISODE \", episode)\n",
    "    for step in range(max_steps):\n",
    "        action = np.argmax(qtable[state,:])# Take the action (index) with maximum expected future reward given that state\n",
    "        new_state, reward, done, info = env.step(action)\n",
    "        if done:\n",
    "            env.render()\n",
    "            if new_state == 15:\n",
    "                print(\"Goal 🏅\")\n",
    "            else:\n",
    "                print(\"Hole 💀\")            \n",
    "            # We print the number of step it took.\n",
    "            print(\"Number of steps\", step)            \n",
    "            break\n",
    "        state = new_state\n",
    "env.close()"
   ]
  },
  {
   "cell_type": "code",
   "execution_count": null,
   "metadata": {
    "hidden": true
   },
   "outputs": [],
   "source": []
  },
  {
   "cell_type": "code",
   "execution_count": null,
   "metadata": {},
   "outputs": [],
   "source": []
  },
  {
   "cell_type": "code",
   "execution_count": null,
   "metadata": {},
   "outputs": [],
   "source": []
  }
 ],
 "metadata": {
  "colab": {
   "collapsed_sections": [
    "RkMMK4kj5h74",
    "0fz-X3HTQueX",
    "JEtXMldxQ7uw",
    "rcdaN_DbA3ES",
    "WEGeWKKsAu7X",
    "R5czk9qTBQIU"
   ],
   "name": "Solving FrozenLake using Q-learning.ipynb",
   "provenance": []
  },
  "kernelspec": {
   "display_name": "Python 3",
   "language": "python",
   "name": "python3"
  },
  "language_info": {
   "codemirror_mode": {
    "name": "ipython",
    "version": 3
   },
   "file_extension": ".py",
   "mimetype": "text/x-python",
   "name": "python",
   "nbconvert_exporter": "python",
   "pygments_lexer": "ipython3",
   "version": "3.7.6"
  }
 },
 "nbformat": 4,
 "nbformat_minor": 1
}
