{
 "cells": [
  {
   "cell_type": "markdown",
   "id": "66a528e1",
   "metadata": {},
   "source": [
    "### blood pressure"
   ]
  },
  {
   "cell_type": "code",
   "execution_count": 1,
   "id": "2a1d8e32",
   "metadata": {},
   "outputs": [],
   "source": [
    "from simpful import *"
   ]
  },
  {
   "cell_type": "code",
   "execution_count": 2,
   "id": "2362a6a3",
   "metadata": {},
   "outputs": [
    {
     "name": "stdout",
     "output_type": "stream",
     "text": [
      "  ____  __  _  _  ____  ____  _  _  __   \n",
      " / ___)(  )( \\/ )(  _ \\(  __)/ )( \\(  ) v2.4.5 \n",
      " \\___ \\ )( / \\/ \\ ) __/ ) _) ) \\/ (/ (_/\\ \n",
      " (____/(__)\\_)(_/(__)  (__)  \\____/\\____/\n",
      "\n",
      " Created by Marco S. Nobile (m.s.nobile@tue.nl)\n",
      " and Simone Spolaor (simone.spolaor@unimib.it)\n",
      "\n"
     ]
    }
   ],
   "source": [
    "FS = FuzzySystem()"
   ]
  },
  {
   "cell_type": "markdown",
   "id": "dd8c8cf4",
   "metadata": {},
   "source": [
    "##### Fuzzy variables for the blood pressure"
   ]
  },
  {
   "cell_type": "code",
   "execution_count": 3,
   "id": "1c041ceb",
   "metadata": {},
   "outputs": [],
   "source": [
    "S_1 = FuzzySet(function=Trapezoidal_MF(a=100, b=100, c = 120, d = 130), term = \"Optimal\")\n",
    "S_2 = FuzzySet(function=Trapezoidal_MF(a=110, b=120, c = 130, d = 140), term = \"Average\")\n",
    "S_3 = FuzzySet(function=Trapezoidal_MF(a=120, b=130, c = 140, d = 150), term = \"High\")\n",
    "S_4 = FuzzySet(function=Trapezoidal_MF(a=130, b=140, c = 160, d = 170), term = \"Grade_1_hypertension\")\n",
    "S_5 = FuzzySet(function=Trapezoidal_MF(a=150, b=160, c = 180, d = 190), term = \"Grade_2_hypertension\")\n",
    "S_6 = FuzzySet(function=Sigmoid_MF(c=180, a =0.5 ), term = \"Grade_3_hypertension\")\n",
    "FS.add_linguistic_variable(\"Blood_pressure\", LinguisticVariable([S_1, S_2, S_3, S_4, S_5, S_6], concept=\"blood_pressure\", universe_of_discourse=[90,200]))"
   ]
  },
  {
   "cell_type": "code",
   "execution_count": 4,
   "id": "9a42b31d",
   "metadata": {},
   "outputs": [
    {
     "ename": "KeyError",
     "evalue": "'Blood pressure'",
     "output_type": "error",
     "traceback": [
      "\u001b[1;31m---------------------------------------------------------------------------\u001b[0m",
      "\u001b[1;31mKeyError\u001b[0m                                  Traceback (most recent call last)",
      "\u001b[1;32m<ipython-input-4-564983546854>\u001b[0m in \u001b[0;36m<module>\u001b[1;34m\u001b[0m\n\u001b[1;32m----> 1\u001b[1;33m \u001b[0mFS\u001b[0m\u001b[1;33m.\u001b[0m\u001b[0mplot_variable\u001b[0m\u001b[1;33m(\u001b[0m\u001b[1;34m\"Blood pressure\"\u001b[0m\u001b[1;33m)\u001b[0m\u001b[1;33m\u001b[0m\u001b[1;33m\u001b[0m\u001b[0m\n\u001b[0m",
      "\u001b[1;32m~\\anaconda3\\lib\\site-packages\\simpful\\simpful.py\u001b[0m in \u001b[0;36mplot_variable\u001b[1;34m(self, var_name, outputfile, TGT, highlight)\u001b[0m\n\u001b[0;32m    648\u001b[0m                         \u001b[0mhighlight\u001b[0m\u001b[1;33m:\u001b[0m \u001b[0mstring\u001b[0m\u001b[1;33m,\u001b[0m \u001b[0mindicating\u001b[0m \u001b[0mthe\u001b[0m \u001b[0mlinguistic\u001b[0m \u001b[0mterm\u001b[0m\u001b[1;33m/\u001b[0m\u001b[0mfuzzy\u001b[0m \u001b[0mset\u001b[0m \u001b[0mto\u001b[0m \u001b[0mhighlight\u001b[0m \u001b[1;32min\u001b[0m \u001b[0mthe\u001b[0m \u001b[0mplot\u001b[0m\u001b[1;33m.\u001b[0m\u001b[1;33m\u001b[0m\u001b[1;33m\u001b[0m\u001b[0m\n\u001b[0;32m    649\u001b[0m \t\t\"\"\"\n\u001b[1;32m--> 650\u001b[1;33m                 \u001b[0mself\u001b[0m\u001b[1;33m.\u001b[0m\u001b[0m_lvs\u001b[0m\u001b[1;33m[\u001b[0m\u001b[0mvar_name\u001b[0m\u001b[1;33m]\u001b[0m\u001b[1;33m.\u001b[0m\u001b[0mplot\u001b[0m\u001b[1;33m(\u001b[0m\u001b[0moutputfile\u001b[0m\u001b[1;33m=\u001b[0m\u001b[0moutputfile\u001b[0m\u001b[1;33m,\u001b[0m \u001b[0mTGT\u001b[0m\u001b[1;33m=\u001b[0m\u001b[0mTGT\u001b[0m\u001b[1;33m,\u001b[0m \u001b[0mhighlight\u001b[0m\u001b[1;33m=\u001b[0m\u001b[0mhighlight\u001b[0m\u001b[1;33m)\u001b[0m\u001b[1;33m\u001b[0m\u001b[1;33m\u001b[0m\u001b[0m\n\u001b[0m\u001b[0;32m    651\u001b[0m \u001b[1;33m\u001b[0m\u001b[0m\n\u001b[0;32m    652\u001b[0m \u001b[1;33m\u001b[0m\u001b[0m\n",
      "\u001b[1;31mKeyError\u001b[0m: 'Blood pressure'"
     ]
    }
   ],
   "source": [
    "FS.plot_variable(\"Blood_ pressure\")"
   ]
  },
  {
   "cell_type": "markdown",
   "id": "b339585a",
   "metadata": {},
   "source": [
    "#### Fuzzy variables for the blood pressure"
   ]
  },
  {
   "cell_type": "code",
   "execution_count": null,
   "id": "8d57e9a8",
   "metadata": {},
   "outputs": [],
   "source": [
    "H_1 = FuzzySet(function=Trapezoidal_MF(a=100, b=100, c = 120, d = 130), term = \"Optimal\")\n",
    "H_2 = FuzzySet(function=Trapezoidal_MF(a=110, b=120, c = 130, d = 140), term = \"Average\")\n",
    "H_3 = FuzzySet(function=Trapezoidal_MF(a=120, b=130, c = 140, d = 150), term = \"High\")\n",
    "H_4 = FuzzySet(function=Trapezoidal_MF(a=130, b=140, c = 160, d = 170), term = \"Grade 1 hypertension\")\n",
    "H_5 = FuzzySet(function=Trapezoidal_MF(a=150, b=160, c = 180, d = 190), term = \"Grade 2 hypertension\")\n",
    "H_6 = FuzzySet(function=Sigmoid_MF(c=180, a =0.5 ), term = \"Grade 3 hypertension\")\n",
    "FS.add_linguistic_variable(\"Heart_beat\", LinguisticVariable([H_1, H_2, H_3, H_4, H_5, H_6], concept=\"Heart_beat\", universe_of_discourse=[90,200]))"
   ]
  },
  {
   "cell_type": "code",
   "execution_count": null,
   "id": "00239ef2",
   "metadata": {},
   "outputs": [],
   "source": [
    "FS.plot_variable(\"Heart beat\")"
   ]
  },
  {
   "cell_type": "markdown",
   "id": "2b67b662",
   "metadata": {},
   "source": [
    "#### Fuzzy variables for the Glucose level"
   ]
  },
  {
   "cell_type": "code",
   "execution_count": null,
   "id": "cb9f6b1e",
   "metadata": {},
   "outputs": [],
   "source": [
    "G_1 = FuzzySet(function=Trapezoidal_MF(a=100, b=100, c = 120, d = 130), term = \"Optimal\")\n",
    "G_2 = FuzzySet(function=Trapezoidal_MF(a=110, b=120, c = 130, d = 140), term = \"Average\")\n",
    "G_3 = FuzzySet(function=Trapezoidal_MF(a=120, b=130, c = 140, d = 150), term = \"High\")\n",
    "G_4 = FuzzySet(function=Trapezoidal_MF(a=130, b=140, c = 160, d = 170), term = \"Grade 1 hypertension\")\n",
    "G_5 = FuzzySet(function=Trapezoidal_MF(a=150, b=160, c = 180, d = 190), term = \"Grade 2 hypertension\")\n",
    "G_6 = FuzzySet(function=Sigmoid_MF(c=180, a =0.5 ), term = \"Grade 3 hypertension\")\n",
    "FS.add_linguistic_variable(\"Glucose\", LinguisticVariable([G_1, G_2, G_3, G_4, G_5, G_6], concept=\"Glucose\", universe_of_discourse=[90,200]))"
   ]
  },
  {
   "cell_type": "code",
   "execution_count": null,
   "id": "1e733128",
   "metadata": {},
   "outputs": [],
   "source": [
    "FS.plot_variable(\"Glucose\")"
   ]
  },
  {
   "cell_type": "markdown",
   "id": "d32ae263",
   "metadata": {},
   "source": [
    "#### Fuzzy variables for the glucose level"
   ]
  },
  {
   "cell_type": "code",
   "execution_count": null,
   "id": "2569a94a",
   "metadata": {},
   "outputs": [],
   "source": [
    "G_1 = FuzzySet(function=Trapezoidal_MF(a=100, b=100, c = 120, d = 130), term = \"Optimal\")\n",
    "G_2 = FuzzySet(function=Trapezoidal_MF(a=110, b=120, c = 130, d = 140), term = \"Average\")\n",
    "G_3 = FuzzySet(function=Trapezoidal_MF(a=120, b=130, c = 140, d = 150), term = \"High\")\n",
    "G_4 = FuzzySet(function=Trapezoidal_MF(a=130, b=140, c = 160, d = 170), term = \"Grade 1 hypertension\")\n",
    "G_5 = FuzzySet(function=Trapezoidal_MF(a=150, b=160, c = 180, d = 190), term = \"Grade 2 hypertension\")\n",
    "G_6 = FuzzySet(function=Sigmoid_MF(c=180, a =0.5 ), term = \"Grade 3 hypertension\")\n",
    "FS.add_linguistic_variable(\"Leukocyte\", LinguisticVariable([G_1, G_2, G_3, G_4, G_5, G_6], concept=\"Leukocyte\", universe_of_discourse=[90,200]))"
   ]
  },
  {
   "cell_type": "code",
   "execution_count": null,
   "id": "1206a207",
   "metadata": {},
   "outputs": [],
   "source": [
    "FS.plot_variable(\"Leukocyte\")"
   ]
  },
  {
   "cell_type": "markdown",
   "id": "e9d7b25a",
   "metadata": {},
   "source": [
    "### output functions"
   ]
  },
  {
   "cell_type": "code",
   "execution_count": null,
   "id": "bed980a2",
   "metadata": {},
   "outputs": [],
   "source": [
    "T_1 = FuzzySet(function=Triangular_MF(a=0, b=0, c=30), term=\"Low prio\")\n",
    "T_2 = FuzzySet(function=Triangular_MF(a=30, b=50, c=60), term=\"Average prio\")\n",
    "T_3 = FuzzySet(function=Triangular_MF(a=60, b=80, c=90), term=\"High prio\")\n",
    "T_4 = FuzzySet(function=Trapezoidal_MF(a=90, b=100, c=100, d=100), term=\"Panic\")\n",
    "FS.add_linguistic_variable(\"Prio\", LinguisticVariable([T_1, T_2, T_3, T_4], universe_of_discourse=[0,100]))"
   ]
  },
  {
   "cell_type": "code",
   "execution_count": null,
   "id": "099b4b96",
   "metadata": {},
   "outputs": [],
   "source": [
    "FS.plot_variable(\"Prio\")"
   ]
  },
  {
   "cell_type": "markdown",
   "id": "11480d61",
   "metadata": {},
   "source": [
    "### Fuzzy rules"
   ]
  },
  {
   "cell_type": "code",
   "execution_count": null,
   "id": "ac6b66e4",
   "metadata": {},
   "outputs": [],
   "source": [
    "R1 = \"IF (Blood_pressure IS Grade_3_hypertension) THEN (Prio IS Panic)\"\n",
    "R2 = \"IF (Heart_beat IS High) THEN (Prio IS Panic)\"\n",
    "R3 = \"IF (Glucose IS High) THEN (Prio IS Panic)\"\n",
    "R4 = \"IF (Leukocyte IS High) THEN (Prio IS Panic)\"\n",
    "\n",
    "FS.add_rules([R1, R2, R3, R4])"
   ]
  },
  {
   "cell_type": "markdown",
   "id": "4345023f",
   "metadata": {},
   "source": [
    "### Setting variables and testing"
   ]
  },
  {
   "cell_type": "code",
   "execution_count": null,
   "id": "3a576c15",
   "metadata": {},
   "outputs": [],
   "source": [
    "FS.set_variable(\"Blood_pressure\", 180)\n",
    "FS.set_variable(\"Heart_beat\", 100)\n",
    "FS.set_variable(\"Glucose\", 100)\n",
    "FS.set_variable(\"Leukocyte\", 100)"
   ]
  },
  {
   "cell_type": "code",
   "execution_count": null,
   "id": "8964aa87",
   "metadata": {},
   "outputs": [],
   "source": [
    "print(FS.Mamdani_inference([\"Prio\"]))"
   ]
  },
  {
   "cell_type": "code",
   "execution_count": null,
   "id": "3e7031c1",
   "metadata": {},
   "outputs": [],
   "source": []
  },
  {
   "cell_type": "code",
   "execution_count": null,
   "id": "94f8f92c",
   "metadata": {},
   "outputs": [],
   "source": []
  }
 ],
 "metadata": {
  "kernelspec": {
   "display_name": "Python 3",
   "language": "python",
   "name": "python3"
  },
  "language_info": {
   "codemirror_mode": {
    "name": "ipython",
    "version": 3
   },
   "file_extension": ".py",
   "mimetype": "text/x-python",
   "name": "python",
   "nbconvert_exporter": "python",
   "pygments_lexer": "ipython3",
   "version": "3.8.8"
  }
 },
 "nbformat": 4,
 "nbformat_minor": 5
}
