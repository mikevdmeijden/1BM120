{
 "cells": [
  {
   "cell_type": "markdown",
   "metadata": {
    "id": "mhI1eNEXQCjK"
   },
   "source": [
    "# KnapsackV2 - Group 3\n",
    "1BM120"
   ]
  },
  {
   "cell_type": "code",
   "execution_count": 137,
   "metadata": {
    "id": "oU8zRXv8QHlm"
   },
   "outputs": [],
   "source": [
    "import numpy as np\n",
    "import gym\n",
    "import or_gym\n",
    "import random\n",
    "from math import sqrt\n",
    "from collections import deque\n",
    "import matplotlib.pyplot as plt\n",
    "import pandas as pd\n",
    "from mlxtend.plotting import scatterplotmatrix\n",
    "%matplotlib inline\n",
    "\n",
    "import tensorflow as tf\n",
    "from tensorflow import keras\n",
    "from tensorflow.keras import layers"
   ]
  },
  {
   "cell_type": "markdown",
   "metadata": {
    "id": "0fz-X3HTQueX"
   },
   "source": [
    "## Part 1: Explore Knapsack"
   ]
  },
  {
   "cell_type": "markdown",
   "metadata": {},
   "source": [
    " **Task 1:** \n",
    "- Create an instance of the environment\n",
    "- Print and plot the state and action space"
   ]
  },
  {
   "cell_type": "code",
   "execution_count": 138,
   "metadata": {
    "id": "mh9jBR_cQ5_a"
   },
   "outputs": [],
   "source": [
    "env = or_gym.make(\"Knapsack-v2\") # Create an  instance of the environment \n",
    "env.mask = False"
   ]
  },
  {
   "cell_type": "code",
   "execution_count": 143,
   "metadata": {},
   "outputs": [
    {
     "name": "stdout",
     "output_type": "stream",
     "text": [
      "Action space 200 \n",
      "\n",
      "Item: 0 \t ratio: 8.86 \t reward: 62 \t weight: 7 \t limit: 4\n",
      "Item: 1 \t ratio: 1.78 \t reward: 71 \t weight: 40 \t limit: 2\n",
      "Item: 2 \t ratio: 0.14 \t reward: 8 \t weight: 58 \t limit: 3\n",
      "Item: 3 \t ratio: 1.37 \t reward: 81 \t weight: 59 \t limit: 9\n",
      "Item: 4 \t ratio: 0.54 \t reward: 19 \t weight: 35 \t limit: 6\n",
      "Item: 5 \t ratio: 4.64 \t reward: 65 \t weight: 14 \t limit: 2\n",
      "Item: 6 \t ratio: 2.93 \t reward: 85 \t weight: 29 \t limit: 4\n",
      "Item: 7 \t ratio: 1.0 \t reward: 72 \t weight: 72 \t limit: 6\n",
      "Item: 8 \t ratio: 0.53 \t reward: 47 \t weight: 89 \t limit: 8\n",
      "Item: 9 \t ratio: 0.16 \t reward: 14 \t weight: 89 \t limit: 1\n",
      "Item: 10 \t ratio: 1.39 \t reward: 86 \t weight: 62 \t limit: 1\n",
      "Item: 11 \t ratio: 0.26 \t reward: 9 \t weight: 34 \t limit: 7\n",
      "Item: 12 \t ratio: 13.0 \t reward: 91 \t weight: 7 \t limit: 7\n",
      "Item: 13 \t ratio: 1.39 \t reward: 78 \t weight: 56 \t limit: 9\n",
      "Item: 14 \t ratio: 0.9 \t reward: 38 \t weight: 42 \t limit: 9\n",
      "Item: 15 \t ratio: 1.26 \t reward: 88 \t weight: 70 \t limit: 1\n",
      "Item: 16 \t ratio: 0.66 \t reward: 64 \t weight: 97 \t limit: 1\n",
      "Item: 17 \t ratio: 0.29 \t reward: 26 \t weight: 91 \t limit: 4\n",
      "Item: 18 \t ratio: 7.0 \t reward: 7 \t weight: 1 \t limit: 2\n",
      "Item: 19 \t ratio: 8.73 \t reward: 96 \t weight: 11 \t limit: 3\n",
      "Item: 20 \t ratio: 1.63 \t reward: 96 \t weight: 59 \t limit: 7\n",
      "Item: 21 \t ratio: 0.52 \t reward: 50 \t weight: 96 \t limit: 4\n",
      "Item: 22 \t ratio: 0.19 \t reward: 18 \t weight: 97 \t limit: 9\n",
      "Item: 23 \t ratio: 0.14 \t reward: 4 \t weight: 28 \t limit: 5\n",
      "Item: 24 \t ratio: 0.89 \t reward: 82 \t weight: 92 \t limit: 7\n",
      "Item: 25 \t ratio: 0.0 \t reward: 0 \t weight: 62 \t limit: 6\n",
      "Item: 26 \t ratio: 0.4 \t reward: 36 \t weight: 90 \t limit: 7\n",
      "Item: 27 \t ratio: 1.08 \t reward: 14 \t weight: 13 \t limit: 8\n",
      "Item: 28 \t ratio: 0.14 \t reward: 12 \t weight: 84 \t limit: 3\n",
      "Item: 29 \t ratio: 0.43 \t reward: 32 \t weight: 75 \t limit: 6\n",
      "Item: 30 \t ratio: 0.3 \t reward: 29 \t weight: 97 \t limit: 5\n",
      "Item: 31 \t ratio: 1.43 \t reward: 86 \t weight: 60 \t limit: 4\n",
      "Item: 32 \t ratio: 0.69 \t reward: 56 \t weight: 81 \t limit: 4\n",
      "Item: 33 \t ratio: 2.11 \t reward: 95 \t weight: 45 \t limit: 5\n",
      "Item: 34 \t ratio: 4.32 \t reward: 82 \t weight: 19 \t limit: 2\n",
      "Item: 35 \t ratio: 0.29 \t reward: 25 \t weight: 86 \t limit: 8\n",
      "Item: 36 \t ratio: 0.28 \t reward: 17 \t weight: 61 \t limit: 7\n",
      "Item: 37 \t ratio: 1.24 \t reward: 31 \t weight: 25 \t limit: 5\n",
      "Item: 38 \t ratio: 0.06 \t reward: 5 \t weight: 84 \t limit: 4\n",
      "Item: 39 \t ratio: 0.22 \t reward: 18 \t weight: 82 \t limit: 2\n",
      "Item: 40 \t ratio: 4.33 \t reward: 39 \t weight: 9 \t limit: 6\n",
      "Item: 41 \t ratio: 0.91 \t reward: 67 \t weight: 74 \t limit: 6\n",
      "Item: 42 \t ratio: 0.7 \t reward: 7 \t weight: 10 \t limit: 9\n",
      "Item: 43 \t ratio: 3.95 \t reward: 83 \t weight: 21 \t limit: 8\n",
      "Item: 44 \t ratio: 7.0 \t reward: 7 \t weight: 1 \t limit: 9\n",
      "Item: 45 \t ratio: 0.47 \t reward: 29 \t weight: 62 \t limit: 6\n",
      "Item: 46 \t ratio: 0.07 \t reward: 5 \t weight: 71 \t limit: 7\n",
      "Item: 47 \t ratio: 2.97 \t reward: 92 \t weight: 31 \t limit: 6\n",
      "Item: 48 \t ratio: 11.5 \t reward: 69 \t weight: 6 \t limit: 9\n",
      "Item: 49 \t ratio: 0.45 \t reward: 37 \t weight: 82 \t limit: 9\n",
      "Item: 50 \t ratio: 0.11 \t reward: 9 \t weight: 80 \t limit: 9\n",
      "Item: 51 \t ratio: 6.14 \t reward: 43 \t weight: 7 \t limit: 2\n",
      "Item: 52 \t ratio: 1.35 \t reward: 50 \t weight: 37 \t limit: 6\n",
      "Item: 53 \t ratio: 0.03 \t reward: 2 \t weight: 62 \t limit: 8\n",
      "Item: 54 \t ratio: 0.36 \t reward: 26 \t weight: 72 \t limit: 6\n",
      "Item: 55 \t ratio: 0.03 \t reward: 2 \t weight: 58 \t limit: 4\n",
      "Item: 56 \t ratio: 0.6 \t reward: 47 \t weight: 78 \t limit: 5\n",
      "Item: 57 \t ratio: 3.0 \t reward: 6 \t weight: 2 \t limit: 3\n",
      "Item: 58 \t ratio: 0.43 \t reward: 30 \t weight: 69 \t limit: 1\n",
      "Item: 59 \t ratio: 0.05 \t reward: 3 \t weight: 59 \t limit: 9\n",
      "Item: 60 \t ratio: 1.11 \t reward: 50 \t weight: 45 \t limit: 5\n",
      "Item: 61 \t ratio: 0.3 \t reward: 7 \t weight: 23 \t limit: 8\n",
      "Item: 62 \t ratio: 2.2 \t reward: 33 \t weight: 15 \t limit: 2\n",
      "Item: 63 \t ratio: 0.04 \t reward: 4 \t weight: 91 \t limit: 1\n",
      "Item: 64 \t ratio: 0.41 \t reward: 39 \t weight: 94 \t limit: 4\n",
      "Item: 65 \t ratio: 0.1 \t reward: 2 \t weight: 21 \t limit: 6\n",
      "Item: 66 \t ratio: 0.0 \t reward: 0 \t weight: 48 \t limit: 3\n",
      "Item: 67 \t ratio: 1.43 \t reward: 10 \t weight: 7 \t limit: 4\n",
      "Item: 68 \t ratio: 9.14 \t reward: 64 \t weight: 7 \t limit: 6\n",
      "Item: 69 \t ratio: 0.43 \t reward: 25 \t weight: 58 \t limit: 6\n",
      "Item: 70 \t ratio: 0.07 \t reward: 3 \t weight: 43 \t limit: 4\n",
      "Item: 71 \t ratio: 2.07 \t reward: 87 \t weight: 42 \t limit: 2\n",
      "Item: 72 \t ratio: 1.3 \t reward: 30 \t weight: 23 \t limit: 5\n",
      "Item: 73 \t ratio: 0.2 \t reward: 9 \t weight: 46 \t limit: 4\n",
      "Item: 74 \t ratio: 0.67 \t reward: 63 \t weight: 94 \t limit: 6\n",
      "Item: 75 \t ratio: 0.55 \t reward: 37 \t weight: 67 \t limit: 7\n",
      "Item: 76 \t ratio: 1.15 \t reward: 99 \t weight: 86 \t limit: 4\n",
      "Item: 77 \t ratio: 0.33 \t reward: 18 \t weight: 54 \t limit: 3\n",
      "Item: 78 \t ratio: 0.97 \t reward: 77 \t weight: 79 \t limit: 9\n",
      "Item: 79 \t ratio: 0.15 \t reward: 6 \t weight: 40 \t limit: 7\n",
      "Item: 80 \t ratio: 0.4 \t reward: 35 \t weight: 88 \t limit: 9\n",
      "Item: 81 \t ratio: 0.22 \t reward: 6 \t weight: 27 \t limit: 1\n",
      "Item: 82 \t ratio: 1.05 \t reward: 42 \t weight: 40 \t limit: 7\n",
      "Item: 83 \t ratio: 5.0 \t reward: 60 \t weight: 12 \t limit: 3\n",
      "Item: 84 \t ratio: 0.79 \t reward: 31 \t weight: 39 \t limit: 3\n",
      "Item: 85 \t ratio: 8.2 \t reward: 82 \t weight: 10 \t limit: 3\n",
      "Item: 86 \t ratio: 0.37 \t reward: 36 \t weight: 98 \t limit: 2\n",
      "Item: 87 \t ratio: 2.83 \t reward: 65 \t weight: 23 \t limit: 2\n",
      "Item: 88 \t ratio: 1.48 \t reward: 40 \t weight: 27 \t limit: 4\n",
      "Item: 89 \t ratio: 1.21 \t reward: 40 \t weight: 33 \t limit: 2\n",
      "Item: 90 \t ratio: 7.25 \t reward: 29 \t weight: 4 \t limit: 3\n",
      "Item: 91 \t ratio: 1.06 \t reward: 92 \t weight: 87 \t limit: 3\n",
      "Item: 92 \t ratio: 0.13 \t reward: 11 \t weight: 83 \t limit: 5\n",
      "Item: 93 \t ratio: 0.29 \t reward: 10 \t weight: 34 \t limit: 4\n",
      "Item: 94 \t ratio: 0.36 \t reward: 16 \t weight: 45 \t limit: 6\n",
      "Item: 95 \t ratio: 2.42 \t reward: 58 \t weight: 24 \t limit: 7\n",
      "Item: 96 \t ratio: 0.94 \t reward: 34 \t weight: 36 \t limit: 9\n",
      "Item: 97 \t ratio: 0.16 \t reward: 7 \t weight: 45 \t limit: 7\n",
      "Item: 98 \t ratio: 0.27 \t reward: 10 \t weight: 37 \t limit: 3\n",
      "Item: 99 \t ratio: 0.41 \t reward: 36 \t weight: 87 \t limit: 2\n",
      "Item: 100 \t ratio: 1.2 \t reward: 98 \t weight: 82 \t limit: 3\n",
      "Item: 101 \t ratio: 1.52 \t reward: 99 \t weight: 65 \t limit: 3\n",
      "Item: 102 \t ratio: 0.1 \t reward: 8 \t weight: 79 \t limit: 5\n",
      "Item: 103 \t ratio: 1.74 \t reward: 87 \t weight: 50 \t limit: 5\n",
      "Item: 104 \t ratio: 0.89 \t reward: 72 \t weight: 81 \t limit: 9\n",
      "Item: 105 \t ratio: 1.13 \t reward: 77 \t weight: 68 \t limit: 7\n",
      "Item: 106 \t ratio: 0.08 \t reward: 4 \t weight: 48 \t limit: 6\n",
      "Item: 107 \t ratio: 0.33 \t reward: 32 \t weight: 96 \t limit: 1\n",
      "Item: 108 \t ratio: 0.72 \t reward: 70 \t weight: 97 \t limit: 1\n",
      "Item: 109 \t ratio: 7.07 \t reward: 99 \t weight: 14 \t limit: 9\n",
      "Item: 110 \t ratio: 1.03 \t reward: 63 \t weight: 61 \t limit: 7\n",
      "Item: 111 \t ratio: 0.34 \t reward: 22 \t weight: 65 \t limit: 4\n",
      "Item: 112 \t ratio: 2.29 \t reward: 87 \t weight: 38 \t limit: 2\n",
      "Item: 113 \t ratio: 1.78 \t reward: 57 \t weight: 32 \t limit: 8\n",
      "Item: 114 \t ratio: 3.22 \t reward: 58 \t weight: 18 \t limit: 3\n",
      "Item: 115 \t ratio: 0.91 \t reward: 63 \t weight: 69 \t limit: 1\n",
      "Item: 116 \t ratio: 2.02 \t reward: 87 \t weight: 43 \t limit: 9\n",
      "Item: 117 \t ratio: 0.86 \t reward: 73 \t weight: 85 \t limit: 7\n",
      "Item: 118 \t ratio: 6.19 \t reward: 99 \t weight: 16 \t limit: 5\n",
      "Item: 119 \t ratio: 3.31 \t reward: 86 \t weight: 26 \t limit: 7\n",
      "Item: 120 \t ratio: 2.47 \t reward: 37 \t weight: 15 \t limit: 1\n",
      "Item: 121 \t ratio: 0.72 \t reward: 36 \t weight: 50 \t limit: 1\n",
      "Item: 122 \t ratio: 1.38 \t reward: 76 \t weight: 55 \t limit: 5\n",
      "Item: 123 \t ratio: 0.84 \t reward: 42 \t weight: 50 \t limit: 7\n",
      "Item: 124 \t ratio: 0.29 \t reward: 20 \t weight: 69 \t limit: 4\n",
      "Item: 125 \t ratio: 0.87 \t reward: 83 \t weight: 95 \t limit: 3\n",
      "Item: 126 \t ratio: 8.4 \t reward: 42 \t weight: 5 \t limit: 5\n",
      "Item: 127 \t ratio: 3.34 \t reward: 97 \t weight: 29 \t limit: 9\n",
      "Item: 128 \t ratio: 1.77 \t reward: 69 \t weight: 39 \t limit: 7\n",
      "Item: 129 \t ratio: 0.82 \t reward: 47 \t weight: 57 \t limit: 7\n",
      "Item: 130 \t ratio: 11.38 \t reward: 91 \t weight: 8 \t limit: 9\n",
      "Item: 131 \t ratio: 0.93 \t reward: 40 \t weight: 43 \t limit: 7\n",
      "Item: 132 \t ratio: 5.5 \t reward: 11 \t weight: 2 \t limit: 2\n",
      "Item: 133 \t ratio: 0.31 \t reward: 23 \t weight: 74 \t limit: 4\n",
      "Item: 134 \t ratio: 0.39 \t reward: 34 \t weight: 87 \t limit: 8\n",
      "Item: 135 \t ratio: 3.83 \t reward: 92 \t weight: 24 \t limit: 5\n",
      "Item: 136 \t ratio: 0.8 \t reward: 8 \t weight: 10 \t limit: 9\n",
      "Item: 137 \t ratio: 0.78 \t reward: 36 \t weight: 46 \t limit: 8\n",
      "Item: 138 \t ratio: 2.0 \t reward: 2 \t weight: 1 \t limit: 5\n",
      "Item: 139 \t ratio: 0.08 \t reward: 2 \t weight: 25 \t limit: 3\n",
      "Item: 140 \t ratio: 0.71 \t reward: 36 \t weight: 51 \t limit: 5\n",
      "Item: 141 \t ratio: 1.43 \t reward: 76 \t weight: 53 \t limit: 6\n",
      "Item: 142 \t ratio: 0.85 \t reward: 60 \t weight: 71 \t limit: 6\n",
      "Item: 143 \t ratio: 1.41 \t reward: 76 \t weight: 54 \t limit: 9\n",
      "Item: 144 \t ratio: 12.17 \t reward: 73 \t weight: 6 \t limit: 5\n",
      "Item: 145 \t ratio: 1.45 \t reward: 77 \t weight: 53 \t limit: 1\n",
      "Item: 146 \t ratio: 0.97 \t reward: 29 \t weight: 30 \t limit: 1\n",
      "Item: 147 \t ratio: 1.0 \t reward: 72 \t weight: 72 \t limit: 2\n",
      "Item: 148 \t ratio: 16.33 \t reward: 98 \t weight: 6 \t limit: 7\n",
      "Item: 149 \t ratio: 0.99 \t reward: 94 \t weight: 95 \t limit: 3\n",
      "Item: 150 \t ratio: 3.6 \t reward: 90 \t weight: 25 \t limit: 9\n",
      "Item: 151 \t ratio: 0.44 \t reward: 44 \t weight: 99 \t limit: 8\n",
      "Item: 152 \t ratio: 1.84 \t reward: 46 \t weight: 25 \t limit: 4\n",
      "Item: 153 \t ratio: 0.8 \t reward: 28 \t weight: 35 \t limit: 5\n",
      "Item: 154 \t ratio: 1.18 \t reward: 86 \t weight: 73 \t limit: 9\n",
      "Item: 155 \t ratio: 7.0 \t reward: 77 \t weight: 11 \t limit: 9\n",
      "Item: 156 \t ratio: 1.26 \t reward: 39 \t weight: 31 \t limit: 7\n",
      "Item: 157 \t ratio: 1.93 \t reward: 85 \t weight: 44 \t limit: 8\n",
      "Item: 158 \t ratio: 0.58 \t reward: 38 \t weight: 65 \t limit: 5\n",
      "Item: 159 \t ratio: 5.14 \t reward: 72 \t weight: 14 \t limit: 9\n",
      "Item: 160 \t ratio: 0.27 \t reward: 9 \t weight: 33 \t limit: 6\n",
      "Item: 161 \t ratio: 0.72 \t reward: 57 \t weight: 79 \t limit: 7\n",
      "Item: 162 \t ratio: 0.37 \t reward: 23 \t weight: 63 \t limit: 6\n",
      "Item: 163 \t ratio: 0.81 \t reward: 79 \t weight: 98 \t limit: 5\n",
      "Item: 164 \t ratio: 0.11 \t reward: 6 \t weight: 53 \t limit: 2\n",
      "Item: 165 \t ratio: 0.82 \t reward: 49 \t weight: 60 \t limit: 2\n",
      "Item: 166 \t ratio: 0.14 \t reward: 12 \t weight: 86 \t limit: 1\n",
      "Item: 167 \t ratio: 0.73 \t reward: 66 \t weight: 91 \t limit: 5\n",
      "Item: 168 \t ratio: 1.78 \t reward: 82 \t weight: 46 \t limit: 9\n",
      "Item: 169 \t ratio: 0.14 \t reward: 11 \t weight: 78 \t limit: 6\n",
      "Item: 170 \t ratio: 2.0 \t reward: 40 \t weight: 20 \t limit: 8\n",
      "Item: 171 \t ratio: 1.46 \t reward: 89 \t weight: 61 \t limit: 2\n",
      "Item: 172 \t ratio: 2.5 \t reward: 40 \t weight: 16 \t limit: 6\n",
      "Item: 173 \t ratio: 0.97 \t reward: 69 \t weight: 71 \t limit: 7\n",
      "Item: 174 \t ratio: 0.33 \t reward: 15 \t weight: 45 \t limit: 6\n",
      "Item: 175 \t ratio: 0.51 \t reward: 48 \t weight: 95 \t limit: 4\n",
      "Item: 176 \t ratio: 0.28 \t reward: 17 \t weight: 60 \t limit: 2\n",
      "Item: 177 \t ratio: 1.07 \t reward: 79 \t weight: 74 \t limit: 3\n",
      "Item: 178 \t ratio: 0.37 \t reward: 27 \t weight: 73 \t limit: 8\n",
      "Item: 179 \t ratio: 1.08 \t reward: 85 \t weight: 79 \t limit: 5\n",
      "Item: 180 \t ratio: 1.35 \t reward: 92 \t weight: 68 \t limit: 4\n",
      "Item: 181 \t ratio: 2.36 \t reward: 52 \t weight: 22 \t limit: 1\n",
      "Item: 182 \t ratio: 0.4 \t reward: 17 \t weight: 43 \t limit: 2\n",
      "Item: 183 \t ratio: 2.75 \t reward: 11 \t weight: 4 \t limit: 2\n",
      "Item: 184 \t ratio: 0.16 \t reward: 15 \t weight: 91 \t limit: 6\n",
      "Item: 185 \t ratio: 1.98 \t reward: 95 \t weight: 48 \t limit: 1\n",
      "Item: 186 \t ratio: 4.56 \t reward: 82 \t weight: 18 \t limit: 2\n",
      "Item: 187 \t ratio: 2.47 \t reward: 89 \t weight: 36 \t limit: 6\n",
      "Item: 188 \t ratio: 0.18 \t reward: 10 \t weight: 57 \t limit: 4\n",
      "Item: 189 \t ratio: 0.36 \t reward: 25 \t weight: 70 \t limit: 7\n",
      "Item: 190 \t ratio: 14.67 \t reward: 88 \t weight: 6 \t limit: 2\n",
      "Item: 191 \t ratio: 15.2 \t reward: 76 \t weight: 5 \t limit: 6\n",
      "Item: 192 \t ratio: 0.41 \t reward: 39 \t weight: 94 \t limit: 9\n",
      "Item: 193 \t ratio: 1.68 \t reward: 32 \t weight: 19 \t limit: 4\n",
      "Item: 194 \t ratio: 0.09 \t reward: 8 \t weight: 86 \t limit: 5\n",
      "Item: 195 \t ratio: 0.06 \t reward: 3 \t weight: 51 \t limit: 5\n",
      "Item: 196 \t ratio: 2.71 \t reward: 19 \t weight: 7 \t limit: 4\n",
      "Item: 197 \t ratio: 1.0 \t reward: 71 \t weight: 71 \t limit: 2\n",
      "Item: 198 \t ratio: 0.08 \t reward: 6 \t weight: 71 \t limit: 2\n",
      "Item: 199 \t ratio: 17.75 \t reward: 71 \t weight: 4 \t limit: 8\n"
     ]
    }
   ],
   "source": [
    "state = env.reset()\n",
    "action_space = env.action_space.n\n",
    "print('Action space', action_space, \"\\n\")\n",
    "for item in range(env.N):\n",
    "    print(\"Item: {} \\t ratio: {} \\t reward: {} \\t weight: {} \\t limit: {}\".format(item, round(state[1][item] / state[0][item],2), state[1][item], state[0][item], state[2][item]))"
   ]
  },
  {
   "cell_type": "code",
   "execution_count": 141,
   "metadata": {},
   "outputs": [
    {
     "data": {
      "image/png": "[encoded data removed]",
      "text/plain": [
       "<Figure size 1080x360 with 3 Axes>"
      ]
     },
     "metadata": {
      "needs_background": "light"
     },
     "output_type": "display_data"
    }
   ],
   "source": [
    "# Plot of the state space\n",
    "\n",
    "fig, (ax1, ax2, ax3) = plt.subplots(1,3, figsize=(15, 5))\n",
    "\n",
    "ax1.hist(state_space[0])\n",
    "ax1.set_title(\"Items weight\")\n",
    "\n",
    "ax2.hist(state_space[1])\n",
    "ax2.set_title(\"Items value\")\n",
    "\n",
    "ax3.hist(state_space[2])\n",
    "ax3.set_title(\"Items limit\")\n",
    "\n",
    "plt.show()"
   ]
  },
  {
   "cell_type": "code",
   "execution_count": 142,
   "metadata": {},
   "outputs": [
    {
     "data": {
      "image/png": "[encoded data removed]",
      "text/plain": [
       "<Figure size 1080x504 with 9 Axes>"
      ]
     },
     "metadata": {
      "needs_background": "light"
     },
     "output_type": "display_data"
    }
   ],
   "source": [
    "X = np.array([state_space[0], state_space[1], state_space[2]]).T\n",
    "scatterplotmatrix(X, figsize=(15, 7), names = [\"Items weights\", \"Items value\", \"Items limit\"])\n",
    "plt.tight_layout()\n",
    "plt.show()"
   ]
  },
  {
   "cell_type": "markdown",
   "metadata": {},
   "source": [
    "**Task 2:**\n",
    "- Sample an action from the environment.\n",
    "- Call the step function and inspect the outputs."
   ]
  },
  {
   "cell_type": "markdown",
   "metadata": {
    "id": "_dQ6sZJR-39K"
   },
   "source": [
    "**Task 3:**\n",
    "- Randomly interact with the envrionment for two episodes.  "
   ]
  },
  {
   "cell_type": "code",
   "execution_count": 147,
   "metadata": {
    "colab": {
     "base_uri": "https://localhost:8080/"
    },
    "id": "WkS_hnft-3A2",
    "outputId": "448fa484-b06b-43a6-c4e5-650e0bef88ae"
   },
   "outputs": [
    {
     "name": "stdout",
     "output_type": "stream",
     "text": [
      "\n",
      "EPISODE  0\n",
      "__________\n",
      "Item 54 with a reward of 26\n",
      "Item 20 with a reward of 96\n",
      "Item 48 with a reward of 69\n",
      "Item 84 with a reward of 31\n",
      "Item 74 with a reward of 0\n",
      "\n",
      "Item 74 exceeded the limit which has a weight of 94\n",
      "Total weight sack =\t 176\n",
      "Number of items =\t 4\n",
      "Total reward =\t 222\n",
      "\n",
      "EPISODE  1\n",
      "__________\n",
      "Item 79 with a reward of 6\n",
      "Item 106 with a reward of 4\n",
      "Item 74 with a reward of 63\n",
      "Item 97 with a reward of 0\n",
      "\n",
      "Item 97 exceeded the limit which has a weight of 45\n",
      "Total weight sack =\t 182\n",
      "Number of items =\t 3\n",
      "Total reward =\t 73\n"
     ]
    }
   ],
   "source": [
    "for episode in range(2):\n",
    "    state = env.reset()# get the starting state from the env.\n",
    "    total_reward = 0; weight = 0; nr_items = 0\n",
    "    done = False\n",
    "    print(\"\\nEPISODE \", episode)\n",
    "    print(\"__________\")\n",
    "    for step in range(99): \n",
    "        action = env.action_space.sample() # is the index of the items list\n",
    "        new_state, reward, done, info = env.step(action) #give the action to environment to obtain reward, and next state, \n",
    "        #print(new_state)\n",
    "        p = env.observation_space[\"avail_actions\"]\n",
    "        print(\"Item {} with a reward of {}\".format(action, reward))\n",
    "        if done: # if the goal state is reached or bag is full. \n",
    "            print(\"\\nItem {} exceeded the limit which has a weight of {}\".format(action, new_state[0][action])) # Chosen a item that exceeds the capacity\n",
    "            print(\"Total weight sack =\\t\", env.current_weight)\n",
    "            print(\"Number of items =\\t\", nr_items)\n",
    "            print(\"Total reward =\\t\", total_reward)         \n",
    "            \n",
    "            break\n",
    "        nr_items += 1\n",
    "        total_reward += reward\n",
    "        state = new_state\n",
    "        weight = state[0][action]\n",
    "env.close()"
   ]
  },
  {
   "cell_type": "markdown",
   "metadata": {},
   "source": [
    "### Neural network"
   ]
  },
  {
   "cell_type": "markdown",
   "metadata": {
    "id": "rcdaN_DbA3ES"
   },
   "source": [
    "## Model training 🧠"
   ]
  },
  {
   "cell_type": "markdown",
   "metadata": {},
   "source": [
    "Parameters:"
   ]
  },
  {
   "cell_type": "code",
   "execution_count": null,
   "metadata": {},
   "outputs": [],
   "source": [
    "TRAIN_EPSISODES = 10_000\n",
    "TEST_EPSISODES = 100\n",
    "LEARNING_RATE = 0.4 \n",
    "DISCOUNT_RATE = 0.9 \n",
    "MIN_REPLAY_SIZE = 250\n",
    "BATCH_SIZE = 100 # Number of items to be sampled\n",
    "FACTOR = 2 # How much one wants to punish or prize high rewards\n",
    "HIGH_PER = 10 # The high and low percentage of rewards in the replay memory\n",
    "MAX_EPSILON = 1 # You can't explore more than 100% of the time\n",
    "MIN_EPSILON = 0.01 # At a minimum, we'll always explore 1% of the time\n",
    "DECAY = 0.0005 # How fast the epsilon decays"
   ]
  },
  {
   "cell_type": "markdown",
   "metadata": {},
   "source": [
    "Import model and functions"
   ]
  },
  {
   "cell_type": "code",
   "execution_count": null,
   "metadata": {},
   "outputs": [],
   "source": []
  },
  {
   "cell_type": "code",
   "execution_count": 130,
   "metadata": {},
   "outputs": [],
   "source": [
    "def line_plot(data, title = \"\", subtitle = \"\", ylabel = \"\", file_name = \"output\", line_thick = 1):\n",
    "    \"\"\"\n",
    "    LINEPLOTTER\n",
    "    \n",
    "    data: must be of type list, multilist or dictionary\n",
    "    title: Title on the top of the figure (type = str)\n",
    "    subtitle: Extra title (type = str)\n",
    "    ylabel: Name of the ylabel (type = str)\n",
    "    file_name: name of the file, saved in your current directory (type = str)\n",
    "    line_thick: thickness of the lines\n",
    "    \"\"\"\n",
    "    plt.figure(figsize=(15, 7)) # Figure size\n",
    "    other_font = {'fontname': 'arial'} # Font type\n",
    "\n",
    "    if isinstance(data, list):\n",
    "        if isinstance(data[0], list): # Multilist\n",
    "            i = 1\n",
    "            for output in data:\n",
    "                plt.plot(range(len(output)), output, linewidth = line_thick, label = \"Scenario \" + str(i))\n",
    "                i += 1\n",
    "        else: # List\n",
    "            plt.plot(range(len(data)), data, linewidth = line_thick)\n",
    "    \n",
    "    elif isinstance(data, dict):\n",
    "        for output, label in zip(list(data.values()), list(data.keys())):\n",
    "            plt.plot(range(len(output)), output, linewidth = line_thick, label = label)\n",
    "    else:\n",
    "        print(\"{} are not allowed, only lists, multilists and dictionaries are allowed\".format(type(data)))\n",
    "    \n",
    "    # Styling\n",
    "    plt.ylabel(ylabel, fontsize = 16, ** other_font)\n",
    "    plt.xlabel(\"Episodes\", fontsize = 16, ** other_font)\n",
    "    plt.title(title, loc='left', fontsize=20, fontweight = \"bold\", ** other_font)\n",
    "    plt.title(subtitle, loc='right', fontsize=14, color='dimgray', ** other_font)\n",
    "    plt.legend(loc = 1, edgecolor = 'white')\n",
    "    plt.savefig(file_name + \".jpg\")\n",
    "    plt.show()"
   ]
  },
  {
   "cell_type": "code",
   "execution_count": 145,
   "metadata": {},
   "outputs": [],
   "source": [
    "item_count = env.N\n",
    "from tensorflow.keras import Input, Sequential\n",
    "from tensorflow.keras.layers import Dense\n",
    "model = Sequential()\n",
    "model.add(Dense(item_count * 3, activation=\"relu\", input_shape=(item_count,)))\n",
    "model.add(Dense(item_count * 2, activation=\"relu\"))\n",
    "model.add(Dense(item_count, activation=\"relu\"))"
   ]
  },
  {
   "cell_type": "markdown",
   "metadata": {
    "id": "JEtXMldxQ7uw"
   },
   "source": [
    "## Part 2: Q-Table 🗄️\n",
    "We will implement Q-learning algorithm to devise optimal policy for FrozenLake environment. "
   ]
  },
  {
   "cell_type": "code",
   "execution_count": null,
   "metadata": {
    "id": "iBiRANB2AH3c"
   },
   "outputs": [],
   "source": [
    "def epsilon_greedy_policy(Q, state, epsilon): \n",
    "      # Q:          : state-action pair\n",
    "      # State (int) : current state\n",
    "      # eps (float): epsilon\n",
    "    action = 0\n",
    "    if random.uniform(0, 1) > epsilon: #exploitation\n",
    "        action = np.argmax(Q[state,:])\n",
    "    else: #exploration \n",
    "        action = env.action_space.sample()\n",
    "    return action"
   ]
  },
  {
   "cell_type": "markdown",
   "metadata": {
    "id": "cOB4TejJM4uA"
   },
   "source": [
    "\n",
    "The algorithm takes nine arguments:\n",
    "- `env`: This is an instance of an OpenAI Gym environment.\n",
    "- `total_episodes`: This is the number of episodes that are generated through agent-environment interaction.\n",
    "- `max_step`: This is the max number of interactions between agent and env. within a single episode.  \n",
    "- `epsilon`: This is to encourage exploration. Epsilon is decayed over time to discourage explortation and encourage exploitation once agent has explored different state. \n",
    "- `max_epsilon`: This is the maximum value of epsilon. \n",
    "- `min_epsilon`: This is the minimum value of epsilon. \n",
    "- `decay_rate`: This is the decay rate for epsilon. \n",
    "- `gamma`: This is the discount rate.  It must be a value between 0 and 1, inclusive (default value: `1`).\n",
    "- `plot_every`: This is additional argument to plot the cumulative reward against episodes. \n",
    "\n",
    "The algorithm returns as output:\n",
    "- `qtable`: This is an ndarray where `qtable[s][a]` is the estimated action value corresponding to state `s` and action `a`."
   ]
  },
  {
   "cell_type": "markdown",
   "metadata": {},
   "source": [
    "**Task 5**\n",
    "- Fill the missing code to complete the Q-learning implementation.\n",
    "- Write a condition to break the loop as soon as agent receives a reward of 0.78 or higher in 100 consecutive episodes."
   ]
  },
  {
   "cell_type": "code",
   "execution_count": null,
   "metadata": {
    "id": "3cNXlxF6F4k1"
   },
   "outputs": [],
   "source": [
    "def q_learning(env, total_episodes, max_steps = 99, epsilon = 1.0, max_epsilon = 1.0, min_epsilon = 0.01, decay_rate = 0.005,  gamma=0.95, plot_every=100):\n",
    "    rewards = []   # List of rewards\n",
    "    tmp_scores = deque(maxlen=plot_every)     # deque for keeping track of scores\n",
    "    avg_scores = deque(maxlen=total_episodes)   # average scores over every plot_every episodes\n",
    "    for episode in range(total_episodes):\n",
    "        state = env.reset()#Reset the environment to the starting state \n",
    "        #step = 0 \n",
    "        done = False\n",
    "        total_rewards = 0 # collected reward within an episode\n",
    "        if episode % 100 == 0: #monitor progress\n",
    "            print(\"\\rEpisode {}/{}\".format(episode, total_episodes), end=\"\") \n",
    "        \n",
    "        for step in range(max_steps): \n",
    "            action = epsilon_greedy_policy(qtable, state, epsilon)# call the epsilon greedy policy to obtain the actions  \n",
    "            new_state, reward, done, info = env.step(action) #take the action and observe resulting reward and state. \n",
    "\n",
    "            # Update Q(s,a):= Q(s,a) + lr [R(s,a) + gamma * max Q(s',a') - Q(s,a)]\n",
    "            # qtable[new_state,:] : all the actions we can take from new state\n",
    "            qtable[state, action] = qtable[state, action] + learning_rate * (reward + gamma * np.max(qtable[new_state, :]) - qtable[state, action]) #update the qtable. np.max(qtable[new_state, :] is greedy action used for learning!. \n",
    "\n",
    "            total_rewards += reward # sum the rewards collected within an episode\n",
    "            state = new_state # Our new state is state\n",
    "            if done == True: #done is true when agent fall into hole or reached the goal state\n",
    "                tmp_scores.append(total_rewards)  #for plot\n",
    "                break\n",
    "        if (episode % plot_every == 0): #for plot\n",
    "            avg_scores.append(np.mean(tmp_scores))\n",
    "            \n",
    "            #....  #break the loop as soon as agent obtain the reward of 0.78 or higher in 100 consective episodes. \n",
    "        epsilon = min_epsilon + (max_epsilon - min_epsilon)*np.exp(-decay_rate*episode) # Reduce epsilon value to encourage expoitation and discouage exlortation \n",
    "        rewards.append(total_rewards)\n",
    "\n",
    "    # plot performance\n",
    "    plt.plot(np.linspace(0,total_episodes,len(avg_scores),endpoint=False), np.asarray(avg_scores))\n",
    "    plt.xlabel('Episode Number')\n",
    "    plt.ylabel('Average Reward (Over %d Episodes)' % plot_every)\n",
    "    plt.show()\n",
    "    # print best 100-episode performance\n",
    "    print(('Best Average Reward over %d Episodes: ' % plot_every), np.max(avg_scores))    \n",
    "    return qtable\n",
    "\n"
   ]
  },
  {
   "cell_type": "markdown",
   "metadata": {
    "id": "WEGeWKKsAu7X"
   },
   "source": [
    "## Part 4: Train the agent  🤖\n",
    "Here comes the real part. \n",
    "- We will train our agent using Q-learning algorithm defined above.   "
   ]
  },
  {
   "cell_type": "markdown",
   "metadata": {},
   "source": [
    "**Task 6**\n",
    "- Call the Q-learning algorithm with appropriate hyperparameter setting. \n",
    "- Find the hyper-parameters configuration  to solve the environment in fewer than 5000 training episodes. "
   ]
  },
  {
   "cell_type": "code",
   "execution_count": null,
   "metadata": {
    "id": "FJhPxx7UAunE"
   },
   "outputs": [],
   "source": [
    "total_episodes = 20000       # Total episodes\n",
    "learning_rate = 0.2#7          # Learning rate\n",
    "max_steps = 99               # Max steps per episode\n",
    "gamma = 0.95                 # Discounting rate\n",
    "\n",
    "# Exploration parameters\n",
    "epsilon = 1.0                 # Exploration rate\n",
    "max_epsilon = 1.0             # Exploration probability at start\n",
    "min_epsilon = 0.01            # Minimum exploration probability \n",
    "decay_rate = 0.005            # Exponential decay rate for exploration prob"
   ]
  },
  {
   "cell_type": "code",
   "execution_count": null,
   "metadata": {
    "colab": {
     "base_uri": "https://localhost:8080/",
     "height": 603
    },
    "id": "lGABCf7TGHRH",
    "outputId": "98e11365-ca70-4d52-c189-f13e0b466829"
   },
   "outputs": [],
   "source": [
    "q_learning(env, total_episodes, epsilon = 1.0, gamma=0.95, plot_every=100)"
   ]
  },
  {
   "cell_type": "markdown",
   "metadata": {
    "heading_collapsed": true,
    "id": "R5czk9qTBQIU"
   },
   "source": [
    "## Part 5: Action in Action! 🕹️\n",
    "- After training, the agent has develop a Q-table can be used to play FrozenLake. The Q-table tells agent which action to take in each state. \n",
    "- Run the code below to see our agent playing FrozenLake."
   ]
  },
  {
   "cell_type": "code",
   "execution_count": null,
   "metadata": {
    "colab": {
     "base_uri": "https://localhost:8080/"
    },
    "hidden": true,
    "id": "Bt8UsREaBNkJ",
    "outputId": "8aa495fa-08e8-4044-e143-6d7c681a9817"
   },
   "outputs": [],
   "source": [
    "env.reset()\n",
    "\n",
    "for episode in range(5):\n",
    "    state = env.reset()\n",
    "    step = 0\n",
    "    done = False\n",
    "    print(\"********************\")\n",
    "    print(\"EPISODE \", episode)\n",
    "    for step in range(max_steps):\n",
    "        action = np.argmax(qtable[state,:])# Take the action (index) with maximum expected future reward given that state\n",
    "        new_state, reward, done, info = env.step(action)\n",
    "        if done:\n",
    "            env.render()\n",
    "            if new_state == 15:\n",
    "                print(\"Goal 🏅\")\n",
    "            else:\n",
    "                print(\"Hole 💀\")            \n",
    "            # We print the number of step it took.\n",
    "            print(\"Number of steps\", step)            \n",
    "            break\n",
    "        state = new_state\n",
    "env.close()"
   ]
  },
  {
   "cell_type": "code",
   "execution_count": null,
   "metadata": {
    "hidden": true
   },
   "outputs": [],
   "source": []
  },
  {
   "cell_type": "code",
   "execution_count": null,
   "metadata": {},
   "outputs": [],
   "source": []
  },
  {
   "cell_type": "code",
   "execution_count": null,
   "metadata": {},
   "outputs": [],
   "source": []
  }
 ],
 "metadata": {
  "colab": {
   "collapsed_sections": [
    "RkMMK4kj5h74",
    "0fz-X3HTQueX",
    "JEtXMldxQ7uw",
    "rcdaN_DbA3ES",
    "WEGeWKKsAu7X",
    "R5czk9qTBQIU"
   ],
   "name": "Solving FrozenLake using Q-learning.ipynb",
   "provenance": []
  },
  "kernelspec": {
   "display_name": "Python 3",
   "language": "python",
   "name": "python3"
  },
  "language_info": {
   "codemirror_mode": {
    "name": "ipython",
    "version": 3
   },
   "file_extension": ".py",
   "mimetype": "text/x-python",
   "name": "python",
   "nbconvert_exporter": "python",
   "pygments_lexer": "ipython3",
   "version": "3.7.6"
  }
 },
 "nbformat": 4,
 "nbformat_minor": 1
}
